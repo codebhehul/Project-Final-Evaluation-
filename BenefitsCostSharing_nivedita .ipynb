{
 "cells": [
  {
   "cell_type": "code",
   "execution_count": 1,
   "id": "23a632d0",
   "metadata": {},
   "outputs": [
    {
     "name": "stderr",
     "output_type": "stream",
     "text": [
      "C:\\Users\\user\\AppData\\Local\\Temp\\ipykernel_7280\\2895800241.py:16: DtypeWarning: Columns (3,6,9,10,16,17,18) have mixed types. Specify dtype option on import or set low_memory=False.\n",
      "  benefits_df = pd.read_csv('BenefitsCostSharing.csv')\n"
     ]
    }
   ],
   "source": [
    "import pandas as pd\n",
    "#import matplotlib.pyplot as plt\n",
    "#import seaborn as sns\n",
    "#from scipy import stats\n",
    "#from sklearn.model_selection import train_test_split, GridSearchCV, cross_val_score\n",
    "#from sklearn.linear_model import LinearRegression\n",
    "#from sklearn.ensemble import RandomForestRegressor, GradientBoostingRegressor\n",
    "#from sklearn.metrics import mean_squared_error, mean_absolute_error, r2_score\n",
    "#import numpy as np\n",
    "#from scipy import stats\n",
    "#import statsmodels.api as sm \n",
    "\n",
    "import os\n",
    "os.chdir(r'E:\\machineLearning')\n",
    "\n",
    "benefits_df = pd.read_csv('BenefitsCostSharing.csv') "
   ]
  },
  {
   "cell_type": "code",
   "execution_count": 2,
   "id": "505137c3",
   "metadata": {},
   "outputs": [
    {
     "data": {
      "text/html": [
       "<div>\n",
       "<style scoped>\n",
       "    .dataframe tbody tr th:only-of-type {\n",
       "        vertical-align: middle;\n",
       "    }\n",
       "\n",
       "    .dataframe tbody tr th {\n",
       "        vertical-align: top;\n",
       "    }\n",
       "\n",
       "    .dataframe thead th {\n",
       "        text-align: right;\n",
       "    }\n",
       "</style>\n",
       "<table border=\"1\" class=\"dataframe\">\n",
       "  <thead>\n",
       "    <tr style=\"text-align: right;\">\n",
       "      <th></th>\n",
       "      <th>BenefitName</th>\n",
       "      <th>BusinessYear</th>\n",
       "      <th>CoinsInnTier1</th>\n",
       "      <th>CoinsInnTier2</th>\n",
       "      <th>CoinsOutofNet</th>\n",
       "      <th>CopayInnTier1</th>\n",
       "      <th>CopayInnTier2</th>\n",
       "      <th>CopayOutofNet</th>\n",
       "      <th>EHBVarReason</th>\n",
       "      <th>Exclusions</th>\n",
       "      <th>...</th>\n",
       "      <th>LimitUnit</th>\n",
       "      <th>MinimumStay</th>\n",
       "      <th>PlanId</th>\n",
       "      <th>QuantLimitOnSvc</th>\n",
       "      <th>RowNumber</th>\n",
       "      <th>SourceName</th>\n",
       "      <th>StandardComponentId</th>\n",
       "      <th>StateCode</th>\n",
       "      <th>StateCode2</th>\n",
       "      <th>VersionNum</th>\n",
       "    </tr>\n",
       "  </thead>\n",
       "  <tbody>\n",
       "    <tr>\n",
       "      <th>0</th>\n",
       "      <td>Routine Dental Services (Adult)</td>\n",
       "      <td>2014</td>\n",
       "      <td>20%</td>\n",
       "      <td>NaN</td>\n",
       "      <td>20%</td>\n",
       "      <td>No Charge</td>\n",
       "      <td>NaN</td>\n",
       "      <td>No Charge</td>\n",
       "      <td>Above EHB</td>\n",
       "      <td>NaN</td>\n",
       "      <td>...</td>\n",
       "      <td>Dollars per Year</td>\n",
       "      <td>NaN</td>\n",
       "      <td>21989AK0010001-00</td>\n",
       "      <td>Yes</td>\n",
       "      <td>68</td>\n",
       "      <td>HIOS</td>\n",
       "      <td>21989AK0010001</td>\n",
       "      <td>AK</td>\n",
       "      <td>AK</td>\n",
       "      <td>6</td>\n",
       "    </tr>\n",
       "    <tr>\n",
       "      <th>1</th>\n",
       "      <td>Dental Check-Up for Children</td>\n",
       "      <td>2014</td>\n",
       "      <td>20%</td>\n",
       "      <td>NaN</td>\n",
       "      <td>20%</td>\n",
       "      <td>No Charge</td>\n",
       "      <td>NaN</td>\n",
       "      <td>No Charge</td>\n",
       "      <td>Substantially Equal</td>\n",
       "      <td>NaN</td>\n",
       "      <td>...</td>\n",
       "      <td>Visit(s) per 6 Months</td>\n",
       "      <td>NaN</td>\n",
       "      <td>21989AK0010001-00</td>\n",
       "      <td>Yes</td>\n",
       "      <td>104</td>\n",
       "      <td>HIOS</td>\n",
       "      <td>21989AK0010001</td>\n",
       "      <td>AK</td>\n",
       "      <td>AK</td>\n",
       "      <td>6</td>\n",
       "    </tr>\n",
       "    <tr>\n",
       "      <th>2</th>\n",
       "      <td>Basic Dental Care - Child</td>\n",
       "      <td>2014</td>\n",
       "      <td>40%</td>\n",
       "      <td>NaN</td>\n",
       "      <td>40%</td>\n",
       "      <td>No Charge</td>\n",
       "      <td>NaN</td>\n",
       "      <td>No Charge</td>\n",
       "      <td>Substantially Equal</td>\n",
       "      <td>NaN</td>\n",
       "      <td>...</td>\n",
       "      <td>NaN</td>\n",
       "      <td>NaN</td>\n",
       "      <td>21989AK0010001-00</td>\n",
       "      <td>NaN</td>\n",
       "      <td>110</td>\n",
       "      <td>HIOS</td>\n",
       "      <td>21989AK0010001</td>\n",
       "      <td>AK</td>\n",
       "      <td>AK</td>\n",
       "      <td>6</td>\n",
       "    </tr>\n",
       "    <tr>\n",
       "      <th>3</th>\n",
       "      <td>Orthodontia - Child</td>\n",
       "      <td>2014</td>\n",
       "      <td>50%</td>\n",
       "      <td>NaN</td>\n",
       "      <td>50%</td>\n",
       "      <td>No Charge</td>\n",
       "      <td>NaN</td>\n",
       "      <td>No Charge</td>\n",
       "      <td>Additional EHB Benefit</td>\n",
       "      <td>NaN</td>\n",
       "      <td>...</td>\n",
       "      <td>NaN</td>\n",
       "      <td>NaN</td>\n",
       "      <td>21989AK0010001-00</td>\n",
       "      <td>NaN</td>\n",
       "      <td>111</td>\n",
       "      <td>HIOS</td>\n",
       "      <td>21989AK0010001</td>\n",
       "      <td>AK</td>\n",
       "      <td>AK</td>\n",
       "      <td>6</td>\n",
       "    </tr>\n",
       "    <tr>\n",
       "      <th>4</th>\n",
       "      <td>Major Dental Care - Child</td>\n",
       "      <td>2014</td>\n",
       "      <td>50%</td>\n",
       "      <td>NaN</td>\n",
       "      <td>50%</td>\n",
       "      <td>No Charge</td>\n",
       "      <td>NaN</td>\n",
       "      <td>No Charge</td>\n",
       "      <td>Substantially Equal</td>\n",
       "      <td>NaN</td>\n",
       "      <td>...</td>\n",
       "      <td>NaN</td>\n",
       "      <td>NaN</td>\n",
       "      <td>21989AK0010001-00</td>\n",
       "      <td>NaN</td>\n",
       "      <td>112</td>\n",
       "      <td>HIOS</td>\n",
       "      <td>21989AK0010001</td>\n",
       "      <td>AK</td>\n",
       "      <td>AK</td>\n",
       "      <td>6</td>\n",
       "    </tr>\n",
       "  </tbody>\n",
       "</table>\n",
       "<p>5 rows × 32 columns</p>\n",
       "</div>"
      ],
      "text/plain": [
       "                       BenefitName  BusinessYear CoinsInnTier1 CoinsInnTier2  \\\n",
       "0  Routine Dental Services (Adult)          2014           20%           NaN   \n",
       "1     Dental Check-Up for Children          2014           20%           NaN   \n",
       "2        Basic Dental Care - Child          2014           40%           NaN   \n",
       "3              Orthodontia - Child          2014           50%           NaN   \n",
       "4        Major Dental Care - Child          2014           50%           NaN   \n",
       "\n",
       "  CoinsOutofNet CopayInnTier1 CopayInnTier2 CopayOutofNet  \\\n",
       "0           20%     No Charge           NaN     No Charge   \n",
       "1           20%     No Charge           NaN     No Charge   \n",
       "2           40%     No Charge           NaN     No Charge   \n",
       "3           50%     No Charge           NaN     No Charge   \n",
       "4           50%     No Charge           NaN     No Charge   \n",
       "\n",
       "             EHBVarReason Exclusions  ...              LimitUnit MinimumStay  \\\n",
       "0               Above EHB        NaN  ...       Dollars per Year         NaN   \n",
       "1     Substantially Equal        NaN  ...  Visit(s) per 6 Months         NaN   \n",
       "2     Substantially Equal        NaN  ...                    NaN         NaN   \n",
       "3  Additional EHB Benefit        NaN  ...                    NaN         NaN   \n",
       "4     Substantially Equal        NaN  ...                    NaN         NaN   \n",
       "\n",
       "              PlanId QuantLimitOnSvc RowNumber SourceName StandardComponentId  \\\n",
       "0  21989AK0010001-00             Yes        68       HIOS      21989AK0010001   \n",
       "1  21989AK0010001-00             Yes       104       HIOS      21989AK0010001   \n",
       "2  21989AK0010001-00             NaN       110       HIOS      21989AK0010001   \n",
       "3  21989AK0010001-00             NaN       111       HIOS      21989AK0010001   \n",
       "4  21989AK0010001-00             NaN       112       HIOS      21989AK0010001   \n",
       "\n",
       "  StateCode StateCode2  VersionNum  \n",
       "0        AK         AK           6  \n",
       "1        AK         AK           6  \n",
       "2        AK         AK           6  \n",
       "3        AK         AK           6  \n",
       "4        AK         AK           6  \n",
       "\n",
       "[5 rows x 32 columns]"
      ]
     },
     "execution_count": 2,
     "metadata": {},
     "output_type": "execute_result"
    }
   ],
   "source": [
    "benefits_df.head()"
   ]
  },
  {
   "cell_type": "code",
   "execution_count": 3,
   "id": "affbdac8",
   "metadata": {},
   "outputs": [
    {
     "data": {
      "text/plain": [
       "(5048408, 32)"
      ]
     },
     "execution_count": 3,
     "metadata": {},
     "output_type": "execute_result"
    }
   ],
   "source": [
    "benefits_df.shape"
   ]
  },
  {
   "cell_type": "code",
   "execution_count": 4,
   "id": "e41c81df",
   "metadata": {},
   "outputs": [
    {
     "data": {
      "text/plain": [
       "Index(['BenefitName', 'BusinessYear', 'CoinsInnTier1', 'CoinsInnTier2',\n",
       "       'CoinsOutofNet', 'CopayInnTier1', 'CopayInnTier2', 'CopayOutofNet',\n",
       "       'EHBVarReason', 'Exclusions', 'Explanation', 'ImportDate', 'IsCovered',\n",
       "       'IsEHB', 'IsExclFromInnMOOP', 'IsExclFromOonMOOP', 'IsStateMandate',\n",
       "       'IsSubjToDedTier1', 'IsSubjToDedTier2', 'IssuerId', 'IssuerId2',\n",
       "       'LimitQty', 'LimitUnit', 'MinimumStay', 'PlanId', 'QuantLimitOnSvc',\n",
       "       'RowNumber', 'SourceName', 'StandardComponentId', 'StateCode',\n",
       "       'StateCode2', 'VersionNum'],\n",
       "      dtype='object')"
      ]
     },
     "execution_count": 4,
     "metadata": {},
     "output_type": "execute_result"
    }
   ],
   "source": [
    "benefits_df.columns"
   ]
  },
  {
   "cell_type": "code",
   "execution_count": 5,
   "id": "0cf433a7",
   "metadata": {},
   "outputs": [
    {
     "name": "stdout",
     "output_type": "stream",
     "text": [
      "<class 'pandas.core.frame.DataFrame'>\n",
      "RangeIndex: 5048408 entries, 0 to 5048407\n",
      "Data columns (total 32 columns):\n",
      " #   Column               Dtype  \n",
      "---  ------               -----  \n",
      " 0   BenefitName          object \n",
      " 1   BusinessYear         int64  \n",
      " 2   CoinsInnTier1        object \n",
      " 3   CoinsInnTier2        object \n",
      " 4   CoinsOutofNet        object \n",
      " 5   CopayInnTier1        object \n",
      " 6   CopayInnTier2        object \n",
      " 7   CopayOutofNet        object \n",
      " 8   EHBVarReason         object \n",
      " 9   Exclusions           object \n",
      " 10  Explanation          object \n",
      " 11  ImportDate           object \n",
      " 12  IsCovered            object \n",
      " 13  IsEHB                object \n",
      " 14  IsExclFromInnMOOP    object \n",
      " 15  IsExclFromOonMOOP    object \n",
      " 16  IsStateMandate       object \n",
      " 17  IsSubjToDedTier1     object \n",
      " 18  IsSubjToDedTier2     object \n",
      " 19  IssuerId             int64  \n",
      " 20  IssuerId2            int64  \n",
      " 21  LimitQty             float64\n",
      " 22  LimitUnit            object \n",
      " 23  MinimumStay          float64\n",
      " 24  PlanId               object \n",
      " 25  QuantLimitOnSvc      object \n",
      " 26  RowNumber            int64  \n",
      " 27  SourceName           object \n",
      " 28  StandardComponentId  object \n",
      " 29  StateCode            object \n",
      " 30  StateCode2           object \n",
      " 31  VersionNum           int64  \n",
      "dtypes: float64(2), int64(5), object(25)\n",
      "memory usage: 1.2+ GB\n"
     ]
    }
   ],
   "source": [
    "benefits_df.info()"
   ]
  },
  {
   "cell_type": "code",
   "execution_count": 6,
   "id": "4eb28805",
   "metadata": {},
   "outputs": [
    {
     "data": {
      "text/html": [
       "<div>\n",
       "<style scoped>\n",
       "    .dataframe tbody tr th:only-of-type {\n",
       "        vertical-align: middle;\n",
       "    }\n",
       "\n",
       "    .dataframe tbody tr th {\n",
       "        vertical-align: top;\n",
       "    }\n",
       "\n",
       "    .dataframe thead th {\n",
       "        text-align: right;\n",
       "    }\n",
       "</style>\n",
       "<table border=\"1\" class=\"dataframe\">\n",
       "  <thead>\n",
       "    <tr style=\"text-align: right;\">\n",
       "      <th></th>\n",
       "      <th>BusinessYear</th>\n",
       "      <th>IssuerId</th>\n",
       "      <th>IssuerId2</th>\n",
       "      <th>LimitQty</th>\n",
       "      <th>MinimumStay</th>\n",
       "      <th>RowNumber</th>\n",
       "      <th>VersionNum</th>\n",
       "    </tr>\n",
       "  </thead>\n",
       "  <tbody>\n",
       "    <tr>\n",
       "      <th>count</th>\n",
       "      <td>5.048408e+06</td>\n",
       "      <td>5.048408e+06</td>\n",
       "      <td>5.048408e+06</td>\n",
       "      <td>687683.000000</td>\n",
       "      <td>16727.000000</td>\n",
       "      <td>5.048408e+06</td>\n",
       "      <td>5.048408e+06</td>\n",
       "    </tr>\n",
       "    <tr>\n",
       "      <th>mean</th>\n",
       "      <td>2.015127e+03</td>\n",
       "      <td>5.220360e+04</td>\n",
       "      <td>5.220360e+04</td>\n",
       "      <td>142.399374</td>\n",
       "      <td>47.937048</td>\n",
       "      <td>9.839018e+01</td>\n",
       "      <td>7.637094e+00</td>\n",
       "    </tr>\n",
       "    <tr>\n",
       "      <th>std</th>\n",
       "      <td>7.563664e-01</td>\n",
       "      <td>2.592498e+04</td>\n",
       "      <td>2.592498e+04</td>\n",
       "      <td>1723.372817</td>\n",
       "      <td>5.892297</td>\n",
       "      <td>2.177890e+01</td>\n",
       "      <td>3.803627e+00</td>\n",
       "    </tr>\n",
       "    <tr>\n",
       "      <th>min</th>\n",
       "      <td>2.014000e+03</td>\n",
       "      <td>1.004600e+04</td>\n",
       "      <td>1.004600e+04</td>\n",
       "      <td>1.000000</td>\n",
       "      <td>5.000000</td>\n",
       "      <td>6.100000e+01</td>\n",
       "      <td>1.000000e+00</td>\n",
       "    </tr>\n",
       "    <tr>\n",
       "      <th>25%</th>\n",
       "      <td>2.015000e+03</td>\n",
       "      <td>3.253600e+04</td>\n",
       "      <td>3.253600e+04</td>\n",
       "      <td>1.000000</td>\n",
       "      <td>48.000000</td>\n",
       "      <td>8.000000e+01</td>\n",
       "      <td>5.000000e+00</td>\n",
       "    </tr>\n",
       "    <tr>\n",
       "      <th>50%</th>\n",
       "      <td>2.015000e+03</td>\n",
       "      <td>4.839600e+04</td>\n",
       "      <td>4.839600e+04</td>\n",
       "      <td>20.000000</td>\n",
       "      <td>48.000000</td>\n",
       "      <td>9.900000e+01</td>\n",
       "      <td>7.000000e+00</td>\n",
       "    </tr>\n",
       "    <tr>\n",
       "      <th>75%</th>\n",
       "      <td>2.016000e+03</td>\n",
       "      <td>7.498000e+04</td>\n",
       "      <td>7.498000e+04</td>\n",
       "      <td>40.000000</td>\n",
       "      <td>48.000000</td>\n",
       "      <td>1.170000e+02</td>\n",
       "      <td>9.000000e+00</td>\n",
       "    </tr>\n",
       "    <tr>\n",
       "      <th>max</th>\n",
       "      <td>2.016000e+03</td>\n",
       "      <td>9.996900e+04</td>\n",
       "      <td>9.996900e+04</td>\n",
       "      <td>75000.000000</td>\n",
       "      <td>90.000000</td>\n",
       "      <td>1.560000e+02</td>\n",
       "      <td>2.400000e+01</td>\n",
       "    </tr>\n",
       "  </tbody>\n",
       "</table>\n",
       "</div>"
      ],
      "text/plain": [
       "       BusinessYear      IssuerId     IssuerId2       LimitQty   MinimumStay  \\\n",
       "count  5.048408e+06  5.048408e+06  5.048408e+06  687683.000000  16727.000000   \n",
       "mean   2.015127e+03  5.220360e+04  5.220360e+04     142.399374     47.937048   \n",
       "std    7.563664e-01  2.592498e+04  2.592498e+04    1723.372817      5.892297   \n",
       "min    2.014000e+03  1.004600e+04  1.004600e+04       1.000000      5.000000   \n",
       "25%    2.015000e+03  3.253600e+04  3.253600e+04       1.000000     48.000000   \n",
       "50%    2.015000e+03  4.839600e+04  4.839600e+04      20.000000     48.000000   \n",
       "75%    2.016000e+03  7.498000e+04  7.498000e+04      40.000000     48.000000   \n",
       "max    2.016000e+03  9.996900e+04  9.996900e+04   75000.000000     90.000000   \n",
       "\n",
       "          RowNumber    VersionNum  \n",
       "count  5.048408e+06  5.048408e+06  \n",
       "mean   9.839018e+01  7.637094e+00  \n",
       "std    2.177890e+01  3.803627e+00  \n",
       "min    6.100000e+01  1.000000e+00  \n",
       "25%    8.000000e+01  5.000000e+00  \n",
       "50%    9.900000e+01  7.000000e+00  \n",
       "75%    1.170000e+02  9.000000e+00  \n",
       "max    1.560000e+02  2.400000e+01  "
      ]
     },
     "execution_count": 6,
     "metadata": {},
     "output_type": "execute_result"
    }
   ],
   "source": [
    "benefits_df.describe()"
   ]
  },
  {
   "cell_type": "code",
   "execution_count": 7,
   "id": "ae97fff2",
   "metadata": {},
   "outputs": [],
   "source": [
    "# Update the BusinessYear column to 2022\n",
    "benefits_df['BusinessYear'] = 2022"
   ]
  },
  {
   "cell_type": "code",
   "execution_count": 8,
   "id": "6e2c8911",
   "metadata": {},
   "outputs": [
    {
     "name": "stdout",
     "output_type": "stream",
     "text": [
      "[2022]\n"
     ]
    }
   ],
   "source": [
    "# Verify the changes\n",
    "print(benefits_df['BusinessYear'].unique())"
   ]
  },
  {
   "cell_type": "code",
   "execution_count": null,
   "id": "d18bf02a",
   "metadata": {},
   "outputs": [],
   "source": []
  },
  {
   "cell_type": "code",
   "execution_count": 9,
   "id": "961e7ab2",
   "metadata": {},
   "outputs": [
    {
     "data": {
      "text/plain": [
       "BenefitName                  0\n",
       "BusinessYear                 0\n",
       "CoinsInnTier1          1113847\n",
       "CoinsInnTier2          4571587\n",
       "CoinsOutofNet          1113847\n",
       "CopayInnTier1          1113847\n",
       "CopayInnTier2          4571587\n",
       "CopayOutofNet          1113849\n",
       "EHBVarReason           3020737\n",
       "Exclusions             4572247\n",
       "Explanation            4075700\n",
       "ImportDate                   0\n",
       "IsCovered               215980\n",
       "IsEHB                  1817362\n",
       "IsExclFromInnMOOP       983986\n",
       "IsExclFromOonMOOP       982626\n",
       "IsStateMandate         4250463\n",
       "IsSubjToDedTier1       2465877\n",
       "IsSubjToDedTier2       2466054\n",
       "IssuerId                     0\n",
       "IssuerId2                    0\n",
       "LimitQty               4360725\n",
       "LimitUnit              4360539\n",
       "MinimumStay            5031681\n",
       "PlanId                       0\n",
       "QuantLimitOnSvc        3264532\n",
       "RowNumber                    0\n",
       "SourceName                   0\n",
       "StandardComponentId          0\n",
       "StateCode                    0\n",
       "StateCode2                   0\n",
       "VersionNum                   0\n",
       "dtype: int64"
      ]
     },
     "execution_count": 9,
     "metadata": {},
     "output_type": "execute_result"
    }
   ],
   "source": [
    "# Check for missing values\n",
    "missing_values = benefits_df.isnull().sum()\n",
    "missing_values"
   ]
  },
  {
   "cell_type": "code",
   "execution_count": 10,
   "id": "2d09ea3e",
   "metadata": {},
   "outputs": [
    {
     "data": {
      "text/plain": [
       "BenefitName             0.00\n",
       "BusinessYear            0.00\n",
       "CoinsInnTier1          22.06\n",
       "CoinsInnTier2          90.56\n",
       "CoinsOutofNet          22.06\n",
       "CopayInnTier1          22.06\n",
       "CopayInnTier2          90.56\n",
       "CopayOutofNet          22.06\n",
       "EHBVarReason           59.84\n",
       "Exclusions             90.57\n",
       "Explanation            80.73\n",
       "ImportDate              0.00\n",
       "IsCovered               4.28\n",
       "IsEHB                  36.00\n",
       "IsExclFromInnMOOP      19.49\n",
       "IsExclFromOonMOOP      19.46\n",
       "IsStateMandate         84.19\n",
       "IsSubjToDedTier1       48.84\n",
       "IsSubjToDedTier2       48.85\n",
       "IssuerId                0.00\n",
       "IssuerId2               0.00\n",
       "LimitQty               86.38\n",
       "LimitUnit              86.37\n",
       "MinimumStay            99.67\n",
       "PlanId                  0.00\n",
       "QuantLimitOnSvc        64.66\n",
       "RowNumber               0.00\n",
       "SourceName              0.00\n",
       "StandardComponentId     0.00\n",
       "StateCode               0.00\n",
       "StateCode2              0.00\n",
       "VersionNum              0.00\n",
       "dtype: float64"
      ]
     },
     "execution_count": 10,
     "metadata": {},
     "output_type": "execute_result"
    }
   ],
   "source": [
    "# Calculate the percentage of missing values in each column\n",
    "missing_percentage = round(benefits_df.isnull().mean() * 100, 2)\n",
    "missing_percentage"
   ]
  },
  {
   "cell_type": "code",
   "execution_count": 11,
   "id": "d84830e2",
   "metadata": {},
   "outputs": [],
   "source": [
    "# Drop columns with very high missing values\n",
    "columns_to_drop = [\n",
    "    'CoinsInnTier2', 'CopayInnTier2', 'Exclusions', \n",
    "    'IsStateMandate', 'LimitQty', 'LimitUnit', 'MinimumStay'\n",
    "]\n",
    "benefits_df = benefits_df.drop(columns=columns_to_drop)"
   ]
  },
  {
   "cell_type": "code",
   "execution_count": 12,
   "id": "48284a78",
   "metadata": {},
   "outputs": [
    {
     "data": {
      "text/plain": [
       "(5048408, 25)"
      ]
     },
     "execution_count": 12,
     "metadata": {},
     "output_type": "execute_result"
    }
   ],
   "source": [
    "benefits_df.shape"
   ]
  },
  {
   "cell_type": "code",
   "execution_count": 13,
   "id": "f3d1b69b",
   "metadata": {},
   "outputs": [
    {
     "data": {
      "text/plain": [
       "BenefitName             0.00\n",
       "BusinessYear            0.00\n",
       "CoinsInnTier1          22.06\n",
       "CoinsOutofNet          22.06\n",
       "CopayInnTier1          22.06\n",
       "CopayOutofNet          22.06\n",
       "EHBVarReason           59.84\n",
       "Explanation            80.73\n",
       "ImportDate              0.00\n",
       "IsCovered               4.28\n",
       "IsEHB                  36.00\n",
       "IsExclFromInnMOOP      19.49\n",
       "IsExclFromOonMOOP      19.46\n",
       "IsSubjToDedTier1       48.84\n",
       "IsSubjToDedTier2       48.85\n",
       "IssuerId                0.00\n",
       "IssuerId2               0.00\n",
       "PlanId                  0.00\n",
       "QuantLimitOnSvc        64.66\n",
       "RowNumber               0.00\n",
       "SourceName              0.00\n",
       "StandardComponentId     0.00\n",
       "StateCode               0.00\n",
       "StateCode2              0.00\n",
       "VersionNum              0.00\n",
       "dtype: float64"
      ]
     },
     "execution_count": 13,
     "metadata": {},
     "output_type": "execute_result"
    }
   ],
   "source": [
    "missing_percentage = round(benefits_df.isnull().mean() * 100, 2)\n",
    "missing_percentage"
   ]
  },
  {
   "cell_type": "code",
   "execution_count": null,
   "id": "8fa89fe9",
   "metadata": {},
   "outputs": [],
   "source": []
  },
  {
   "cell_type": "code",
   "execution_count": null,
   "id": "69be8b31",
   "metadata": {},
   "outputs": [],
   "source": []
  },
  {
   "cell_type": "code",
   "execution_count": null,
   "id": "c2c1e0e9",
   "metadata": {},
   "outputs": [],
   "source": []
  },
  {
   "cell_type": "code",
   "execution_count": null,
   "id": "c30d19de",
   "metadata": {},
   "outputs": [],
   "source": []
  },
  {
   "cell_type": "code",
   "execution_count": null,
   "id": "4a9baea4",
   "metadata": {},
   "outputs": [],
   "source": []
  },
  {
   "cell_type": "code",
   "execution_count": null,
   "id": "dcbac0d0",
   "metadata": {},
   "outputs": [],
   "source": []
  },
  {
   "cell_type": "raw",
   "id": "5f892bbc",
   "metadata": {},
   "source": [
    "Problem Statement 1: Optimize insurance plan design to minimize out-of-pocket costs for customers\n",
    "Important Columns:\n",
    "•\tCopayInnTier1\n",
    "•\tCopayOutofNet\n",
    "•\tCoinsInnTier1\n",
    "•\tCoinsOutofNet\n",
    "•\tIsCovered\n",
    "•\tIsSubjToDedTier1\n",
    "•\tIsSubjToDedTier2\n",
    "\n",
    "Target Column: The target column is IsCovered, a binary variable that indicates whether a specific benefit is covered (1) or not (0) under an insurance plan."
   ]
  },
  {
   "cell_type": "code",
   "execution_count": null,
   "id": "ffcd3f8b",
   "metadata": {},
   "outputs": [],
   "source": []
  },
  {
   "cell_type": "code",
   "execution_count": 14,
   "id": "66a80302",
   "metadata": {},
   "outputs": [],
   "source": [
    "benefits_df['CoinsInnTier1']=benefits_df['CoinsInnTier1'].str.replace(r'\\D+', '', regex=True)"
   ]
  },
  {
   "cell_type": "code",
   "execution_count": 15,
   "id": "eb696d02",
   "metadata": {},
   "outputs": [],
   "source": [
    "benefits_df['CoinsOutofNet']=benefits_df['CoinsOutofNet'].str.replace(r'\\D+', '', regex=True)"
   ]
  },
  {
   "cell_type": "code",
   "execution_count": 16,
   "id": "2e3aed3d",
   "metadata": {},
   "outputs": [],
   "source": [
    "benefits_df['CopayInnTier1']=benefits_df['CopayInnTier1'].str.replace(r'\\D+', '', regex=True)"
   ]
  },
  {
   "cell_type": "code",
   "execution_count": 17,
   "id": "aca7898a",
   "metadata": {},
   "outputs": [],
   "source": [
    "benefits_df['CopayOutofNet']=benefits_df['CopayOutofNet'].str.replace(r'\\D+', '', regex=True)"
   ]
  },
  {
   "cell_type": "code",
   "execution_count": 18,
   "id": "0026cec3",
   "metadata": {},
   "outputs": [
    {
     "data": {
      "text/html": [
       "<div>\n",
       "<style scoped>\n",
       "    .dataframe tbody tr th:only-of-type {\n",
       "        vertical-align: middle;\n",
       "    }\n",
       "\n",
       "    .dataframe tbody tr th {\n",
       "        vertical-align: top;\n",
       "    }\n",
       "\n",
       "    .dataframe thead th {\n",
       "        text-align: right;\n",
       "    }\n",
       "</style>\n",
       "<table border=\"1\" class=\"dataframe\">\n",
       "  <thead>\n",
       "    <tr style=\"text-align: right;\">\n",
       "      <th></th>\n",
       "      <th>BenefitName</th>\n",
       "      <th>BusinessYear</th>\n",
       "      <th>CoinsInnTier1</th>\n",
       "      <th>CoinsOutofNet</th>\n",
       "      <th>CopayInnTier1</th>\n",
       "      <th>CopayOutofNet</th>\n",
       "      <th>EHBVarReason</th>\n",
       "      <th>Explanation</th>\n",
       "      <th>ImportDate</th>\n",
       "      <th>IsCovered</th>\n",
       "      <th>...</th>\n",
       "      <th>IssuerId</th>\n",
       "      <th>IssuerId2</th>\n",
       "      <th>PlanId</th>\n",
       "      <th>QuantLimitOnSvc</th>\n",
       "      <th>RowNumber</th>\n",
       "      <th>SourceName</th>\n",
       "      <th>StandardComponentId</th>\n",
       "      <th>StateCode</th>\n",
       "      <th>StateCode2</th>\n",
       "      <th>VersionNum</th>\n",
       "    </tr>\n",
       "  </thead>\n",
       "  <tbody>\n",
       "    <tr>\n",
       "      <th>0</th>\n",
       "      <td>Routine Dental Services (Adult)</td>\n",
       "      <td>2022</td>\n",
       "      <td>20</td>\n",
       "      <td>20</td>\n",
       "      <td></td>\n",
       "      <td></td>\n",
       "      <td>Above EHB</td>\n",
       "      <td>Combined annual benefit maximum of $1000 per y...</td>\n",
       "      <td>2014-03-19 07:06:49</td>\n",
       "      <td>Covered</td>\n",
       "      <td>...</td>\n",
       "      <td>21989</td>\n",
       "      <td>21989</td>\n",
       "      <td>21989AK0010001-00</td>\n",
       "      <td>Yes</td>\n",
       "      <td>68</td>\n",
       "      <td>HIOS</td>\n",
       "      <td>21989AK0010001</td>\n",
       "      <td>AK</td>\n",
       "      <td>AK</td>\n",
       "      <td>6</td>\n",
       "    </tr>\n",
       "    <tr>\n",
       "      <th>1</th>\n",
       "      <td>Dental Check-Up for Children</td>\n",
       "      <td>2022</td>\n",
       "      <td>20</td>\n",
       "      <td>20</td>\n",
       "      <td></td>\n",
       "      <td></td>\n",
       "      <td>Substantially Equal</td>\n",
       "      <td>See policy for additional limitations</td>\n",
       "      <td>2014-03-19 07:06:49</td>\n",
       "      <td>Covered</td>\n",
       "      <td>...</td>\n",
       "      <td>21989</td>\n",
       "      <td>21989</td>\n",
       "      <td>21989AK0010001-00</td>\n",
       "      <td>Yes</td>\n",
       "      <td>104</td>\n",
       "      <td>HIOS</td>\n",
       "      <td>21989AK0010001</td>\n",
       "      <td>AK</td>\n",
       "      <td>AK</td>\n",
       "      <td>6</td>\n",
       "    </tr>\n",
       "    <tr>\n",
       "      <th>2</th>\n",
       "      <td>Basic Dental Care - Child</td>\n",
       "      <td>2022</td>\n",
       "      <td>40</td>\n",
       "      <td>40</td>\n",
       "      <td></td>\n",
       "      <td></td>\n",
       "      <td>Substantially Equal</td>\n",
       "      <td>See policy for additional limitations</td>\n",
       "      <td>2014-03-19 07:06:49</td>\n",
       "      <td>Covered</td>\n",
       "      <td>...</td>\n",
       "      <td>21989</td>\n",
       "      <td>21989</td>\n",
       "      <td>21989AK0010001-00</td>\n",
       "      <td>NaN</td>\n",
       "      <td>110</td>\n",
       "      <td>HIOS</td>\n",
       "      <td>21989AK0010001</td>\n",
       "      <td>AK</td>\n",
       "      <td>AK</td>\n",
       "      <td>6</td>\n",
       "    </tr>\n",
       "    <tr>\n",
       "      <th>3</th>\n",
       "      <td>Orthodontia - Child</td>\n",
       "      <td>2022</td>\n",
       "      <td>50</td>\n",
       "      <td>50</td>\n",
       "      <td></td>\n",
       "      <td></td>\n",
       "      <td>Additional EHB Benefit</td>\n",
       "      <td>24 month waiting period, See policy for additi...</td>\n",
       "      <td>2014-03-19 07:06:49</td>\n",
       "      <td>Covered</td>\n",
       "      <td>...</td>\n",
       "      <td>21989</td>\n",
       "      <td>21989</td>\n",
       "      <td>21989AK0010001-00</td>\n",
       "      <td>NaN</td>\n",
       "      <td>111</td>\n",
       "      <td>HIOS</td>\n",
       "      <td>21989AK0010001</td>\n",
       "      <td>AK</td>\n",
       "      <td>AK</td>\n",
       "      <td>6</td>\n",
       "    </tr>\n",
       "    <tr>\n",
       "      <th>4</th>\n",
       "      <td>Major Dental Care - Child</td>\n",
       "      <td>2022</td>\n",
       "      <td>50</td>\n",
       "      <td>50</td>\n",
       "      <td></td>\n",
       "      <td></td>\n",
       "      <td>Substantially Equal</td>\n",
       "      <td>See policy for additional limitations</td>\n",
       "      <td>2014-03-19 07:06:49</td>\n",
       "      <td>Covered</td>\n",
       "      <td>...</td>\n",
       "      <td>21989</td>\n",
       "      <td>21989</td>\n",
       "      <td>21989AK0010001-00</td>\n",
       "      <td>NaN</td>\n",
       "      <td>112</td>\n",
       "      <td>HIOS</td>\n",
       "      <td>21989AK0010001</td>\n",
       "      <td>AK</td>\n",
       "      <td>AK</td>\n",
       "      <td>6</td>\n",
       "    </tr>\n",
       "  </tbody>\n",
       "</table>\n",
       "<p>5 rows × 25 columns</p>\n",
       "</div>"
      ],
      "text/plain": [
       "                       BenefitName  BusinessYear CoinsInnTier1 CoinsOutofNet  \\\n",
       "0  Routine Dental Services (Adult)          2022            20            20   \n",
       "1     Dental Check-Up for Children          2022            20            20   \n",
       "2        Basic Dental Care - Child          2022            40            40   \n",
       "3              Orthodontia - Child          2022            50            50   \n",
       "4        Major Dental Care - Child          2022            50            50   \n",
       "\n",
       "  CopayInnTier1 CopayOutofNet            EHBVarReason  \\\n",
       "0                                           Above EHB   \n",
       "1                                 Substantially Equal   \n",
       "2                                 Substantially Equal   \n",
       "3                              Additional EHB Benefit   \n",
       "4                                 Substantially Equal   \n",
       "\n",
       "                                         Explanation           ImportDate  \\\n",
       "0  Combined annual benefit maximum of $1000 per y...  2014-03-19 07:06:49   \n",
       "1              See policy for additional limitations  2014-03-19 07:06:49   \n",
       "2              See policy for additional limitations  2014-03-19 07:06:49   \n",
       "3  24 month waiting period, See policy for additi...  2014-03-19 07:06:49   \n",
       "4              See policy for additional limitations  2014-03-19 07:06:49   \n",
       "\n",
       "  IsCovered  ... IssuerId IssuerId2             PlanId QuantLimitOnSvc  \\\n",
       "0   Covered  ...    21989     21989  21989AK0010001-00             Yes   \n",
       "1   Covered  ...    21989     21989  21989AK0010001-00             Yes   \n",
       "2   Covered  ...    21989     21989  21989AK0010001-00             NaN   \n",
       "3   Covered  ...    21989     21989  21989AK0010001-00             NaN   \n",
       "4   Covered  ...    21989     21989  21989AK0010001-00             NaN   \n",
       "\n",
       "  RowNumber  SourceName  StandardComponentId StateCode StateCode2  VersionNum  \n",
       "0        68        HIOS       21989AK0010001        AK         AK           6  \n",
       "1       104        HIOS       21989AK0010001        AK         AK           6  \n",
       "2       110        HIOS       21989AK0010001        AK         AK           6  \n",
       "3       111        HIOS       21989AK0010001        AK         AK           6  \n",
       "4       112        HIOS       21989AK0010001        AK         AK           6  \n",
       "\n",
       "[5 rows x 25 columns]"
      ]
     },
     "execution_count": 18,
     "metadata": {},
     "output_type": "execute_result"
    }
   ],
   "source": [
    "benefits_df.head()"
   ]
  },
  {
   "cell_type": "code",
   "execution_count": 19,
   "id": "c643de0b",
   "metadata": {},
   "outputs": [
    {
     "data": {
      "text/plain": [
       "1113847"
      ]
     },
     "execution_count": 19,
     "metadata": {},
     "output_type": "execute_result"
    }
   ],
   "source": [
    "benefits_df['CopayInnTier1'].isnull().sum()"
   ]
  },
  {
   "cell_type": "code",
   "execution_count": null,
   "id": "ede0912e",
   "metadata": {},
   "outputs": [],
   "source": []
  },
  {
   "cell_type": "code",
   "execution_count": 20,
   "id": "3ccd238a",
   "metadata": {},
   "outputs": [],
   "source": [
    "#benefits_df.to_csv('benifitsckleaned1.csv', index=False)"
   ]
  },
  {
   "cell_type": "code",
   "execution_count": 21,
   "id": "be5ec920",
   "metadata": {},
   "outputs": [],
   "source": [
    "from sklearn.impute import SimpleImputer\n",
    "\n",
    "imputer = SimpleImputer(strategy='most_frequent')\n",
    "benefits_df[['CoinsInnTier1']] = imputer.fit_transform(benefits_df[['CoinsInnTier1']])\n",
    "benefits_df[['CoinsOutofNet']] = imputer.fit_transform(benefits_df[['CoinsOutofNet']])\n",
    "benefits_df[['CopayInnTier1']] = imputer.fit_transform(benefits_df[['CopayInnTier1']])\n",
    "benefits_df[['CopayOutofNet']] = imputer.fit_transform(benefits_df[['CopayOutofNet']])"
   ]
  },
  {
   "cell_type": "code",
   "execution_count": 22,
   "id": "77795856",
   "metadata": {},
   "outputs": [
    {
     "data": {
      "text/plain": [
       "BenefitName                  0\n",
       "BusinessYear                 0\n",
       "CoinsInnTier1                0\n",
       "CoinsOutofNet                0\n",
       "CopayInnTier1                0\n",
       "CopayOutofNet                0\n",
       "EHBVarReason           3020737\n",
       "Explanation            4075700\n",
       "ImportDate                   0\n",
       "IsCovered               215980\n",
       "IsEHB                  1817362\n",
       "IsExclFromInnMOOP       983986\n",
       "IsExclFromOonMOOP       982626\n",
       "IsSubjToDedTier1       2465877\n",
       "IsSubjToDedTier2       2466054\n",
       "IssuerId                     0\n",
       "IssuerId2                    0\n",
       "PlanId                       0\n",
       "QuantLimitOnSvc        3264532\n",
       "RowNumber                    0\n",
       "SourceName                   0\n",
       "StandardComponentId          0\n",
       "StateCode                    0\n",
       "StateCode2                   0\n",
       "VersionNum                   0\n",
       "dtype: int64"
      ]
     },
     "execution_count": 22,
     "metadata": {},
     "output_type": "execute_result"
    }
   ],
   "source": [
    "benefits_df.isnull().sum()"
   ]
  },
  {
   "cell_type": "code",
   "execution_count": 23,
   "id": "80b453e4",
   "metadata": {},
   "outputs": [
    {
     "data": {
      "text/plain": [
       "BenefitName             0.00\n",
       "BusinessYear            0.00\n",
       "CoinsInnTier1           0.00\n",
       "CoinsOutofNet           0.00\n",
       "CopayInnTier1           0.00\n",
       "CopayOutofNet           0.00\n",
       "EHBVarReason           59.84\n",
       "Explanation            80.73\n",
       "ImportDate              0.00\n",
       "IsCovered               4.28\n",
       "IsEHB                  36.00\n",
       "IsExclFromInnMOOP      19.49\n",
       "IsExclFromOonMOOP      19.46\n",
       "IsSubjToDedTier1       48.84\n",
       "IsSubjToDedTier2       48.85\n",
       "IssuerId                0.00\n",
       "IssuerId2               0.00\n",
       "PlanId                  0.00\n",
       "QuantLimitOnSvc        64.66\n",
       "RowNumber               0.00\n",
       "SourceName              0.00\n",
       "StandardComponentId     0.00\n",
       "StateCode               0.00\n",
       "StateCode2              0.00\n",
       "VersionNum              0.00\n",
       "dtype: float64"
      ]
     },
     "execution_count": 23,
     "metadata": {},
     "output_type": "execute_result"
    }
   ],
   "source": [
    "round(benefits_df.isnull().mean() * 100, 2)"
   ]
  },
  {
   "cell_type": "code",
   "execution_count": 24,
   "id": "873b0a1d",
   "metadata": {},
   "outputs": [],
   "source": [
    "#benefits_df.to_csv('benifitsckleaned2.csv', index=False)"
   ]
  },
  {
   "cell_type": "raw",
   "id": "77f55408",
   "metadata": {},
   "source": [
    "EHBVarReason--\n",
    "IsEHB--yes\n",
    "IsExclFromInnMOOP--yes/no\n",
    "IsExclFromOonMOOP--yes/no\n",
    "IsSubjToDedTier1--yes/no\n",
    "IsSubjToDedTier2--yes/no\n",
    "QuantLimitOnSvc--yes/no"
   ]
  },
  {
   "cell_type": "code",
   "execution_count": 25,
   "id": "0a28a904",
   "metadata": {},
   "outputs": [],
   "source": [
    "#apply mode for categorical data\n",
    "\n",
    "\n",
    "imputer = SimpleImputer(strategy='most_frequent')\n",
    "benefits_df[['EHBVarReason']] = imputer.fit_transform(benefits_df[['EHBVarReason']])\n",
    "\n",
    "benefits_df[['IsEHB']] = imputer.fit_transform(benefits_df[['IsEHB']])\n",
    "benefits_df[['IsExclFromInnMOOP']] = imputer.fit_transform(benefits_df[['IsExclFromInnMOOP']])\n",
    "benefits_df[['IsExclFromOonMOOP']] = imputer.fit_transform(benefits_df[['IsExclFromOonMOOP']])\n",
    "benefits_df[['IsSubjToDedTier1']] = imputer.fit_transform(benefits_df[['IsSubjToDedTier1']])\n",
    "benefits_df[['IsSubjToDedTier2']] = imputer.fit_transform(benefits_df[['IsSubjToDedTier2']])\n",
    "benefits_df[['QuantLimitOnSvc']] = imputer.fit_transform(benefits_df[['QuantLimitOnSvc']])"
   ]
  },
  {
   "cell_type": "code",
   "execution_count": 26,
   "id": "570bf3dd",
   "metadata": {},
   "outputs": [
    {
     "data": {
      "text/plain": [
       "BenefitName             0.00\n",
       "BusinessYear            0.00\n",
       "CoinsInnTier1           0.00\n",
       "CoinsOutofNet           0.00\n",
       "CopayInnTier1           0.00\n",
       "CopayOutofNet           0.00\n",
       "EHBVarReason            0.00\n",
       "Explanation            80.73\n",
       "ImportDate              0.00\n",
       "IsCovered               4.28\n",
       "IsEHB                   0.00\n",
       "IsExclFromInnMOOP       0.00\n",
       "IsExclFromOonMOOP       0.00\n",
       "IsSubjToDedTier1        0.00\n",
       "IsSubjToDedTier2        0.00\n",
       "IssuerId                0.00\n",
       "IssuerId2               0.00\n",
       "PlanId                  0.00\n",
       "QuantLimitOnSvc         0.00\n",
       "RowNumber               0.00\n",
       "SourceName              0.00\n",
       "StandardComponentId     0.00\n",
       "StateCode               0.00\n",
       "StateCode2              0.00\n",
       "VersionNum              0.00\n",
       "dtype: float64"
      ]
     },
     "execution_count": 26,
     "metadata": {},
     "output_type": "execute_result"
    }
   ],
   "source": [
    "round(benefits_df.isnull().mean() * 100, 2)"
   ]
  },
  {
   "cell_type": "code",
   "execution_count": 27,
   "id": "46c3de95",
   "metadata": {},
   "outputs": [
    {
     "data": {
      "text/plain": [
       "Int64Index([      6,       8,      15,      17,      24,      26,      33,\n",
       "                 35,      42,      44,\n",
       "            ...\n",
       "            5048390, 5048395, 5048396, 5048397, 5048398, 5048399, 5048404,\n",
       "            5048405, 5048406, 5048407],\n",
       "           dtype='int64', length=215980)"
      ]
     },
     "execution_count": 27,
     "metadata": {},
     "output_type": "execute_result"
    }
   ],
   "source": [
    "ind=benefits_df[benefits_df['IsCovered'].isnull()].index\n",
    "ind"
   ]
  },
  {
   "cell_type": "code",
   "execution_count": 28,
   "id": "da053fd0",
   "metadata": {},
   "outputs": [],
   "source": [
    "benefits_df.drop(ind, inplace=True)"
   ]
  },
  {
   "cell_type": "code",
   "execution_count": 29,
   "id": "a7a8ad7f",
   "metadata": {},
   "outputs": [
    {
     "name": "stdout",
     "output_type": "stream",
     "text": [
      "<class 'pandas.core.frame.DataFrame'>\n",
      "Int64Index: 4832428 entries, 0 to 5048403\n",
      "Data columns (total 25 columns):\n",
      " #   Column               Dtype \n",
      "---  ------               ----- \n",
      " 0   BenefitName          object\n",
      " 1   BusinessYear         int64 \n",
      " 2   CoinsInnTier1        object\n",
      " 3   CoinsOutofNet        object\n",
      " 4   CopayInnTier1        object\n",
      " 5   CopayOutofNet        object\n",
      " 6   EHBVarReason         object\n",
      " 7   Explanation          object\n",
      " 8   ImportDate           object\n",
      " 9   IsCovered            object\n",
      " 10  IsEHB                object\n",
      " 11  IsExclFromInnMOOP    object\n",
      " 12  IsExclFromOonMOOP    object\n",
      " 13  IsSubjToDedTier1     object\n",
      " 14  IsSubjToDedTier2     object\n",
      " 15  IssuerId             int64 \n",
      " 16  IssuerId2            int64 \n",
      " 17  PlanId               object\n",
      " 18  QuantLimitOnSvc      object\n",
      " 19  RowNumber            int64 \n",
      " 20  SourceName           object\n",
      " 21  StandardComponentId  object\n",
      " 22  StateCode            object\n",
      " 23  StateCode2           object\n",
      " 24  VersionNum           int64 \n",
      "dtypes: int64(5), object(20)\n",
      "memory usage: 958.6+ MB\n"
     ]
    }
   ],
   "source": [
    "benefits_df.info()"
   ]
  },
  {
   "cell_type": "code",
   "execution_count": 30,
   "id": "929c4067",
   "metadata": {},
   "outputs": [],
   "source": [
    "#explaination is not much useful for markey coverage \n",
    "benefits_df = benefits_df.drop('Explanation', axis=1)"
   ]
  },
  {
   "cell_type": "code",
   "execution_count": 31,
   "id": "90237d8c",
   "metadata": {},
   "outputs": [],
   "source": [
    "#drop IssuerId2-- duplicate col of issuerId\n",
    "benefits_df = benefits_df.drop('IssuerId2', axis=1)\n",
    "benefits_df = benefits_df.drop('StateCode2', axis=1)\n",
    "benefits_df = benefits_df.drop('RowNumber', axis=1)        "
   ]
  },
  {
   "cell_type": "code",
   "execution_count": 32,
   "id": "35e44b92",
   "metadata": {},
   "outputs": [
    {
     "data": {
      "text/plain": [
       "BenefitName            0\n",
       "BusinessYear           0\n",
       "CoinsInnTier1          0\n",
       "CoinsOutofNet          0\n",
       "CopayInnTier1          0\n",
       "CopayOutofNet          0\n",
       "EHBVarReason           0\n",
       "ImportDate             0\n",
       "IsCovered              0\n",
       "IsEHB                  0\n",
       "IsExclFromInnMOOP      0\n",
       "IsExclFromOonMOOP      0\n",
       "IsSubjToDedTier1       0\n",
       "IsSubjToDedTier2       0\n",
       "IssuerId               0\n",
       "PlanId                 0\n",
       "QuantLimitOnSvc        0\n",
       "SourceName             0\n",
       "StandardComponentId    0\n",
       "StateCode              0\n",
       "VersionNum             0\n",
       "dtype: int64"
      ]
     },
     "execution_count": 32,
     "metadata": {},
     "output_type": "execute_result"
    }
   ],
   "source": [
    "benefits_df.isnull().sum()"
   ]
  },
  {
   "cell_type": "code",
   "execution_count": 33,
   "id": "8c171026",
   "metadata": {},
   "outputs": [],
   "source": [
    "# Define a list of possible formats\n",
    "date_formats = [\n",
    "    '%Y-%m-%d %H:%M:%S',  # Format with full year, month, day, hour, minute, second\n",
    "    '%m/%d/%Y %H:%M',     # Format with month/day/year hour:minute\n",
    "    '%m/%d/%Y %I:%M%p',   # Format with month/day/year hour:minute AM/PM\n",
    "    # Add more formats if needed\n",
    "]\n",
    "\n",
    "# Function to try multiple formats\n",
    "def parse_date(date_str):\n",
    "    for fmt in date_formats:\n",
    "        try:\n",
    "            return pd.to_datetime(date_str, format=fmt)\n",
    "        except ValueError:\n",
    "            continue\n",
    "    return pd.NaT\n",
    "\n",
    "# Apply the function to 'ImportDate'\n",
    "benefits_df['ImportDate'] = benefits_df['ImportDate'].apply(parse_date)"
   ]
  },
  {
   "cell_type": "code",
   "execution_count": 34,
   "id": "49eae01d",
   "metadata": {},
   "outputs": [],
   "source": [
    "# Define a function to update the year\n",
    "def update_year(date):\n",
    "    if date.year == 2013:\n",
    "        return date.replace(year=2021)\n",
    "    elif date.year == 2014:\n",
    "        return date.replace(year=2022)\n",
    "    elif date.year == 2015:\n",
    "        return date.replace(year=2023)\n",
    "    else:\n",
    "        return None\n",
    "    \n",
    "benefits_df['ImportDate'] = benefits_df['ImportDate'].apply(update_year)"
   ]
  },
  {
   "cell_type": "code",
   "execution_count": 36,
   "id": "26be84ba",
   "metadata": {},
   "outputs": [],
   "source": [
    "# assume 'df' is your DataFrame and 'ImportDate' is the column with the date strings\n",
    "\n",
    "benefits_df['ImportDate'] = pd.to_datetime(benefits_df['ImportDate'])\n",
    "benefits_df['ImportDate'] = benefits_df['ImportDate'].astype('int64') // 10**9"
   ]
  },
  {
   "cell_type": "code",
   "execution_count": 37,
   "id": "90fb25fb",
   "metadata": {},
   "outputs": [
    {
     "data": {
      "text/html": [
       "<div>\n",
       "<style scoped>\n",
       "    .dataframe tbody tr th:only-of-type {\n",
       "        vertical-align: middle;\n",
       "    }\n",
       "\n",
       "    .dataframe tbody tr th {\n",
       "        vertical-align: top;\n",
       "    }\n",
       "\n",
       "    .dataframe thead th {\n",
       "        text-align: right;\n",
       "    }\n",
       "</style>\n",
       "<table border=\"1\" class=\"dataframe\">\n",
       "  <thead>\n",
       "    <tr style=\"text-align: right;\">\n",
       "      <th></th>\n",
       "      <th>BenefitName</th>\n",
       "      <th>BusinessYear</th>\n",
       "      <th>CoinsInnTier1</th>\n",
       "      <th>CoinsOutofNet</th>\n",
       "      <th>CopayInnTier1</th>\n",
       "      <th>CopayOutofNet</th>\n",
       "      <th>EHBVarReason</th>\n",
       "      <th>ImportDate</th>\n",
       "      <th>IsCovered</th>\n",
       "      <th>IsEHB</th>\n",
       "      <th>...</th>\n",
       "      <th>IsExclFromOonMOOP</th>\n",
       "      <th>IsSubjToDedTier1</th>\n",
       "      <th>IsSubjToDedTier2</th>\n",
       "      <th>IssuerId</th>\n",
       "      <th>PlanId</th>\n",
       "      <th>QuantLimitOnSvc</th>\n",
       "      <th>SourceName</th>\n",
       "      <th>StandardComponentId</th>\n",
       "      <th>StateCode</th>\n",
       "      <th>VersionNum</th>\n",
       "    </tr>\n",
       "  </thead>\n",
       "  <tbody>\n",
       "    <tr>\n",
       "      <th>0</th>\n",
       "      <td>Routine Dental Services (Adult)</td>\n",
       "      <td>2022</td>\n",
       "      <td>20</td>\n",
       "      <td>20</td>\n",
       "      <td></td>\n",
       "      <td></td>\n",
       "      <td>Above EHB</td>\n",
       "      <td>1647673609</td>\n",
       "      <td>Covered</td>\n",
       "      <td>Yes</td>\n",
       "      <td>...</td>\n",
       "      <td>No</td>\n",
       "      <td>No</td>\n",
       "      <td>No</td>\n",
       "      <td>21989</td>\n",
       "      <td>21989AK0010001-00</td>\n",
       "      <td>Yes</td>\n",
       "      <td>HIOS</td>\n",
       "      <td>21989AK0010001</td>\n",
       "      <td>AK</td>\n",
       "      <td>6</td>\n",
       "    </tr>\n",
       "    <tr>\n",
       "      <th>1</th>\n",
       "      <td>Dental Check-Up for Children</td>\n",
       "      <td>2022</td>\n",
       "      <td>20</td>\n",
       "      <td>20</td>\n",
       "      <td></td>\n",
       "      <td></td>\n",
       "      <td>Substantially Equal</td>\n",
       "      <td>1647673609</td>\n",
       "      <td>Covered</td>\n",
       "      <td>Yes</td>\n",
       "      <td>...</td>\n",
       "      <td>No</td>\n",
       "      <td>No</td>\n",
       "      <td>No</td>\n",
       "      <td>21989</td>\n",
       "      <td>21989AK0010001-00</td>\n",
       "      <td>Yes</td>\n",
       "      <td>HIOS</td>\n",
       "      <td>21989AK0010001</td>\n",
       "      <td>AK</td>\n",
       "      <td>6</td>\n",
       "    </tr>\n",
       "    <tr>\n",
       "      <th>2</th>\n",
       "      <td>Basic Dental Care - Child</td>\n",
       "      <td>2022</td>\n",
       "      <td>40</td>\n",
       "      <td>40</td>\n",
       "      <td></td>\n",
       "      <td></td>\n",
       "      <td>Substantially Equal</td>\n",
       "      <td>1647673609</td>\n",
       "      <td>Covered</td>\n",
       "      <td>Yes</td>\n",
       "      <td>...</td>\n",
       "      <td>No</td>\n",
       "      <td>Yes</td>\n",
       "      <td>Yes</td>\n",
       "      <td>21989</td>\n",
       "      <td>21989AK0010001-00</td>\n",
       "      <td>No</td>\n",
       "      <td>HIOS</td>\n",
       "      <td>21989AK0010001</td>\n",
       "      <td>AK</td>\n",
       "      <td>6</td>\n",
       "    </tr>\n",
       "    <tr>\n",
       "      <th>3</th>\n",
       "      <td>Orthodontia - Child</td>\n",
       "      <td>2022</td>\n",
       "      <td>50</td>\n",
       "      <td>50</td>\n",
       "      <td></td>\n",
       "      <td></td>\n",
       "      <td>Additional EHB Benefit</td>\n",
       "      <td>1647673609</td>\n",
       "      <td>Covered</td>\n",
       "      <td>Yes</td>\n",
       "      <td>...</td>\n",
       "      <td>No</td>\n",
       "      <td>Yes</td>\n",
       "      <td>Yes</td>\n",
       "      <td>21989</td>\n",
       "      <td>21989AK0010001-00</td>\n",
       "      <td>No</td>\n",
       "      <td>HIOS</td>\n",
       "      <td>21989AK0010001</td>\n",
       "      <td>AK</td>\n",
       "      <td>6</td>\n",
       "    </tr>\n",
       "    <tr>\n",
       "      <th>4</th>\n",
       "      <td>Major Dental Care - Child</td>\n",
       "      <td>2022</td>\n",
       "      <td>50</td>\n",
       "      <td>50</td>\n",
       "      <td></td>\n",
       "      <td></td>\n",
       "      <td>Substantially Equal</td>\n",
       "      <td>1647673609</td>\n",
       "      <td>Covered</td>\n",
       "      <td>Yes</td>\n",
       "      <td>...</td>\n",
       "      <td>No</td>\n",
       "      <td>Yes</td>\n",
       "      <td>Yes</td>\n",
       "      <td>21989</td>\n",
       "      <td>21989AK0010001-00</td>\n",
       "      <td>No</td>\n",
       "      <td>HIOS</td>\n",
       "      <td>21989AK0010001</td>\n",
       "      <td>AK</td>\n",
       "      <td>6</td>\n",
       "    </tr>\n",
       "  </tbody>\n",
       "</table>\n",
       "<p>5 rows × 21 columns</p>\n",
       "</div>"
      ],
      "text/plain": [
       "                       BenefitName  BusinessYear CoinsInnTier1 CoinsOutofNet  \\\n",
       "0  Routine Dental Services (Adult)          2022            20            20   \n",
       "1     Dental Check-Up for Children          2022            20            20   \n",
       "2        Basic Dental Care - Child          2022            40            40   \n",
       "3              Orthodontia - Child          2022            50            50   \n",
       "4        Major Dental Care - Child          2022            50            50   \n",
       "\n",
       "  CopayInnTier1 CopayOutofNet            EHBVarReason  ImportDate IsCovered  \\\n",
       "0                                           Above EHB  1647673609   Covered   \n",
       "1                                 Substantially Equal  1647673609   Covered   \n",
       "2                                 Substantially Equal  1647673609   Covered   \n",
       "3                              Additional EHB Benefit  1647673609   Covered   \n",
       "4                                 Substantially Equal  1647673609   Covered   \n",
       "\n",
       "  IsEHB  ... IsExclFromOonMOOP IsSubjToDedTier1 IsSubjToDedTier2 IssuerId  \\\n",
       "0   Yes  ...                No               No               No    21989   \n",
       "1   Yes  ...                No               No               No    21989   \n",
       "2   Yes  ...                No              Yes              Yes    21989   \n",
       "3   Yes  ...                No              Yes              Yes    21989   \n",
       "4   Yes  ...                No              Yes              Yes    21989   \n",
       "\n",
       "              PlanId QuantLimitOnSvc SourceName StandardComponentId StateCode  \\\n",
       "0  21989AK0010001-00             Yes       HIOS      21989AK0010001        AK   \n",
       "1  21989AK0010001-00             Yes       HIOS      21989AK0010001        AK   \n",
       "2  21989AK0010001-00              No       HIOS      21989AK0010001        AK   \n",
       "3  21989AK0010001-00              No       HIOS      21989AK0010001        AK   \n",
       "4  21989AK0010001-00              No       HIOS      21989AK0010001        AK   \n",
       "\n",
       "  VersionNum  \n",
       "0          6  \n",
       "1          6  \n",
       "2          6  \n",
       "3          6  \n",
       "4          6  \n",
       "\n",
       "[5 rows x 21 columns]"
      ]
     },
     "execution_count": 37,
     "metadata": {},
     "output_type": "execute_result"
    }
   ],
   "source": [
    "benefits_df.head()"
   ]
  },
  {
   "cell_type": "code",
   "execution_count": null,
   "id": "7f76c5ed",
   "metadata": {},
   "outputs": [],
   "source": [
    "benefits_df.to_csv('benefitscleaned1.csv', index=False)"
   ]
  },
  {
   "cell_type": "code",
   "execution_count": null,
   "id": "d612bc41",
   "metadata": {},
   "outputs": [],
   "source": []
  },
  {
   "cell_type": "code",
   "execution_count": 38,
   "id": "0de1fb5e",
   "metadata": {},
   "outputs": [
    {
     "name": "stdout",
     "output_type": "stream",
     "text": [
      "<class 'pandas.core.frame.DataFrame'>\n",
      "Int64Index: 4832428 entries, 0 to 5048403\n",
      "Data columns (total 21 columns):\n",
      " #   Column               Dtype \n",
      "---  ------               ----- \n",
      " 0   BenefitName          object\n",
      " 1   BusinessYear         int64 \n",
      " 2   CoinsInnTier1        object\n",
      " 3   CoinsOutofNet        object\n",
      " 4   CopayInnTier1        object\n",
      " 5   CopayOutofNet        object\n",
      " 6   EHBVarReason         object\n",
      " 7   ImportDate           int64 \n",
      " 8   IsCovered            object\n",
      " 9   IsEHB                object\n",
      " 10  IsExclFromInnMOOP    object\n",
      " 11  IsExclFromOonMOOP    object\n",
      " 12  IsSubjToDedTier1     object\n",
      " 13  IsSubjToDedTier2     object\n",
      " 14  IssuerId             int64 \n",
      " 15  PlanId               object\n",
      " 16  QuantLimitOnSvc      object\n",
      " 17  SourceName           object\n",
      " 18  StandardComponentId  object\n",
      " 19  StateCode            object\n",
      " 20  VersionNum           int64 \n",
      "dtypes: int64(4), object(17)\n",
      "memory usage: 811.1+ MB\n"
     ]
    }
   ],
   "source": [
    "benefits_df.info()"
   ]
  },
  {
   "cell_type": "code",
   "execution_count": null,
   "id": "f787195f",
   "metadata": {},
   "outputs": [],
   "source": [
    "#Handling benefit name column"
   ]
  },
  {
   "cell_type": "code",
   "execution_count": 39,
   "id": "fd60af41",
   "metadata": {
    "scrolled": true
   },
   "outputs": [],
   "source": [
    "benefits_df['BenefitName'] = benefits_df['BenefitName'].str.lower()\n",
    "benefits_df['BenefitName'] = benefits_df['BenefitName'].str.replace(r'[^\\w\\s]', '', regex=True)\n",
    "benefits_df['BenefitName'] = benefits_df['BenefitName'].str.strip()"
   ]
  },
  {
   "cell_type": "code",
   "execution_count": 40,
   "id": "5bffcf98",
   "metadata": {},
   "outputs": [],
   "source": [
    "from sklearn.preprocessing import LabelEncoder\n",
    "\n",
    "le = LabelEncoder()\n",
    "benefits_df['BenefitName'] = le.fit_transform(benefits_df['BenefitName'])"
   ]
  },
  {
   "cell_type": "code",
   "execution_count": 41,
   "id": "801fad97",
   "metadata": {},
   "outputs": [],
   "source": [
    "\n",
    "benefits_df['CoinsInnTier1'] = le.fit_transform(benefits_df['CoinsInnTier1'])\n",
    "benefits_df['CoinsOutofNet'] = le.fit_transform(benefits_df['CoinsOutofNet'])\n",
    "benefits_df['CopayInnTier1'] = le.fit_transform(benefits_df['CopayInnTier1'])\n",
    "benefits_df['CopayOutofNet'] = le.fit_transform(benefits_df['CopayOutofNet'])\n",
    "benefits_df['EHBVarReason'] = le.fit_transform(benefits_df['EHBVarReason'])\n",
    "benefits_df['IsCovered'] = le.fit_transform(benefits_df['IsCovered'])\n",
    "benefits_df['IsEHB'] = le.fit_transform(benefits_df['IsEHB'])\n",
    "benefits_df['IsExclFromInnMOOP'] = le.fit_transform(benefits_df['IsExclFromInnMOOP'])\n",
    "benefits_df['IsExclFromOonMOOP'] = le.fit_transform(benefits_df['IsExclFromOonMOOP'])\n",
    "benefits_df['IsSubjToDedTier1'] = le.fit_transform(benefits_df['IsSubjToDedTier1'])\n",
    "benefits_df['IsSubjToDedTier2'] = le.fit_transform(benefits_df['IsSubjToDedTier2'])\n",
    "benefits_df['PlanId'] = le.fit_transform(benefits_df['PlanId'])\n",
    "benefits_df['QuantLimitOnSvc'] = le.fit_transform(benefits_df['QuantLimitOnSvc'])\n",
    "benefits_df['SourceName'] = le.fit_transform(benefits_df['SourceName'])\n",
    "benefits_df['StandardComponentId'] = le.fit_transform(benefits_df['StandardComponentId'])\n",
    "benefits_df['StateCode'] = le.fit_transform(benefits_df['StateCode'])\n"
   ]
  },
  {
   "cell_type": "code",
   "execution_count": 42,
   "id": "384ce4a2",
   "metadata": {},
   "outputs": [
    {
     "name": "stdout",
     "output_type": "stream",
     "text": [
      "<class 'pandas.core.frame.DataFrame'>\n",
      "Int64Index: 4832428 entries, 0 to 5048403\n",
      "Data columns (total 21 columns):\n",
      " #   Column               Dtype\n",
      "---  ------               -----\n",
      " 0   BenefitName          int32\n",
      " 1   BusinessYear         int64\n",
      " 2   CoinsInnTier1        int32\n",
      " 3   CoinsOutofNet        int32\n",
      " 4   CopayInnTier1        int32\n",
      " 5   CopayOutofNet        int32\n",
      " 6   EHBVarReason         int32\n",
      " 7   ImportDate           int64\n",
      " 8   IsCovered            int32\n",
      " 9   IsEHB                int32\n",
      " 10  IsExclFromInnMOOP    int32\n",
      " 11  IsExclFromOonMOOP    int32\n",
      " 12  IsSubjToDedTier1     int32\n",
      " 13  IsSubjToDedTier2     int32\n",
      " 14  IssuerId             int64\n",
      " 15  PlanId               int32\n",
      " 16  QuantLimitOnSvc      int32\n",
      " 17  SourceName           int32\n",
      " 18  StandardComponentId  int32\n",
      " 19  StateCode            int32\n",
      " 20  VersionNum           int64\n",
      "dtypes: int32(17), int64(4)\n",
      "memory usage: 497.7 MB\n"
     ]
    }
   ],
   "source": [
    "benefits_df.info()"
   ]
  },
  {
   "cell_type": "code",
   "execution_count": 43,
   "id": "c80af40f",
   "metadata": {},
   "outputs": [
    {
     "data": {
      "text/html": [
       "<div>\n",
       "<style scoped>\n",
       "    .dataframe tbody tr th:only-of-type {\n",
       "        vertical-align: middle;\n",
       "    }\n",
       "\n",
       "    .dataframe tbody tr th {\n",
       "        vertical-align: top;\n",
       "    }\n",
       "\n",
       "    .dataframe thead th {\n",
       "        text-align: right;\n",
       "    }\n",
       "</style>\n",
       "<table border=\"1\" class=\"dataframe\">\n",
       "  <thead>\n",
       "    <tr style=\"text-align: right;\">\n",
       "      <th></th>\n",
       "      <th>BenefitName</th>\n",
       "      <th>BusinessYear</th>\n",
       "      <th>CoinsInnTier1</th>\n",
       "      <th>CoinsOutofNet</th>\n",
       "      <th>CopayInnTier1</th>\n",
       "      <th>CopayOutofNet</th>\n",
       "      <th>EHBVarReason</th>\n",
       "      <th>ImportDate</th>\n",
       "      <th>IsCovered</th>\n",
       "      <th>IsEHB</th>\n",
       "      <th>...</th>\n",
       "      <th>IsExclFromOonMOOP</th>\n",
       "      <th>IsSubjToDedTier1</th>\n",
       "      <th>IsSubjToDedTier2</th>\n",
       "      <th>IssuerId</th>\n",
       "      <th>PlanId</th>\n",
       "      <th>QuantLimitOnSvc</th>\n",
       "      <th>SourceName</th>\n",
       "      <th>StandardComponentId</th>\n",
       "      <th>StateCode</th>\n",
       "      <th>VersionNum</th>\n",
       "    </tr>\n",
       "  </thead>\n",
       "  <tbody>\n",
       "    <tr>\n",
       "      <th>0</th>\n",
       "      <td>645</td>\n",
       "      <td>2022</td>\n",
       "      <td>15</td>\n",
       "      <td>8</td>\n",
       "      <td>0</td>\n",
       "      <td>0</td>\n",
       "      <td>1</td>\n",
       "      <td>1647673609</td>\n",
       "      <td>0</td>\n",
       "      <td>0</td>\n",
       "      <td>...</td>\n",
       "      <td>1</td>\n",
       "      <td>0</td>\n",
       "      <td>1</td>\n",
       "      <td>21989</td>\n",
       "      <td>6560</td>\n",
       "      <td>2</td>\n",
       "      <td>0</td>\n",
       "      <td>2023</td>\n",
       "      <td>0</td>\n",
       "      <td>6</td>\n",
       "    </tr>\n",
       "    <tr>\n",
       "      <th>1</th>\n",
       "      <td>153</td>\n",
       "      <td>2022</td>\n",
       "      <td>15</td>\n",
       "      <td>8</td>\n",
       "      <td>0</td>\n",
       "      <td>0</td>\n",
       "      <td>6</td>\n",
       "      <td>1647673609</td>\n",
       "      <td>0</td>\n",
       "      <td>0</td>\n",
       "      <td>...</td>\n",
       "      <td>1</td>\n",
       "      <td>0</td>\n",
       "      <td>1</td>\n",
       "      <td>21989</td>\n",
       "      <td>6560</td>\n",
       "      <td>2</td>\n",
       "      <td>0</td>\n",
       "      <td>2023</td>\n",
       "      <td>0</td>\n",
       "      <td>6</td>\n",
       "    </tr>\n",
       "    <tr>\n",
       "      <th>2</th>\n",
       "      <td>61</td>\n",
       "      <td>2022</td>\n",
       "      <td>36</td>\n",
       "      <td>17</td>\n",
       "      <td>0</td>\n",
       "      <td>0</td>\n",
       "      <td>6</td>\n",
       "      <td>1647673609</td>\n",
       "      <td>0</td>\n",
       "      <td>0</td>\n",
       "      <td>...</td>\n",
       "      <td>1</td>\n",
       "      <td>2</td>\n",
       "      <td>2</td>\n",
       "      <td>21989</td>\n",
       "      <td>6560</td>\n",
       "      <td>1</td>\n",
       "      <td>0</td>\n",
       "      <td>2023</td>\n",
       "      <td>0</td>\n",
       "      <td>6</td>\n",
       "    </tr>\n",
       "    <tr>\n",
       "      <th>3</th>\n",
       "      <td>473</td>\n",
       "      <td>2022</td>\n",
       "      <td>45</td>\n",
       "      <td>22</td>\n",
       "      <td>0</td>\n",
       "      <td>0</td>\n",
       "      <td>3</td>\n",
       "      <td>1647673609</td>\n",
       "      <td>0</td>\n",
       "      <td>0</td>\n",
       "      <td>...</td>\n",
       "      <td>1</td>\n",
       "      <td>2</td>\n",
       "      <td>2</td>\n",
       "      <td>21989</td>\n",
       "      <td>6560</td>\n",
       "      <td>1</td>\n",
       "      <td>0</td>\n",
       "      <td>2023</td>\n",
       "      <td>0</td>\n",
       "      <td>6</td>\n",
       "    </tr>\n",
       "    <tr>\n",
       "      <th>4</th>\n",
       "      <td>366</td>\n",
       "      <td>2022</td>\n",
       "      <td>45</td>\n",
       "      <td>22</td>\n",
       "      <td>0</td>\n",
       "      <td>0</td>\n",
       "      <td>6</td>\n",
       "      <td>1647673609</td>\n",
       "      <td>0</td>\n",
       "      <td>0</td>\n",
       "      <td>...</td>\n",
       "      <td>1</td>\n",
       "      <td>2</td>\n",
       "      <td>2</td>\n",
       "      <td>21989</td>\n",
       "      <td>6560</td>\n",
       "      <td>1</td>\n",
       "      <td>0</td>\n",
       "      <td>2023</td>\n",
       "      <td>0</td>\n",
       "      <td>6</td>\n",
       "    </tr>\n",
       "  </tbody>\n",
       "</table>\n",
       "<p>5 rows × 21 columns</p>\n",
       "</div>"
      ],
      "text/plain": [
       "   BenefitName  BusinessYear  CoinsInnTier1  CoinsOutofNet  CopayInnTier1  \\\n",
       "0          645          2022             15              8              0   \n",
       "1          153          2022             15              8              0   \n",
       "2           61          2022             36             17              0   \n",
       "3          473          2022             45             22              0   \n",
       "4          366          2022             45             22              0   \n",
       "\n",
       "   CopayOutofNet  EHBVarReason  ImportDate  IsCovered  IsEHB  ...  \\\n",
       "0              0             1  1647673609          0      0  ...   \n",
       "1              0             6  1647673609          0      0  ...   \n",
       "2              0             6  1647673609          0      0  ...   \n",
       "3              0             3  1647673609          0      0  ...   \n",
       "4              0             6  1647673609          0      0  ...   \n",
       "\n",
       "   IsExclFromOonMOOP  IsSubjToDedTier1  IsSubjToDedTier2  IssuerId  PlanId  \\\n",
       "0                  1                 0                 1     21989    6560   \n",
       "1                  1                 0                 1     21989    6560   \n",
       "2                  1                 2                 2     21989    6560   \n",
       "3                  1                 2                 2     21989    6560   \n",
       "4                  1                 2                 2     21989    6560   \n",
       "\n",
       "   QuantLimitOnSvc  SourceName  StandardComponentId  StateCode  VersionNum  \n",
       "0                2           0                 2023          0           6  \n",
       "1                2           0                 2023          0           6  \n",
       "2                1           0                 2023          0           6  \n",
       "3                1           0                 2023          0           6  \n",
       "4                1           0                 2023          0           6  \n",
       "\n",
       "[5 rows x 21 columns]"
      ]
     },
     "execution_count": 43,
     "metadata": {},
     "output_type": "execute_result"
    }
   ],
   "source": [
    "benefits_df.head()"
   ]
  },
  {
   "cell_type": "code",
   "execution_count": 44,
   "id": "9c6fa259",
   "metadata": {},
   "outputs": [],
   "source": [
    "# Correlation matrix\n",
    "correlation_matrix = benefits_df.corr()"
   ]
  },
  {
   "cell_type": "code",
   "execution_count": 45,
   "id": "25c0a605",
   "metadata": {},
   "outputs": [
    {
     "data": {
      "image/png": "[encoded data removed]",
      "text/plain": [
       "<Figure size 1200x800 with 2 Axes>"
      ]
     },
     "metadata": {},
     "output_type": "display_data"
    }
   ],
   "source": [
    "import matplotlib.pyplot as plt\n",
    "import seaborn as sns\n",
    "# Heatmap of the correlation matrix\n",
    "plt.figure(figsize=(12, 8))\n",
    "sns.heatmap(correlation_matrix, annot=True, cmap='coolwarm', fmt='.2f', linewidths=0.5)\n",
    "plt.title('Correlation Matrix')\n",
    "plt.show()"
   ]
  },
  {
   "cell_type": "raw",
   "id": "bd7590b7",
   "metadata": {},
   "source": [
    "# Box plots for categorical features against the target variable (IndividualRate)\n",
    "plt.figure(figsize=(15, 20))\n",
    "for i, column in enumerate(categorical_features, 1):\n",
    "    plt.subplot(4, 2, i)\n",
    "    sns.boxplot(x=benefits_df[column], y=benefits_df['IsCovered'])\n",
    "    plt.title(f'{column} vs IsCovered')\n",
    "    plt.xticks(rotation=90)\n",
    "plt.tight_layout()\n",
    "plt.show()"
   ]
  },
  {
   "cell_type": "code",
   "execution_count": 46,
   "id": "5aef0978",
   "metadata": {},
   "outputs": [
    {
     "name": "stdout",
     "output_type": "stream",
     "text": [
      "IsCovered              1.000000\n",
      "IsSubjToDedTier2       0.241293\n",
      "IsSubjToDedTier1       0.132882\n",
      "EHBVarReason           0.050474\n",
      "IsExclFromInnMOOP      0.033712\n",
      "PlanId                 0.009224\n",
      "StandardComponentId    0.008771\n",
      "IssuerId               0.007535\n",
      "StateCode              0.006227\n",
      "SourceName             0.002727\n",
      "ImportDate            -0.000180\n",
      "VersionNum            -0.014589\n",
      "CopayOutofNet         -0.075829\n",
      "BenefitName           -0.127852\n",
      "IsExclFromOonMOOP     -0.135366\n",
      "CopayInnTier1         -0.161164\n",
      "QuantLimitOnSvc       -0.188568\n",
      "CoinsOutofNet         -0.251224\n",
      "CoinsInnTier1         -0.300270\n",
      "BusinessYear                NaN\n",
      "IsEHB                       NaN\n",
      "Name: IsCovered, dtype: float64\n"
     ]
    }
   ],
   "source": [
    "# Calculate the Pearson correlation coefficient for numerical features\n",
    "correlations = benefits_df.corr()\n",
    "target_correlations = correlations['IsCovered'].sort_values(ascending=False)\n",
    "print(target_correlations)"
   ]
  },
  {
   "cell_type": "raw",
   "id": "80238308",
   "metadata": {},
   "source": [
    "# List of selected features--11 columns\n",
    "features_sel =[['CoinsOutofNet', 'CoinsInnTier1', 'CopayInnTier1', 'CopayOutofNet', 'IsExclFromInnMOOP','IsExclFromOonMOOP',\n",
    "           'IsSubjToDedTier1','IsSubjToDedTier2','IssuerId','PlanId','StandardComponentId','IsCovered']]"
   ]
  },
  {
   "cell_type": "code",
   "execution_count": null,
   "id": "fd7f1aab",
   "metadata": {},
   "outputs": [],
   "source": []
  },
  {
   "cell_type": "code",
   "execution_count": null,
   "id": "120aefe6",
   "metadata": {},
   "outputs": [],
   "source": []
  },
  {
   "cell_type": "code",
   "execution_count": 69,
   "id": "b89b4a4c",
   "metadata": {},
   "outputs": [
    {
     "data": {
      "image/png": "[encoded data removed]",
      "text/plain": [
       "<Figure size 640x480 with 1 Axes>"
      ]
     },
     "metadata": {},
     "output_type": "display_data"
    }
   ],
   "source": [
    "import matplotlib.pyplot as plt\n",
    "\n",
    "# assume 'category' is a categorical column in a pandas DataFrame 'df'\n",
    "plt.bar(benefits_df['IsCovered'].value_counts().index, benefits_df['IsCovered'].value_counts().values)\n",
    "plt.xlabel('IsCovered')\n",
    "plt.ylabel('Frequency')\n",
    "plt.title('Bar Chart of Categories')\n",
    "plt.show()"
   ]
  },
  {
   "cell_type": "code",
   "execution_count": 47,
   "id": "a4025789",
   "metadata": {},
   "outputs": [],
   "source": [
    "\n",
    "# Train a Gradient Boosting Classifier\n",
    "from sklearn.ensemble import GradientBoostingClassifier\n"
   ]
  },
  {
   "cell_type": "code",
   "execution_count": 48,
   "id": "852a6483",
   "metadata": {},
   "outputs": [],
   "source": [
    "# Define features and target variable\n",
    "X = benefits_df.drop(columns=['IsCovered'])\n",
    "y = benefits_df['IsCovered']"
   ]
  },
  {
   "cell_type": "code",
   "execution_count": 49,
   "id": "5d9c36c6",
   "metadata": {},
   "outputs": [],
   "source": [
    "# Convert categorical variables using one-hot encoding\n",
    "X = pd.get_dummies(X, drop_first=True) "
   ]
  },
  {
   "cell_type": "code",
   "execution_count": 52,
   "id": "c430afed",
   "metadata": {},
   "outputs": [],
   "source": [
    "# Split the data into training and testing sets\n",
    "from sklearn.model_selection import train_test_split\n",
    "\n",
    "X_train, X_test, y_train, y_test = train_test_split(X, y, test_size=0.3, random_state=42)"
   ]
  },
  {
   "cell_type": "code",
   "execution_count": 53,
   "id": "f783158c",
   "metadata": {},
   "outputs": [
    {
     "data": {
      "text/html": [
       "<style>#sk-container-id-1 {color: black;}#sk-container-id-1 pre{padding: 0;}#sk-container-id-1 div.sk-toggleable {background-color: white;}#sk-container-id-1 label.sk-toggleable__label {cursor: pointer;display: block;width: 100%;margin-bottom: 0;padding: 0.3em;box-sizing: border-box;text-align: center;}#sk-container-id-1 label.sk-toggleable__label-arrow:before {content: \"▸\";float: left;margin-right: 0.25em;color: #696969;}#sk-container-id-1 label.sk-toggleable__label-arrow:hover:before {color: black;}#sk-container-id-1 div.sk-estimator:hover label.sk-toggleable__label-arrow:before {color: black;}#sk-container-id-1 div.sk-toggleable__content {max-height: 0;max-width: 0;overflow: hidden;text-align: left;background-color: #f0f8ff;}#sk-container-id-1 div.sk-toggleable__content pre {margin: 0.2em;color: black;border-radius: 0.25em;background-color: #f0f8ff;}#sk-container-id-1 input.sk-toggleable__control:checked~div.sk-toggleable__content {max-height: 200px;max-width: 100%;overflow: auto;}#sk-container-id-1 input.sk-toggleable__control:checked~label.sk-toggleable__label-arrow:before {content: \"▾\";}#sk-container-id-1 div.sk-estimator input.sk-toggleable__control:checked~label.sk-toggleable__label {background-color: #d4ebff;}#sk-container-id-1 div.sk-label input.sk-toggleable__control:checked~label.sk-toggleable__label {background-color: #d4ebff;}#sk-container-id-1 input.sk-hidden--visually {border: 0;clip: rect(1px 1px 1px 1px);clip: rect(1px, 1px, 1px, 1px);height: 1px;margin: -1px;overflow: hidden;padding: 0;position: absolute;width: 1px;}#sk-container-id-1 div.sk-estimator {font-family: monospace;background-color: #f0f8ff;border: 1px dotted black;border-radius: 0.25em;box-sizing: border-box;margin-bottom: 0.5em;}#sk-container-id-1 div.sk-estimator:hover {background-color: #d4ebff;}#sk-container-id-1 div.sk-parallel-item::after {content: \"\";width: 100%;border-bottom: 1px solid gray;flex-grow: 1;}#sk-container-id-1 div.sk-label:hover label.sk-toggleable__label {background-color: #d4ebff;}#sk-container-id-1 div.sk-serial::before {content: \"\";position: absolute;border-left: 1px solid gray;box-sizing: border-box;top: 0;bottom: 0;left: 50%;z-index: 0;}#sk-container-id-1 div.sk-serial {display: flex;flex-direction: column;align-items: center;background-color: white;padding-right: 0.2em;padding-left: 0.2em;position: relative;}#sk-container-id-1 div.sk-item {position: relative;z-index: 1;}#sk-container-id-1 div.sk-parallel {display: flex;align-items: stretch;justify-content: center;background-color: white;position: relative;}#sk-container-id-1 div.sk-item::before, #sk-container-id-1 div.sk-parallel-item::before {content: \"\";position: absolute;border-left: 1px solid gray;box-sizing: border-box;top: 0;bottom: 0;left: 50%;z-index: -1;}#sk-container-id-1 div.sk-parallel-item {display: flex;flex-direction: column;z-index: 1;position: relative;background-color: white;}#sk-container-id-1 div.sk-parallel-item:first-child::after {align-self: flex-end;width: 50%;}#sk-container-id-1 div.sk-parallel-item:last-child::after {align-self: flex-start;width: 50%;}#sk-container-id-1 div.sk-parallel-item:only-child::after {width: 0;}#sk-container-id-1 div.sk-dashed-wrapped {border: 1px dashed gray;margin: 0 0.4em 0.5em 0.4em;box-sizing: border-box;padding-bottom: 0.4em;background-color: white;}#sk-container-id-1 div.sk-label label {font-family: monospace;font-weight: bold;display: inline-block;line-height: 1.2em;}#sk-container-id-1 div.sk-label-container {text-align: center;}#sk-container-id-1 div.sk-container {/* jupyter's `normalize.less` sets `[hidden] { display: none; }` but bootstrap.min.css set `[hidden] { display: none !important; }` so we also need the `!important` here to be able to override the default hidden behavior on the sphinx rendered scikit-learn.org. See: https://github.com/scikit-learn/scikit-learn/issues/21755 */display: inline-block !important;position: relative;}#sk-container-id-1 div.sk-text-repr-fallback {display: none;}</style><div id=\"sk-container-id-1\" class=\"sk-top-container\"><div class=\"sk-text-repr-fallback\"><pre>GradientBoostingClassifier(random_state=42)</pre><b>In a Jupyter environment, please rerun this cell to show the HTML representation or trust the notebook. <br />On GitHub, the HTML representation is unable to render, please try loading this page with nbviewer.org.</b></div><div class=\"sk-container\" hidden><div class=\"sk-item\"><div class=\"sk-estimator sk-toggleable\"><input class=\"sk-toggleable__control sk-hidden--visually\" id=\"sk-estimator-id-1\" type=\"checkbox\" checked><label for=\"sk-estimator-id-1\" class=\"sk-toggleable__label sk-toggleable__label-arrow\">GradientBoostingClassifier</label><div class=\"sk-toggleable__content\"><pre>GradientBoostingClassifier(random_state=42)</pre></div></div></div></div></div>"
      ],
      "text/plain": [
       "GradientBoostingClassifier(random_state=42)"
      ]
     },
     "execution_count": 53,
     "metadata": {},
     "output_type": "execute_result"
    }
   ],
   "source": [
    "# Train a Gradient Boosting Classifier\n",
    "gbc = GradientBoostingClassifier(n_estimators=100, learning_rate=0.1, random_state=42)\n",
    "gbc.fit(X_train, y_train)"
   ]
  },
  {
   "cell_type": "code",
   "execution_count": 54,
   "id": "e575afd3",
   "metadata": {},
   "outputs": [
    {
     "name": "stdout",
     "output_type": "stream",
     "text": [
      "Accuracy: 0.988559241071952\n"
     ]
    }
   ],
   "source": [
    "from sklearn.metrics import accuracy_score\n",
    "# Evaluate the model\n",
    "y_pred = gbc.predict(X_test)\n",
    "print(\"Accuracy:\", accuracy_score(y_test, y_pred))"
   ]
  },
  {
   "cell_type": "code",
   "execution_count": 55,
   "id": "801e389a",
   "metadata": {},
   "outputs": [
    {
     "name": "stdout",
     "output_type": "stream",
     "text": [
      "Classification Report:\n",
      "              precision    recall  f1-score   support\n",
      "\n",
      "           0       1.00      0.99      0.99   1180146\n",
      "           1       0.95      0.99      0.97    269347\n",
      "           2       1.00      0.97      0.99       236\n",
      "\n",
      "    accuracy                           0.99   1449729\n",
      "   macro avg       0.98      0.99      0.98   1449729\n",
      "weighted avg       0.99      0.99      0.99   1449729\n",
      "\n"
     ]
    }
   ],
   "source": [
    "from sklearn.metrics import classification_report\n",
    "print(\"Classification Report:\")\n",
    "print(classification_report(y_test, y_pred))"
   ]
  },
  {
   "cell_type": "code",
   "execution_count": 56,
   "id": "3726df8e",
   "metadata": {},
   "outputs": [
    {
     "name": "stdout",
     "output_type": "stream",
     "text": [
      "Confusion Matrix:\n",
      "[[1165318   14828       0]\n",
      " [   1752  267595       0]\n",
      " [      0       6     230]]\n"
     ]
    }
   ],
   "source": [
    "from sklearn.metrics import confusion_matrix\n",
    "print(\"Confusion Matrix:\")\n",
    "print(confusion_matrix(y_test, y_pred))"
   ]
  },
  {
   "cell_type": "code",
   "execution_count": null,
   "id": "dae18550",
   "metadata": {},
   "outputs": [],
   "source": []
  },
  {
   "cell_type": "code",
   "execution_count": 60,
   "id": "f5da5783",
   "metadata": {},
   "outputs": [],
   "source": [
    "import pandas as pd\n",
    "from sklearn.model_selection import train_test_split\n",
    "from sklearn.linear_model import LogisticRegression\n",
    "from sklearn.metrics import accuracy_score, confusion_matrix, classification_report"
   ]
  },
  {
   "cell_type": "code",
   "execution_count": 61,
   "id": "f6be7cf7",
   "metadata": {},
   "outputs": [
    {
     "data": {
      "text/html": [
       "<style>#sk-container-id-2 {color: black;}#sk-container-id-2 pre{padding: 0;}#sk-container-id-2 div.sk-toggleable {background-color: white;}#sk-container-id-2 label.sk-toggleable__label {cursor: pointer;display: block;width: 100%;margin-bottom: 0;padding: 0.3em;box-sizing: border-box;text-align: center;}#sk-container-id-2 label.sk-toggleable__label-arrow:before {content: \"▸\";float: left;margin-right: 0.25em;color: #696969;}#sk-container-id-2 label.sk-toggleable__label-arrow:hover:before {color: black;}#sk-container-id-2 div.sk-estimator:hover label.sk-toggleable__label-arrow:before {color: black;}#sk-container-id-2 div.sk-toggleable__content {max-height: 0;max-width: 0;overflow: hidden;text-align: left;background-color: #f0f8ff;}#sk-container-id-2 div.sk-toggleable__content pre {margin: 0.2em;color: black;border-radius: 0.25em;background-color: #f0f8ff;}#sk-container-id-2 input.sk-toggleable__control:checked~div.sk-toggleable__content {max-height: 200px;max-width: 100%;overflow: auto;}#sk-container-id-2 input.sk-toggleable__control:checked~label.sk-toggleable__label-arrow:before {content: \"▾\";}#sk-container-id-2 div.sk-estimator input.sk-toggleable__control:checked~label.sk-toggleable__label {background-color: #d4ebff;}#sk-container-id-2 div.sk-label input.sk-toggleable__control:checked~label.sk-toggleable__label {background-color: #d4ebff;}#sk-container-id-2 input.sk-hidden--visually {border: 0;clip: rect(1px 1px 1px 1px);clip: rect(1px, 1px, 1px, 1px);height: 1px;margin: -1px;overflow: hidden;padding: 0;position: absolute;width: 1px;}#sk-container-id-2 div.sk-estimator {font-family: monospace;background-color: #f0f8ff;border: 1px dotted black;border-radius: 0.25em;box-sizing: border-box;margin-bottom: 0.5em;}#sk-container-id-2 div.sk-estimator:hover {background-color: #d4ebff;}#sk-container-id-2 div.sk-parallel-item::after {content: \"\";width: 100%;border-bottom: 1px solid gray;flex-grow: 1;}#sk-container-id-2 div.sk-label:hover label.sk-toggleable__label {background-color: #d4ebff;}#sk-container-id-2 div.sk-serial::before {content: \"\";position: absolute;border-left: 1px solid gray;box-sizing: border-box;top: 0;bottom: 0;left: 50%;z-index: 0;}#sk-container-id-2 div.sk-serial {display: flex;flex-direction: column;align-items: center;background-color: white;padding-right: 0.2em;padding-left: 0.2em;position: relative;}#sk-container-id-2 div.sk-item {position: relative;z-index: 1;}#sk-container-id-2 div.sk-parallel {display: flex;align-items: stretch;justify-content: center;background-color: white;position: relative;}#sk-container-id-2 div.sk-item::before, #sk-container-id-2 div.sk-parallel-item::before {content: \"\";position: absolute;border-left: 1px solid gray;box-sizing: border-box;top: 0;bottom: 0;left: 50%;z-index: -1;}#sk-container-id-2 div.sk-parallel-item {display: flex;flex-direction: column;z-index: 1;position: relative;background-color: white;}#sk-container-id-2 div.sk-parallel-item:first-child::after {align-self: flex-end;width: 50%;}#sk-container-id-2 div.sk-parallel-item:last-child::after {align-self: flex-start;width: 50%;}#sk-container-id-2 div.sk-parallel-item:only-child::after {width: 0;}#sk-container-id-2 div.sk-dashed-wrapped {border: 1px dashed gray;margin: 0 0.4em 0.5em 0.4em;box-sizing: border-box;padding-bottom: 0.4em;background-color: white;}#sk-container-id-2 div.sk-label label {font-family: monospace;font-weight: bold;display: inline-block;line-height: 1.2em;}#sk-container-id-2 div.sk-label-container {text-align: center;}#sk-container-id-2 div.sk-container {/* jupyter's `normalize.less` sets `[hidden] { display: none; }` but bootstrap.min.css set `[hidden] { display: none !important; }` so we also need the `!important` here to be able to override the default hidden behavior on the sphinx rendered scikit-learn.org. See: https://github.com/scikit-learn/scikit-learn/issues/21755 */display: inline-block !important;position: relative;}#sk-container-id-2 div.sk-text-repr-fallback {display: none;}</style><div id=\"sk-container-id-2\" class=\"sk-top-container\"><div class=\"sk-text-repr-fallback\"><pre>LogisticRegression()</pre><b>In a Jupyter environment, please rerun this cell to show the HTML representation or trust the notebook. <br />On GitHub, the HTML representation is unable to render, please try loading this page with nbviewer.org.</b></div><div class=\"sk-container\" hidden><div class=\"sk-item\"><div class=\"sk-estimator sk-toggleable\"><input class=\"sk-toggleable__control sk-hidden--visually\" id=\"sk-estimator-id-2\" type=\"checkbox\" checked><label for=\"sk-estimator-id-2\" class=\"sk-toggleable__label sk-toggleable__label-arrow\">LogisticRegression</label><div class=\"sk-toggleable__content\"><pre>LogisticRegression()</pre></div></div></div></div></div>"
      ],
      "text/plain": [
       "LogisticRegression()"
      ]
     },
     "execution_count": 61,
     "metadata": {},
     "output_type": "execute_result"
    }
   ],
   "source": [
    "# Train Logistic Regression model\n",
    "model = LogisticRegression()\n",
    "model.fit(X_train, y_train)"
   ]
  },
  {
   "cell_type": "code",
   "execution_count": 62,
   "id": "9452a195",
   "metadata": {},
   "outputs": [
    {
     "name": "stdout",
     "output_type": "stream",
     "text": [
      "Accuracy: 0.8140459354817349\n"
     ]
    }
   ],
   "source": [
    "# Predict and evaluate\n",
    "y_pred = model.predict(X_test)\n",
    "print(f'Accuracy: {accuracy_score(y_test, y_pred)}')"
   ]
  },
  {
   "cell_type": "code",
   "execution_count": 63,
   "id": "ab285ed2",
   "metadata": {},
   "outputs": [
    {
     "name": "stdout",
     "output_type": "stream",
     "text": [
      "Confusion Matrix:\n",
      "[[1180146       0       0]\n",
      " [ 269347       0       0]\n",
      " [    236       0       0]]\n"
     ]
    }
   ],
   "source": [
    "# Confusion Matrix\n",
    "print(\"Confusion Matrix:\")\n",
    "print(confusion_matrix(y_test, y_pred))"
   ]
  },
  {
   "cell_type": "code",
   "execution_count": 64,
   "id": "13575000",
   "metadata": {},
   "outputs": [
    {
     "name": "stdout",
     "output_type": "stream",
     "text": [
      "Classification Report:\n"
     ]
    },
    {
     "name": "stderr",
     "output_type": "stream",
     "text": [
      "C:\\Users\\user\\anaconda3\\Lib\\site-packages\\sklearn\\metrics\\_classification.py:1469: UndefinedMetricWarning: Precision and F-score are ill-defined and being set to 0.0 in labels with no predicted samples. Use `zero_division` parameter to control this behavior.\n",
      "  _warn_prf(average, modifier, msg_start, len(result))\n",
      "C:\\Users\\user\\anaconda3\\Lib\\site-packages\\sklearn\\metrics\\_classification.py:1469: UndefinedMetricWarning: Precision and F-score are ill-defined and being set to 0.0 in labels with no predicted samples. Use `zero_division` parameter to control this behavior.\n",
      "  _warn_prf(average, modifier, msg_start, len(result))\n"
     ]
    },
    {
     "name": "stdout",
     "output_type": "stream",
     "text": [
      "              precision    recall  f1-score   support\n",
      "\n",
      "           0       0.81      1.00      0.90   1180146\n",
      "           1       0.00      0.00      0.00    269347\n",
      "           2       0.00      0.00      0.00       236\n",
      "\n",
      "    accuracy                           0.81   1449729\n",
      "   macro avg       0.27      0.33      0.30   1449729\n",
      "weighted avg       0.66      0.81      0.73   1449729\n",
      "\n"
     ]
    },
    {
     "name": "stderr",
     "output_type": "stream",
     "text": [
      "C:\\Users\\user\\anaconda3\\Lib\\site-packages\\sklearn\\metrics\\_classification.py:1469: UndefinedMetricWarning: Precision and F-score are ill-defined and being set to 0.0 in labels with no predicted samples. Use `zero_division` parameter to control this behavior.\n",
      "  _warn_prf(average, modifier, msg_start, len(result))\n"
     ]
    }
   ],
   "source": [
    "# Classification Report\n",
    "print(\"Classification Report:\")\n",
    "print(classification_report(y_test, y_pred))"
   ]
  },
  {
   "cell_type": "code",
   "execution_count": null,
   "id": "145ed699",
   "metadata": {},
   "outputs": [],
   "source": []
  },
  {
   "cell_type": "code",
   "execution_count": null,
   "id": "2a765ff6",
   "metadata": {},
   "outputs": [],
   "source": []
  },
  {
   "cell_type": "code",
   "execution_count": 65,
   "id": "d8b08289",
   "metadata": {},
   "outputs": [],
   "source": [
    "import pandas as pd\n",
    "from sklearn.model_selection import train_test_split\n",
    "from sklearn.ensemble import RandomForestClassifier\n",
    "from sklearn.metrics import accuracy_score, confusion_matrix, classification_report, r2_score"
   ]
  },
  {
   "cell_type": "code",
   "execution_count": 66,
   "id": "d93fad9e",
   "metadata": {},
   "outputs": [
    {
     "data": {
      "text/html": [
       "<style>#sk-container-id-3 {color: black;}#sk-container-id-3 pre{padding: 0;}#sk-container-id-3 div.sk-toggleable {background-color: white;}#sk-container-id-3 label.sk-toggleable__label {cursor: pointer;display: block;width: 100%;margin-bottom: 0;padding: 0.3em;box-sizing: border-box;text-align: center;}#sk-container-id-3 label.sk-toggleable__label-arrow:before {content: \"▸\";float: left;margin-right: 0.25em;color: #696969;}#sk-container-id-3 label.sk-toggleable__label-arrow:hover:before {color: black;}#sk-container-id-3 div.sk-estimator:hover label.sk-toggleable__label-arrow:before {color: black;}#sk-container-id-3 div.sk-toggleable__content {max-height: 0;max-width: 0;overflow: hidden;text-align: left;background-color: #f0f8ff;}#sk-container-id-3 div.sk-toggleable__content pre {margin: 0.2em;color: black;border-radius: 0.25em;background-color: #f0f8ff;}#sk-container-id-3 input.sk-toggleable__control:checked~div.sk-toggleable__content {max-height: 200px;max-width: 100%;overflow: auto;}#sk-container-id-3 input.sk-toggleable__control:checked~label.sk-toggleable__label-arrow:before {content: \"▾\";}#sk-container-id-3 div.sk-estimator input.sk-toggleable__control:checked~label.sk-toggleable__label {background-color: #d4ebff;}#sk-container-id-3 div.sk-label input.sk-toggleable__control:checked~label.sk-toggleable__label {background-color: #d4ebff;}#sk-container-id-3 input.sk-hidden--visually {border: 0;clip: rect(1px 1px 1px 1px);clip: rect(1px, 1px, 1px, 1px);height: 1px;margin: -1px;overflow: hidden;padding: 0;position: absolute;width: 1px;}#sk-container-id-3 div.sk-estimator {font-family: monospace;background-color: #f0f8ff;border: 1px dotted black;border-radius: 0.25em;box-sizing: border-box;margin-bottom: 0.5em;}#sk-container-id-3 div.sk-estimator:hover {background-color: #d4ebff;}#sk-container-id-3 div.sk-parallel-item::after {content: \"\";width: 100%;border-bottom: 1px solid gray;flex-grow: 1;}#sk-container-id-3 div.sk-label:hover label.sk-toggleable__label {background-color: #d4ebff;}#sk-container-id-3 div.sk-serial::before {content: \"\";position: absolute;border-left: 1px solid gray;box-sizing: border-box;top: 0;bottom: 0;left: 50%;z-index: 0;}#sk-container-id-3 div.sk-serial {display: flex;flex-direction: column;align-items: center;background-color: white;padding-right: 0.2em;padding-left: 0.2em;position: relative;}#sk-container-id-3 div.sk-item {position: relative;z-index: 1;}#sk-container-id-3 div.sk-parallel {display: flex;align-items: stretch;justify-content: center;background-color: white;position: relative;}#sk-container-id-3 div.sk-item::before, #sk-container-id-3 div.sk-parallel-item::before {content: \"\";position: absolute;border-left: 1px solid gray;box-sizing: border-box;top: 0;bottom: 0;left: 50%;z-index: -1;}#sk-container-id-3 div.sk-parallel-item {display: flex;flex-direction: column;z-index: 1;position: relative;background-color: white;}#sk-container-id-3 div.sk-parallel-item:first-child::after {align-self: flex-end;width: 50%;}#sk-container-id-3 div.sk-parallel-item:last-child::after {align-self: flex-start;width: 50%;}#sk-container-id-3 div.sk-parallel-item:only-child::after {width: 0;}#sk-container-id-3 div.sk-dashed-wrapped {border: 1px dashed gray;margin: 0 0.4em 0.5em 0.4em;box-sizing: border-box;padding-bottom: 0.4em;background-color: white;}#sk-container-id-3 div.sk-label label {font-family: monospace;font-weight: bold;display: inline-block;line-height: 1.2em;}#sk-container-id-3 div.sk-label-container {text-align: center;}#sk-container-id-3 div.sk-container {/* jupyter's `normalize.less` sets `[hidden] { display: none; }` but bootstrap.min.css set `[hidden] { display: none !important; }` so we also need the `!important` here to be able to override the default hidden behavior on the sphinx rendered scikit-learn.org. See: https://github.com/scikit-learn/scikit-learn/issues/21755 */display: inline-block !important;position: relative;}#sk-container-id-3 div.sk-text-repr-fallback {display: none;}</style><div id=\"sk-container-id-3\" class=\"sk-top-container\"><div class=\"sk-text-repr-fallback\"><pre>RandomForestClassifier()</pre><b>In a Jupyter environment, please rerun this cell to show the HTML representation or trust the notebook. <br />On GitHub, the HTML representation is unable to render, please try loading this page with nbviewer.org.</b></div><div class=\"sk-container\" hidden><div class=\"sk-item\"><div class=\"sk-estimator sk-toggleable\"><input class=\"sk-toggleable__control sk-hidden--visually\" id=\"sk-estimator-id-3\" type=\"checkbox\" checked><label for=\"sk-estimator-id-3\" class=\"sk-toggleable__label sk-toggleable__label-arrow\">RandomForestClassifier</label><div class=\"sk-toggleable__content\"><pre>RandomForestClassifier()</pre></div></div></div></div></div>"
      ],
      "text/plain": [
       "RandomForestClassifier()"
      ]
     },
     "execution_count": 66,
     "metadata": {},
     "output_type": "execute_result"
    }
   ],
   "source": [
    "# Initialize and train the model\n",
    "model = RandomForestClassifier()\n",
    "model.fit(X_train, y_train)"
   ]
  },
  {
   "cell_type": "code",
   "execution_count": 70,
   "id": "48534674",
   "metadata": {},
   "outputs": [],
   "source": [
    "# Predict probabilities\n",
    "y_pred_prob = model.predict_proba(X_test)[:, 1]  "
   ]
  },
  {
   "cell_type": "code",
   "execution_count": 71,
   "id": "0605d742",
   "metadata": {},
   "outputs": [],
   "source": [
    "# Predict classes\n",
    "y_pred = model.predict(X_test)"
   ]
  },
  {
   "cell_type": "code",
   "execution_count": 72,
   "id": "10d42414",
   "metadata": {},
   "outputs": [
    {
     "name": "stdout",
     "output_type": "stream",
     "text": [
      "Accuracy: 0.9992281316025271\n",
      "Confusion Matrix:\n",
      "[[1179732     414       0]\n",
      " [    703  268642       2]\n",
      " [      0       0     236]]\n",
      "Classification Report:\n",
      "              precision    recall  f1-score   support\n",
      "\n",
      "           0       1.00      1.00      1.00   1180146\n",
      "           1       1.00      1.00      1.00    269347\n",
      "           2       0.99      1.00      1.00       236\n",
      "\n",
      "    accuracy                           1.00   1449729\n",
      "   macro avg       1.00      1.00      1.00   1449729\n",
      "weighted avg       1.00      1.00      1.00   1449729\n",
      "\n"
     ]
    }
   ],
   "source": [
    "# Evaluate performance\n",
    "print(f'Accuracy: {accuracy_score(y_test, y_pred)}')\n",
    "print(\"Confusion Matrix:\")\n",
    "print(confusion_matrix(y_test, y_pred))\n",
    "print(\"Classification Report:\")\n",
    "print(classification_report(y_test, y_pred))"
   ]
  },
  {
   "cell_type": "code",
   "execution_count": 73,
   "id": "a6f43af5",
   "metadata": {},
   "outputs": [
    {
     "name": "stdout",
     "output_type": "stream",
     "text": [
      "R-squared: 0.9898540810859509\n"
     ]
    }
   ],
   "source": [
    "# Calculate R-squared\n",
    "r2 = r2_score(y_test, y_pred_prob)\n",
    "print(f'R-squared: {r2}')"
   ]
  },
  {
   "cell_type": "code",
   "execution_count": null,
   "id": "cd8d222f",
   "metadata": {},
   "outputs": [],
   "source": []
  },
  {
   "cell_type": "code",
   "execution_count": null,
   "id": "e5440d79",
   "metadata": {},
   "outputs": [],
   "source": []
  },
  {
   "cell_type": "code",
   "execution_count": null,
   "id": "e11e8d49",
   "metadata": {},
   "outputs": [],
   "source": []
  },
  {
   "cell_type": "code",
   "execution_count": null,
   "id": "3e3f7fb3",
   "metadata": {},
   "outputs": [],
   "source": [
    "from sklearn.model_selection import cross_val_score, KFold\n",
    "kfold = KFold(n_splits=5, shuffle=True, random_state=42)"
   ]
  },
  {
   "cell_type": "code",
   "execution_count": null,
   "id": "cc58d8c9",
   "metadata": {},
   "outputs": [],
   "source": [
    "scores = cross_val_score(gbc, X, y, cv=kfold, scoring='accuracy')"
   ]
  },
  {
   "cell_type": "code",
   "execution_count": null,
   "id": "e7c87358",
   "metadata": {},
   "outputs": [],
   "source": []
  },
  {
   "cell_type": "code",
   "execution_count": null,
   "id": "0bc50420",
   "metadata": {},
   "outputs": [],
   "source": []
  },
  {
   "cell_type": "code",
   "execution_count": null,
   "id": "181a363a",
   "metadata": {},
   "outputs": [],
   "source": []
  },
  {
   "cell_type": "code",
   "execution_count": null,
   "id": "ffa1ad7d",
   "metadata": {},
   "outputs": [],
   "source": []
  },
  {
   "cell_type": "code",
   "execution_count": null,
   "id": "14aa09fd",
   "metadata": {},
   "outputs": [],
   "source": []
  },
  {
   "cell_type": "raw",
   "id": "fcea6024",
   "metadata": {},
   "source": [
    "For Problem Statement 2: Analyze the impact of copayment and coinsurance rates on insurance plan uptake\n",
    "•\tTarget Column: PlanId (categorical target variable, where each unique value represents a specific insurance plan)\n"
   ]
  },
  {
   "cell_type": "raw",
   "id": "33324ee3",
   "metadata": {},
   "source": [
    "Problem Statement 2: Analyze the impact of copayment and coinsurance rates on insurance plan uptake\n",
    "Important Columns:\n",
    "•\tCopayInnTier1\n",
    "•\tCopayOutofNet\n",
    "•\tCoinsInnTier1\n",
    "•\tCoinsOutofNet\n",
    "•\tPlanId\n",
    "•\tIssuerId\n",
    "•\tStateCode\n"
   ]
  },
  {
   "cell_type": "code",
   "execution_count": null,
   "id": "233cb2bb",
   "metadata": {},
   "outputs": [],
   "source": [
    "# List of selected features--11 columns\n",
    "features_sel = ['CoinsOutofNet', 'CoinsInnTier1', 'CopayInnTier1', 'CopayOutofNet', 'IsExclFromInnMOOP'\n",
    "                ,'IsExclFromOonMOOP','IsSubjToDedTier1','IsSubjToDedTier2','IssuerId','PlanId',\n",
    "                'StandardComponentId']"
   ]
  },
  {
   "cell_type": "code",
   "execution_count": null,
   "id": "a0b7b256",
   "metadata": {},
   "outputs": [],
   "source": []
  },
  {
   "cell_type": "code",
   "execution_count": null,
   "id": "953cf977",
   "metadata": {},
   "outputs": [],
   "source": []
  },
  {
   "cell_type": "code",
   "execution_count": null,
   "id": "c31b4f66",
   "metadata": {},
   "outputs": [],
   "source": []
  },
  {
   "cell_type": "code",
   "execution_count": null,
   "id": "9f6c85e4",
   "metadata": {},
   "outputs": [],
   "source": []
  }
 ],
 "metadata": {
  "kernelspec": {
   "display_name": "Python 3 (ipykernel)",
   "language": "python",
   "name": "python3"
  },
  "language_info": {
   "codemirror_mode": {
    "name": "ipython",
    "version": 3
   },
   "file_extension": ".py",
   "mimetype": "text/x-python",
   "name": "python",
   "nbconvert_exporter": "python",
   "pygments_lexer": "ipython3",
   "version": "3.11.5"
  }
 },
 "nbformat": 4,
 "nbformat_minor": 5
}
