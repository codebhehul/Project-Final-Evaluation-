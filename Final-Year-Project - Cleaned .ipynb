{
 "cells": [
  {
   "cell_type": "code",
   "execution_count": null,
   "id": "6c82d170",
   "metadata": {},
   "outputs": [],
   "source": [
    "import pandas as pd\n",
    "import numpy as np\n",
    "import matplotlib.pyplot as plt\n",
    "import seaborn as sns\n",
    "from sklearn.model_selection import train_test_split, GridSearchCV, cross_val_score\n",
    "from sklearn.linear_model import LinearRegression\n",
    "from sklearn.ensemble import RandomForestRegressor, GradientBoostingRegressor\n",
    "from sklearn.metrics import mean_squared_error, mean_absolute_error, r2_score\n",
    "from sklearn.preprocessing import LabelEncoder, StandardScaler\n",
    "from scipy import stats\n",
    "import statsmodels.api as sm"
   ]
  },
  {
   "cell_type": "code",
   "execution_count": null,
   "id": "f55325bf",
   "metadata": {},
   "outputs": [],
   "source": []
  },
  {
   "cell_type": "markdown",
   "id": "5666f5b5",
   "metadata": {},
   "source": [
    "# Data Description"
   ]
  },
  {
   "cell_type": "code",
   "execution_count": null,
   "id": "e4c6575a",
   "metadata": {},
   "outputs": [],
   "source": [
    "# Load datasets\n",
    "rate_df = pd.read_csv('new_rate.csv')"
   ]
  },
  {
   "cell_type": "code",
   "execution_count": null,
   "id": "1df64824",
   "metadata": {},
   "outputs": [],
   "source": [
    "# Display basic information\n",
    "rate_df.info()"
   ]
  },
  {
   "cell_type": "code",
   "execution_count": null,
   "id": "228d2910",
   "metadata": {},
   "outputs": [],
   "source": [
    "rate_df.shape"
   ]
  },
  {
   "cell_type": "code",
   "execution_count": null,
   "id": "e6fbd525",
   "metadata": {},
   "outputs": [],
   "source": [
    "# Display summary statistics\n",
    "rate_df.describe()"
   ]
  },
  {
   "cell_type": "code",
   "execution_count": null,
   "id": "f0c86951",
   "metadata": {
    "scrolled": true
   },
   "outputs": [],
   "source": [
    "# Check for missing values\n",
    "missing_values = rate_df.isnull().sum()\n",
    "missing_values"
   ]
  },
  {
   "cell_type": "code",
   "execution_count": null,
   "id": "866b1a80",
   "metadata": {},
   "outputs": [],
   "source": [
    "# Count total number of rows\n",
    "total_rows = rate_df.shape[0]\n",
    "print(f\"Total number of rows: {total_rows}\")"
   ]
  },
  {
   "cell_type": "code",
   "execution_count": null,
   "id": "fa73bd92",
   "metadata": {},
   "outputs": [],
   "source": [
    "rate_df = rate_df.sample(n=200000, random_state=42)"
   ]
  },
  {
   "cell_type": "code",
   "execution_count": null,
   "id": "001d28b7",
   "metadata": {},
   "outputs": [],
   "source": [
    "rate_df.shape"
   ]
  },
  {
   "cell_type": "code",
   "execution_count": null,
   "id": "f5a7b503",
   "metadata": {},
   "outputs": [],
   "source": [
    "# Calculate the percentage of missing values in each column\n",
    "missing_percentage = rate_df.isnull().mean() * 100\n",
    "missing_percentage"
   ]
  },
  {
   "cell_type": "code",
   "execution_count": null,
   "id": "735a9441",
   "metadata": {},
   "outputs": [],
   "source": []
  },
  {
   "cell_type": "markdown",
   "id": "16ddf2eb",
   "metadata": {},
   "source": [
    "# Data Cleaning "
   ]
  },
  {
   "cell_type": "code",
   "execution_count": null,
   "id": "40fd3b44",
   "metadata": {},
   "outputs": [],
   "source": [
    "# Plot missing values\n",
    "plt.figure(figsize=(12, 6))\n",
    "sns.heatmap(rate_df.isnull(), cbar=False, cmap='viridis')\n",
    "plt.title('Missing Values Heatmap')\n",
    "plt.show()"
   ]
  },
  {
   "cell_type": "code",
   "execution_count": null,
   "id": "ddaa4b74",
   "metadata": {},
   "outputs": [],
   "source": [
    "# Drop columns with more than 50% missing values\n",
    "columns_to_drop = missing_percentage[missing_percentage > 70].index\n",
    "rate_df.drop(columns=columns_to_drop, inplace=True)"
   ]
  },
  {
   "cell_type": "code",
   "execution_count": null,
   "id": "097b72f7",
   "metadata": {},
   "outputs": [],
   "source": [
    "# List of columns to drop\n",
    "columns_to_drop = [\n",
    "    'ImportDate',\n",
    "    'FederalTIN'\n",
    "]"
   ]
  },
  {
   "cell_type": "code",
   "execution_count": null,
   "id": "46dae63f",
   "metadata": {},
   "outputs": [],
   "source": [
    "# Drop the specified columns\n",
    "rate_df.drop(columns=columns_to_drop, inplace=True)"
   ]
  },
  {
   "cell_type": "code",
   "execution_count": null,
   "id": "4a2f7e7f",
   "metadata": {},
   "outputs": [],
   "source": [
    "# Calculate the percentage of missing values in each column\n",
    "missing_percentage = rate_df.isnull().mean() * 100\n",
    "missing_percentage"
   ]
  },
  {
   "cell_type": "code",
   "execution_count": null,
   "id": "a42e5d44",
   "metadata": {},
   "outputs": [],
   "source": []
  },
  {
   "cell_type": "markdown",
   "id": "ad884589",
   "metadata": {},
   "source": [
    "# Data Preprocessing "
   ]
  },
  {
   "cell_type": "markdown",
   "id": "b9c70e47",
   "metadata": {},
   "source": []
  },
  {
   "cell_type": "markdown",
   "id": "b09aebc5",
   "metadata": {},
   "source": [
    "# Bussiness Year Handling"
   ]
  },
  {
   "cell_type": "code",
   "execution_count": null,
   "id": "2458b827",
   "metadata": {},
   "outputs": [],
   "source": [
    "# Replace BusinessYear values\n",
    "rate_df['BusinessYear'] = rate_df['BusinessYear'].replace({2014: 2021, 2015: 2022, 2016: 2023})"
   ]
  },
  {
   "cell_type": "markdown",
   "id": "3b212d59",
   "metadata": {},
   "source": [
    "# Age Data Handling"
   ]
  },
  {
   "cell_type": "code",
   "execution_count": null,
   "id": "1e0af2be",
   "metadata": {},
   "outputs": [],
   "source": [
    "# 1. Remove rows where Age is \"Family Option\"\n",
    "rate_df = rate_df[rate_df['Age'] != 'Family Option']"
   ]
  },
  {
   "cell_type": "code",
   "execution_count": null,
   "id": "417fffec",
   "metadata": {},
   "outputs": [],
   "source": [
    "# Replace '0-20' with 18 in the Age column\n",
    "rate_df['Age'] = rate_df['Age'].replace('0-20', 18)"
   ]
  },
  {
   "cell_type": "code",
   "execution_count": null,
   "id": "56f87aa8",
   "metadata": {},
   "outputs": [],
   "source": [
    "# Replace '65 and over' with a distributed value from 66 to 70\n",
    "rate_df['Age'] = rate_df['Age'].apply(lambda x: np.random.choice([66, 67, 68, 69, 70]) if x == '65 and over' else x)\n",
    "rate_df['Age'] = pd.to_numeric(rate_df['Age'], errors='coerce')"
   ]
  },
  {
   "cell_type": "code",
   "execution_count": null,
   "id": "938cb456",
   "metadata": {},
   "outputs": [],
   "source": []
  },
  {
   "cell_type": "markdown",
   "id": "94f1dcc3",
   "metadata": {},
   "source": [
    "# Handling the IndividualTabaccoRate"
   ]
  },
  {
   "cell_type": "code",
   "execution_count": null,
   "id": "9d51ed2f",
   "metadata": {},
   "outputs": [],
   "source": [
    "# Fill missing values in the 'IndividualTobaccoRate' column with 0\n",
    "rate_df['IndividualTobaccoRate'].fillna(0, inplace=True)"
   ]
  },
  {
   "cell_type": "code",
   "execution_count": null,
   "id": "9944763a",
   "metadata": {},
   "outputs": [],
   "source": [
    "# Verify that missing values have been filled\n",
    "print(rate_df['IndividualTobaccoRate'].isnull().sum())"
   ]
  },
  {
   "cell_type": "code",
   "execution_count": null,
   "id": "70f9e6dd",
   "metadata": {},
   "outputs": [],
   "source": [
    "# Calculate the percentage of missing values in each column\n",
    "missing_percentage = rate_df.isnull().mean() * 100\n",
    "missing_percentage"
   ]
  },
  {
   "cell_type": "code",
   "execution_count": null,
   "id": "2be0b4c0",
   "metadata": {},
   "outputs": [],
   "source": []
  },
  {
   "cell_type": "markdown",
   "id": "77473b21",
   "metadata": {},
   "source": [
    "# Handling RatingAreaID "
   ]
  },
  {
   "cell_type": "code",
   "execution_count": null,
   "id": "ddba5673",
   "metadata": {},
   "outputs": [],
   "source": [
    "# Remove 'Rating Area ' prefix in RatingAreaId\n",
    "rate_df['RatingAreaId'] = rate_df['RatingAreaId'].str.replace('Rating Area ', '', regex=False)\n",
    "rate_df['RatingAreaId'] = pd.to_numeric(rate_df['RatingAreaId'], errors='coerce')"
   ]
  },
  {
   "cell_type": "markdown",
   "id": "9ff8891e",
   "metadata": {},
   "source": [
    "# Find the OutLiers in IndividualRate Adding Premium Column By Adding IR and ITR"
   ]
  },
  {
   "cell_type": "code",
   "execution_count": null,
   "id": "b6db3ed8",
   "metadata": {},
   "outputs": [],
   "source": [
    "# Calculate Q1 (25th percentile) and Q3 (75th percentile)\n",
    "Q1 = rate_df['IndividualRate'].quantile(0.25)\n",
    "Q3 = rate_df['IndividualRate'].quantile(0.75)\n",
    "\n",
    "# Calculate IQR (Interquartile Range)\n",
    "IQR = Q3 - Q1\n",
    "\n",
    "# Define outlier bounds\n",
    "lower_bound = Q1 - 1.5 * IQR\n",
    "upper_bound = Q3 + 1.5 * IQR\n",
    "\n",
    "# Identify outliers\n",
    "outliers = rate_df[(rate_df['IndividualRate'] < lower_bound) | (rate_df['IndividualRate'] > upper_bound)]\n",
    "\n",
    "print(f\"Number of outliers detected: {len(outliers)}\")\n",
    "print(f\"Lower bound for outliers: {lower_bound}\")\n",
    "print(f\"Upper bound for outliers: {upper_bound}\")"
   ]
  },
  {
   "cell_type": "code",
   "execution_count": null,
   "id": "135a6789",
   "metadata": {},
   "outputs": [],
   "source": [
    "# Remove outliers\n",
    "rate_df = rate_df[(rate_df['IndividualRate'] >= lower_bound) & (rate_df['IndividualRate'] <= upper_bound)]"
   ]
  },
  {
   "cell_type": "code",
   "execution_count": null,
   "id": "89d6f5e7",
   "metadata": {},
   "outputs": [],
   "source": [
    "# Add 'IndividualRate' and 'IndividualTobaccoRate' to create 'Premium'\n",
    "rate_df['Premium'] = rate_df['IndividualRate'] + rate_df['IndividualTobaccoRate']"
   ]
  },
  {
   "cell_type": "code",
   "execution_count": null,
   "id": "5613c2d0",
   "metadata": {},
   "outputs": [],
   "source": [
    "# Drop the original 'IndividualRate' and 'IndividualTobaccoRate' columns\n",
    "rate_df.drop(columns=['IndividualRate', 'IndividualTobaccoRate'], inplace=True)"
   ]
  },
  {
   "cell_type": "code",
   "execution_count": null,
   "id": "f25060d8",
   "metadata": {},
   "outputs": [],
   "source": []
  },
  {
   "cell_type": "markdown",
   "id": "ff040393",
   "metadata": {},
   "source": [
    "# Date Data Handling For Import, RateEffective , RateExpiration"
   ]
  },
  {
   "cell_type": "code",
   "execution_count": null,
   "id": "af70454e",
   "metadata": {},
   "outputs": [],
   "source": [
    "# Date Handling\n",
    "rate_df['RateEffectiveDate'] = pd.to_datetime(rate_df['RateEffectiveDate'], format='%Y-%m-%d')\n",
    "rate_df['RateExpirationDate'] = pd.to_datetime(rate_df['RateExpirationDate'], format='%Y-%m-%d')"
   ]
  },
  {
   "cell_type": "code",
   "execution_count": null,
   "id": "ffcd4aec",
   "metadata": {},
   "outputs": [],
   "source": [
    "# Update the year in the dates\n",
    "def update_year(date):\n",
    "    if date.year == 2013:\n",
    "        return date.replace(year=2020)\n",
    "    elif date.year == 2014:\n",
    "        return date.replace(year=2021)\n",
    "    elif date.year == 2015:\n",
    "        return date.replace(year=2022)\n",
    "    else:\n",
    "        return date"
   ]
  },
  {
   "cell_type": "code",
   "execution_count": null,
   "id": "fa10245b",
   "metadata": {},
   "outputs": [],
   "source": [
    "rate_df['RateEffectiveDate'] = rate_df['RateEffectiveDate'].apply(update_year)\n",
    "rate_df['RateExpirationDate'] = rate_df['RateExpirationDate'].apply(update_year)"
   ]
  },
  {
   "cell_type": "code",
   "execution_count": null,
   "id": "93bb5b05",
   "metadata": {},
   "outputs": [],
   "source": [
    "# Remove rows where the date is None\n",
    "rate_df = rate_df.dropna(subset=['RateEffectiveDate', 'RateExpirationDate'])"
   ]
  },
  {
   "cell_type": "code",
   "execution_count": null,
   "id": "e3a43b31",
   "metadata": {},
   "outputs": [],
   "source": [
    "# Calculate RateDuration\n",
    "rate_df['RateDuration'] = (rate_df['RateExpirationDate'] - rate_df['RateEffectiveDate']).dt.days"
   ]
  },
  {
   "cell_type": "code",
   "execution_count": null,
   "id": "09669a1c",
   "metadata": {},
   "outputs": [],
   "source": [
    "# Drop the original 'RateEffectiveDate' and 'RateExpirationDate' columns\n",
    "rate_df.drop(columns=['RateEffectiveDate', 'RateExpirationDate'], inplace=True)"
   ]
  },
  {
   "cell_type": "code",
   "execution_count": null,
   "id": "19b75d59",
   "metadata": {},
   "outputs": [],
   "source": []
  },
  {
   "cell_type": "code",
   "execution_count": null,
   "id": "a28aea24",
   "metadata": {},
   "outputs": [],
   "source": [
    "# Identify columns with only NaN values and drop them\n",
    "columns_with_all_nan = rate_df.columns[rate_df.isna().all()]\n",
    "rate_df.drop(columns=columns_with_all_nan, inplace=True)"
   ]
  },
  {
   "cell_type": "code",
   "execution_count": null,
   "id": "df258b61",
   "metadata": {},
   "outputs": [],
   "source": [
    "# Find the NAN Values "
   ]
  },
  {
   "cell_type": "code",
   "execution_count": null,
   "id": "6e60fae8",
   "metadata": {},
   "outputs": [],
   "source": [
    "# Drop rows where 'Tobacco' column has NaN values\n",
    "rate_df = rate_df.dropna(subset=['Tobacco'])"
   ]
  },
  {
   "cell_type": "code",
   "execution_count": null,
   "id": "ff4f9dd4",
   "metadata": {},
   "outputs": [],
   "source": [
    "# Identify columns with only NaN values\n",
    "columns_with_all_nan = rate_df.columns[rate_df.isna().all()]\n",
    "\n",
    "# Display the columns\n",
    "print(columns_with_all_nan)"
   ]
  },
  {
   "cell_type": "code",
   "execution_count": null,
   "id": "dc8e63ea",
   "metadata": {},
   "outputs": [],
   "source": [
    "# Calculate the percentage of missing values in each column\n",
    "missing_percentage = rate_df.isnull().mean() * 100\n",
    "missing_percentage"
   ]
  },
  {
   "cell_type": "code",
   "execution_count": null,
   "id": "695a2392",
   "metadata": {},
   "outputs": [],
   "source": [
    "rate_df"
   ]
  },
  {
   "cell_type": "code",
   "execution_count": null,
   "id": "a0cfe337",
   "metadata": {},
   "outputs": [],
   "source": []
  },
  {
   "cell_type": "markdown",
   "id": "c4a36a39",
   "metadata": {},
   "source": [
    "# Handling Categorical Data"
   ]
  },
  {
   "cell_type": "code",
   "execution_count": null,
   "id": "58ec5521",
   "metadata": {},
   "outputs": [],
   "source": [
    "unique_state_codes = rate_df['StateCode'].unique()\n",
    "print(f\"Unique values in StateCode: {unique_state_codes}\")\n",
    "print(f\"Number of unique StateCodes: {len(unique_state_codes)}\")"
   ]
  },
  {
   "cell_type": "code",
   "execution_count": null,
   "id": "d4d6a04a",
   "metadata": {},
   "outputs": [],
   "source": [
    "unique_tobacco = rate_df['Tobacco'].unique()\n",
    "print(f\"Unique values in Tobacco: {unique_tobacco}\")\n",
    "print(f\"Number of unique Tobacco values: {len(unique_tobacco)}\")"
   ]
  },
  {
   "cell_type": "code",
   "execution_count": null,
   "id": "e5b07555",
   "metadata": {},
   "outputs": [],
   "source": [
    "unique_plan_ids = rate_df['PlanId'].unique()\n",
    "print(f\"Unique values in PlanId: {unique_plan_ids}\")\n",
    "print(f\"Number of unique PlanIds: {len(unique_plan_ids)}\")"
   ]
  },
  {
   "cell_type": "code",
   "execution_count": null,
   "id": "e439f1fe",
   "metadata": {},
   "outputs": [],
   "source": [
    "unique_source_names = rate_df['SourceName'].unique()\n",
    "print(f\"Unique values in SourceName: {unique_source_names}\")\n",
    "print(f\"Number of unique SourceNames: {len(unique_source_names)}\")"
   ]
  },
  {
   "cell_type": "code",
   "execution_count": null,
   "id": "aafcc819",
   "metadata": {},
   "outputs": [],
   "source": [
    "print(\"Unique value counts for each column:\")\n",
    "print(f\"StateCode: {rate_df['StateCode'].nunique()}\")\n",
    "print(f\"Tobacco: {rate_df['Tobacco'].nunique()}\")\n",
    "print(f\"PlanId: {rate_df['PlanId'].nunique()}\")\n",
    "print(f\"SourceName: {rate_df['SourceName'].nunique()}\")"
   ]
  },
  {
   "cell_type": "code",
   "execution_count": null,
   "id": "fcd985b3",
   "metadata": {},
   "outputs": [],
   "source": [
    "# Handling Categorical Data\n",
    "label_encoder = LabelEncoder()\n",
    "\n",
    "# Apply Label Encoding to the selected columns\n",
    "rate_df['StateCode'] = label_encoder.fit_transform(rate_df['StateCode'])\n",
    "rate_df['Tobacco'] = label_encoder.fit_transform(rate_df['Tobacco'])\n",
    "rate_df['PlanId'] = label_encoder.fit_transform(rate_df['PlanId'])\n",
    "rate_df['SourceName'] = label_encoder.fit_transform(rate_df['SourceName'])"
   ]
  },
  {
   "cell_type": "code",
   "execution_count": null,
   "id": "ad84ad91",
   "metadata": {},
   "outputs": [],
   "source": [
    "# Scale numerical features\n",
    "numerical_features = ['Age', 'Premium', 'RateDuration']\n",
    "scaler = StandardScaler()\n",
    "rate_df[numerical_features] = scaler.fit_transform(rate_df[numerical_features])"
   ]
  },
  {
   "cell_type": "code",
   "execution_count": null,
   "id": "32c2b621",
   "metadata": {},
   "outputs": [],
   "source": [
    "# Create an interaction term between 'Age' and 'RateDuration'\n",
    "rate_df['Age_RateDuration_Interaction'] = rate_df['Age'] * rate_df['RateDuration']"
   ]
  },
  {
   "cell_type": "code",
   "execution_count": null,
   "id": "233e3b3d",
   "metadata": {},
   "outputs": [],
   "source": [
    "# Final DataFrame check\n",
    "rate_df.head()\n",
    "rate_df.dtypes"
   ]
  },
  {
   "cell_type": "code",
   "execution_count": null,
   "id": "0489057d",
   "metadata": {},
   "outputs": [],
   "source": [
    "# EDA: Additional Plots\n",
    "\n",
    "# 1. Histogram of Numerical Features\n",
    "plt.figure(figsize=(12, 6))\n",
    "for i, feature in enumerate(numerical_features + ['Age_RateDuration_Interaction']):\n",
    "    plt.subplot(2, 3, i+1)\n",
    "    sns.histplot(rate_df[feature], kde=True, bins=30)\n",
    "    plt.title(f'Distribution of {feature}')\n",
    "plt.tight_layout()\n",
    "plt.show()"
   ]
  },
  {
   "cell_type": "code",
   "execution_count": null,
   "id": "d908adc9",
   "metadata": {},
   "outputs": [],
   "source": [
    "# 2. Correlation Heatmap\n",
    "plt.figure(figsize=(10, 8))\n",
    "corr = rate_df[numerical_features + ['Age_RateDuration_Interaction']].corr()\n",
    "sns.heatmap(corr, annot=True, cmap='coolwarm', fmt='.2f', linewidths=0.5)\n",
    "plt.title('Correlation Heatmap')\n",
    "plt.show()"
   ]
  },
  {
   "cell_type": "code",
   "execution_count": null,
   "id": "27c71d15",
   "metadata": {},
   "outputs": [],
   "source": [
    "# 3. Pairplot of Selected Features\n",
    "selected_features = ['Age', 'Premium', 'RateDuration', 'Age_RateDuration_Interaction']\n",
    "sns.pairplot(rate_df[selected_features])\n",
    "plt.title('Pairplot of Selected Features')\n",
    "plt.show()"
   ]
  },
  {
   "cell_type": "code",
   "execution_count": null,
   "id": "7660f4da",
   "metadata": {},
   "outputs": [],
   "source": [
    "# 4. Boxplot of Premium by StateCode\n",
    "plt.figure(figsize=(12, 6))\n",
    "sns.boxplot(x='StateCode', y='Premium', data=rate_df)\n",
    "plt.title('Boxplot of Premium by StateCode')\n",
    "plt.xlabel('State Code')\n",
    "plt.ylabel('Premium')\n",
    "plt.xticks(rotation=45)\n",
    "plt.show()"
   ]
  },
  {
   "cell_type": "code",
   "execution_count": null,
   "id": "0f9e68e6",
   "metadata": {},
   "outputs": [],
   "source": [
    "# 5. Countplot of Tobacco Usage\n",
    "plt.figure(figsize=(8, 6))\n",
    "sns.countplot(x='Tobacco', data=rate_df)\n",
    "plt.title('Countplot of Tobacco Usage')\n",
    "plt.xlabel('Tobacco Usage')\n",
    "plt.ylabel('Count')\n",
    "plt.show()"
   ]
  },
  {
   "cell_type": "code",
   "execution_count": null,
   "id": "e555f4e2",
   "metadata": {},
   "outputs": [],
   "source": [
    "# 6. Scatterplot of Age vs. Premium\n",
    "plt.figure(figsize=(10, 6))\n",
    "sns.scatterplot(x='Age', y='Premium', data=rate_df)\n",
    "plt.title('Scatterplot of Age vs. Premium')\n",
    "plt.xlabel('Age')\n",
    "plt.ylabel('Premium')\n",
    "plt.show()"
   ]
  },
  {
   "cell_type": "code",
   "execution_count": null,
   "id": "4e49f159",
   "metadata": {},
   "outputs": [],
   "source": []
  },
  {
   "cell_type": "code",
   "execution_count": null,
   "id": "748e9765",
   "metadata": {},
   "outputs": [],
   "source": []
  },
  {
   "cell_type": "markdown",
   "id": "2e4c7282",
   "metadata": {},
   "source": [
    "# Demo Model "
   ]
  },
  {
   "cell_type": "code",
   "execution_count": null,
   "id": "26079ed5",
   "metadata": {},
   "outputs": [],
   "source": [
    "import pandas as pd\n",
    "import numpy as np\n",
    "from sklearn.model_selection import train_test_split, GridSearchCV, cross_val_score\n",
    "from sklearn.linear_model import LinearRegression, Lasso, Ridge\n",
    "from sklearn.ensemble import RandomForestRegressor, GradientBoostingRegressor\n",
    "from sklearn.neighbors import KNeighborsRegressor\n",
    "from sklearn.metrics import mean_squared_error, mean_absolute_error, r2_score\n",
    "from sklearn.preprocessing import LabelEncoder, StandardScaler\n",
    "import pickle"
   ]
  },
  {
   "cell_type": "code",
   "execution_count": null,
   "id": "c747733c",
   "metadata": {},
   "outputs": [],
   "source": [
    "# Feature selection (dropping columns that won't be used in the model)\n",
    "features = ['StateCode', 'SourceName', 'Age', 'Tobacco', 'RateDuration', 'Age_RateDuration_Interaction']\n",
    "X = rate_df[features]\n",
    "y = rate_df['Premium']\n",
    "\n",
    "# Train-test split\n",
    "X_train, X_test, y_train, y_test = train_test_split(X, y, test_size=0.2, random_state=42)"
   ]
  },
  {
   "cell_type": "code",
   "execution_count": null,
   "id": "bc7919a3",
   "metadata": {},
   "outputs": [],
   "source": [
    "# Initialize a dictionary to store model scores\n",
    "model_scores = {}\n",
    "\n",
    "# Linear Regression\n",
    "linear_model = LinearRegression()\n",
    "linear_model.fit(X_train, y_train)\n",
    "y_pred_lr = linear_model.predict(X_test)\n",
    "mse_lr = mean_squared_error(y_test, y_pred_lr)\n",
    "rmse_lr = np.sqrt(mse_lr)\n",
    "mae_lr = mean_absolute_error(y_test, y_pred_lr)\n",
    "r2_lr = r2_score(y_test, y_pred_lr)\n",
    "\n",
    "model_scores['Linear Regression'] = {\n",
    "    'MSE': mse_lr,\n",
    "    'RMSE': rmse_lr,\n",
    "    'MAE': mae_lr,\n",
    "    'R2 Score': r2_lr\n",
    "}"
   ]
  },
  {
   "cell_type": "code",
   "execution_count": null,
   "id": "2e517ec1",
   "metadata": {},
   "outputs": [],
   "source": [
    "# Lasso Regression\n",
    "lasso_model = Lasso()\n",
    "lasso_model.fit(X_train, y_train)\n",
    "y_pred_lasso = lasso_model.predict(X_test)\n",
    "mse_lasso = mean_squared_error(y_test, y_pred_lasso)\n",
    "rmse_lasso = np.sqrt(mse_lasso)\n",
    "mae_lasso = mean_absolute_error(y_test, y_pred_lasso)\n",
    "r2_lasso = r2_score(y_test, y_pred_lasso)\n",
    "\n",
    "model_scores['Lasso Regression'] = {\n",
    "    'MSE': mse_lasso,\n",
    "    'RMSE': rmse_lasso,\n",
    "    'MAE': mae_lasso,\n",
    "    'R2 Score': r2_lasso\n",
    "}"
   ]
  },
  {
   "cell_type": "code",
   "execution_count": null,
   "id": "96fec825",
   "metadata": {},
   "outputs": [],
   "source": [
    "# Ridge Regression\n",
    "ridge_model = Ridge()\n",
    "ridge_model.fit(X_train, y_train)\n",
    "y_pred_ridge = ridge_model.predict(X_test)\n",
    "mse_ridge = mean_squared_error(y_test, y_pred_ridge)\n",
    "rmse_ridge = np.sqrt(mse_ridge)\n",
    "mae_ridge = mean_absolute_error(y_test, y_pred_ridge)\n",
    "r2_ridge = r2_score(y_test, y_pred_ridge)\n",
    "\n",
    "model_scores['Ridge Regression'] = {\n",
    "    'MSE': mse_ridge,\n",
    "    'RMSE': rmse_ridge,\n",
    "    'MAE': mae_ridge,\n",
    "    'R2 Score': r2_ridge\n",
    "}"
   ]
  },
  {
   "cell_type": "code",
   "execution_count": null,
   "id": "14192e2c",
   "metadata": {},
   "outputs": [],
   "source": [
    "# Random Forest Regression\n",
    "rf_model = RandomForestRegressor()\n",
    "rf_model.fit(X_train, y_train)\n",
    "y_pred_rf = rf_model.predict(X_test)\n",
    "mse_rf = mean_squared_error(y_test, y_pred_rf)\n",
    "rmse_rf = np.sqrt(mse_rf)\n",
    "mae_rf = mean_absolute_error(y_test, y_pred_rf)\n",
    "r2_rf = r2_score(y_test, y_pred_rf)\n",
    "\n",
    "model_scores['Random Forest'] = {\n",
    "    'MSE': mse_rf,\n",
    "    'RMSE': rmse_rf,\n",
    "    'MAE': mae_rf,\n",
    "    'R2 Score': r2_rf\n",
    "}"
   ]
  },
  {
   "cell_type": "code",
   "execution_count": null,
   "id": "800e62cd",
   "metadata": {},
   "outputs": [],
   "source": [
    "# Gradient Boosting Regression\n",
    "gb_model = GradientBoostingRegressor()\n",
    "gb_model.fit(X_train, y_train)\n",
    "y_pred_gb = gb_model.predict(X_test)\n",
    "mse_gb = mean_squared_error(y_test, y_pred_gb)\n",
    "rmse_gb = np.sqrt(mse_gb)\n",
    "mae_gb = mean_absolute_error(y_test, y_pred_gb)\n",
    "r2_gb = r2_score(y_test, y_pred_gb)\n",
    "\n",
    "model_scores['Gradient Boosting'] = {\n",
    "    'MSE': mse_gb,\n",
    "    'RMSE': rmse_gb,\n",
    "    'MAE': mae_gb,\n",
    "    'R2 Score': r2_gb\n",
    "}"
   ]
  },
  {
   "cell_type": "code",
   "execution_count": null,
   "id": "94358e36",
   "metadata": {},
   "outputs": [],
   "source": [
    "# KNN Regression\n",
    "knn_model = KNeighborsRegressor()\n",
    "knn_model.fit(X_train, y_train)\n",
    "y_pred_knn = knn_model.predict(X_test)\n",
    "mse_knn = mean_squared_error(y_test, y_pred_knn)\n",
    "rmse_knn = np.sqrt(mse_knn)\n",
    "mae_knn = mean_absolute_error(y_test, y_pred_knn)\n",
    "r2_knn = r2_score(y_test, y_pred_knn)\n",
    "\n",
    "model_scores['KNN Regression'] = {\n",
    "    'MSE': mse_knn,\n",
    "    'RMSE': rmse_knn,\n",
    "    'MAE': mae_knn,\n",
    "    'R2 Score': r2_knn\n",
    "}"
   ]
  },
  {
   "cell_type": "code",
   "execution_count": null,
   "id": "5bf14b32",
   "metadata": {},
   "outputs": [],
   "source": [
    "# Display the results\n",
    "for model_name, scores in model_scores.items():\n",
    "    print(f\"{model_name}: {scores}\")"
   ]
  },
  {
   "cell_type": "code",
   "execution_count": null,
   "id": "f4120de0",
   "metadata": {},
   "outputs": [],
   "source": [
    "rf_param_grid = {\n",
    "    'n_estimators': [100, 200, 300],\n",
    "    'max_depth': [None, 10, 20],\n",
    "    'min_samples_split': [2, 5, 10]\n",
    "}\n",
    "rf_grid_search = GridSearchCV(RandomForestRegressor(random_state=42), rf_param_grid, cv=5, scoring='r2')\n",
    "rf_grid_search.fit(X_train, y_train)\n",
    "best_rf_model = rf_grid_search.best_estimator_\n"
   ]
  },
  {
   "cell_type": "code",
   "execution_count": null,
   "id": "c1c8a5ca",
   "metadata": {},
   "outputs": [],
   "source": [
    "gb_param_grid = {\n",
    "    'n_estimators': [100, 200, 300],\n",
    "    'learning_rate': [0.01, 0.1, 0.2],\n",
    "    'max_depth': [3, 5, 7]\n",
    "}\n",
    "gb_grid_search = GridSearchCV(GradientBoostingRegressor(random_state=42), gb_param_grid, cv=5, scoring='r2')\n",
    "gb_grid_search.fit(X_train, y_train)\n",
    "best_gb_model = gb_grid_search.best_estimator_\n"
   ]
  },
  {
   "cell_type": "code",
   "execution_count": null,
   "id": "13c3f499",
   "metadata": {},
   "outputs": [],
   "source": [
    "final_model = best_gb_model\n",
    "final_model.fit(X_train, y_train)\n",
    "y_final_pred = final_model.predict(X_test)\n",
    "final_rmse = np.sqrt(mean_squared_error(y_test, y_final_pred))\n",
    "final_r2 = r2_score(y_test, y_final_pred)\n",
    "\n",
    "print(\"\\nFinal Model Performance:\")\n",
    "print(f\"RMSE: {final_rmse:.2f}\")\n",
    "print(f\"R²: {final_r2:.2f}\")\n"
   ]
  },
  {
   "cell_type": "code",
   "execution_count": null,
   "id": "de14b7ee",
   "metadata": {},
   "outputs": [],
   "source": [
    "# Plot model performance\n",
    "results_df = pd.DataFrame(model_scores).T\n",
    "results_df.plot(kind='bar', figsize=(12, 6))\n",
    "plt.title('Model Performance Comparison')\n",
    "plt.ylabel('Score')\n",
    "plt.xticks(rotation=45)\n",
    "plt.show()"
   ]
  },
  {
   "cell_type": "code",
   "execution_count": null,
   "id": "421c5872",
   "metadata": {},
   "outputs": [],
   "source": [
    "# Feature Importance using Random Forest\n",
    "importances = rf_model.feature_importances_\n",
    "feature_names = features\n",
    "sorted_indices = np.argsort(importances)[::-1]\n",
    "\n",
    "plt.figure(figsize=(10, 6))\n",
    "plt.title('Feature Importances')\n",
    "plt.bar(range(X.shape[1]), importances[sorted_indices], align='center')\n",
    "plt.xticks(range(X.shape[1]), np.array(feature_names)[sorted_indices], rotation=45)\n",
    "plt.xlabel('Features')\n",
    "plt.ylabel('Importance')\n",
    "plt.show()"
   ]
  },
  {
   "cell_type": "code",
   "execution_count": null,
   "id": "9ec6910d",
   "metadata": {},
   "outputs": [],
   "source": [
    "# Residual Plot for Random Forest\n",
    "plt.figure(figsize=(10, 6))\n",
    "residuals = y_test - y_pred_rf\n",
    "sns.scatterplot(x=y_pred_rf, y=residuals)\n",
    "plt.axhline(y=0, color='r', linestyle='--')\n",
    "plt.title('Residual Plot for Random Forest')\n",
    "plt.xlabel('Predicted Values')\n",
    "plt.ylabel('Residuals')\n",
    "plt.show()"
   ]
  },
  {
   "cell_type": "code",
   "execution_count": null,
   "id": "74063fbe",
   "metadata": {},
   "outputs": [],
   "source": []
  },
  {
   "cell_type": "code",
   "execution_count": null,
   "id": "e6b2160d",
   "metadata": {},
   "outputs": [],
   "source": [
    "# Save the model and label encoders\n",
    "with open('model.pkl', 'wb') as file:\n",
    "    pickle.dump(model, file)\n",
    "\n",
    "with open('label_encoder_state.pkl', 'wb') as file:\n",
    "    pickle.dump(label_encoder_state, file)\n",
    "\n",
    "with open('label_encoder_source.pkl', 'wb') as file:\n",
    "    pickle.dump(label_encoder_source, file)\n",
    "\n",
    "with open('label_encoder_tobacco.pkl', 'wb') as file:\n",
    "    pickle.dump(label_encoder_tobacco, file)"
   ]
  },
  {
   "cell_type": "code",
   "execution_count": null,
   "id": "00dc9789",
   "metadata": {},
   "outputs": [],
   "source": []
  },
  {
   "cell_type": "code",
   "execution_count": null,
   "id": "962cab11",
   "metadata": {},
   "outputs": [],
   "source": []
  },
  {
   "cell_type": "code",
   "execution_count": null,
   "id": "4ea4b6ab",
   "metadata": {},
   "outputs": [],
   "source": []
  },
  {
   "cell_type": "code",
   "execution_count": null,
   "id": "16cf6d7e",
   "metadata": {},
   "outputs": [],
   "source": []
  },
  {
   "cell_type": "code",
   "execution_count": null,
   "id": "871bc9d2",
   "metadata": {},
   "outputs": [],
   "source": []
  },
  {
   "cell_type": "code",
   "execution_count": null,
   "id": "c19e3022",
   "metadata": {},
   "outputs": [],
   "source": []
  },
  {
   "cell_type": "code",
   "execution_count": null,
   "id": "42dfadc9",
   "metadata": {},
   "outputs": [],
   "source": []
  },
  {
   "cell_type": "code",
   "execution_count": null,
   "id": "0f87aae4",
   "metadata": {},
   "outputs": [],
   "source": []
  },
  {
   "cell_type": "code",
   "execution_count": null,
   "id": "75f5bd87",
   "metadata": {},
   "outputs": [],
   "source": []
  },
  {
   "cell_type": "code",
   "execution_count": null,
   "id": "801ca96f",
   "metadata": {},
   "outputs": [],
   "source": []
  },
  {
   "cell_type": "code",
   "execution_count": null,
   "id": "14c6a57d",
   "metadata": {},
   "outputs": [],
   "source": [
    "from sklearn.model_selection import train_test_split\n",
    "\n",
    "# Define features and target\n",
    "X = rate_df.drop('Premium', axis=1)  # Assuming 'Premium' is the target variable\n",
    "y = rate_df['Premium']\n",
    "\n",
    "# Split the data\n",
    "X_train, X_test, y_train, y_test = train_test_split(X, y, test_size=0.2, random_state=42)"
   ]
  },
  {
   "cell_type": "code",
   "execution_count": null,
   "id": "94137195",
   "metadata": {},
   "outputs": [],
   "source": []
  },
  {
   "cell_type": "code",
   "execution_count": null,
   "id": "03ee30b4",
   "metadata": {},
   "outputs": [],
   "source": [
    "from sklearn.linear_model import LinearRegression\n",
    "from sklearn.metrics import mean_squared_error, mean_absolute_error, r2_score\n",
    "import numpy as np\n",
    "\n",
    "# Initialize and train the model\n",
    "lr_model = LinearRegression()\n",
    "lr_model.fit(X_train, y_train)\n",
    "\n",
    "# Predict and evaluate\n",
    "y_pred_lr = lr_model.predict(X_test)\n",
    "mse_lr = mean_squared_error(y_test, y_pred_lr)\n",
    "rmse_lr = np.sqrt(mse_lr)\n",
    "mae_lr = mean_absolute_error(y_test, y_pred_lr)\n",
    "r2_lr = r2_score(y_test, y_pred_lr)\n",
    "\n",
    "print(f\"Linear Regression - RMSE: {rmse_lr}, MAE: {mae_lr}, R2: {r2_lr}\")"
   ]
  },
  {
   "cell_type": "code",
   "execution_count": null,
   "id": "8bad1563",
   "metadata": {},
   "outputs": [],
   "source": []
  },
  {
   "cell_type": "code",
   "execution_count": null,
   "id": "070e7b5a",
   "metadata": {},
   "outputs": [],
   "source": [
    "from sklearn.ensemble import RandomForestRegressor\n",
    "from sklearn.metrics import mean_squared_error, mean_absolute_error, r2_score\n",
    "import numpy as np\n",
    "\n",
    "# Initialize and train the model\n",
    "rf_model = RandomForestRegressor(n_estimators=100, random_state=42)\n",
    "rf_model.fit(X_train, y_train)\n",
    "\n",
    "# Predict and evaluate\n",
    "y_pred_rf = rf_model.predict(X_test)\n",
    "mse_rf = mean_squared_error(y_test, y_pred_rf)\n",
    "rmse_rf = np.sqrt(mse_rf)\n",
    "mae_rf = mean_absolute_error(y_test, y_pred_rf)\n",
    "r2_rf = r2_score(y_test, y_pred_rf)\n",
    "\n",
    "print(f\"Random Forest Regression - RMSE: {rmse_rf}, MAE: {mae_rf}, R2: {r2_rf}\")"
   ]
  },
  {
   "cell_type": "code",
   "execution_count": null,
   "id": "5d699ca3",
   "metadata": {},
   "outputs": [],
   "source": []
  },
  {
   "cell_type": "code",
   "execution_count": null,
   "id": "561b04b9",
   "metadata": {},
   "outputs": [],
   "source": [
    "from sklearn.ensemble import GradientBoostingRegressor\n",
    "from sklearn.metrics import mean_squared_error, mean_absolute_error, r2_score\n",
    "import numpy as np\n",
    "\n",
    "# Initialize and train the model\n",
    "gb_model = GradientBoostingRegressor(n_estimators=100, random_state=42)\n",
    "gb_model.fit(X_train, y_train)\n",
    "\n",
    "# Predict and evaluate\n",
    "y_pred_gb = gb_model.predict(X_test)\n",
    "mse_gb = mean_squared_error(y_test, y_pred_gb)\n",
    "rmse_gb = np.sqrt(mse_gb)\n",
    "mae_gb = mean_absolute_error(y_test, y_pred_gb)\n",
    "r2_gb = r2_score(y_test, y_pred_gb)\n",
    "\n",
    "print(f\"Gradient Boosting Regression - RMSE: {rmse_gb}, MAE: {mae_gb}, R2: {r2_gb}\")"
   ]
  },
  {
   "cell_type": "code",
   "execution_count": null,
   "id": "92cc4dee",
   "metadata": {},
   "outputs": [],
   "source": []
  },
  {
   "cell_type": "code",
   "execution_count": null,
   "id": "57fc18f5",
   "metadata": {},
   "outputs": [],
   "source": [
    "from sklearn.neighbors import KNeighborsRegressor\n",
    "from sklearn.metrics import mean_squared_error, mean_absolute_error, r2_score\n",
    "import numpy as np\n",
    "\n",
    "# Initialize and train the model\n",
    "knn_model = KNeighborsRegressor(n_neighbors=5)\n",
    "knn_model.fit(X_train, y_train)\n",
    "\n",
    "# Predict and evaluate\n",
    "y_pred_knn = knn_model.predict(X_test)\n",
    "mse_knn = mean_squared_error(y_test, y_pred_knn)\n",
    "rmse_knn = np.sqrt(mse_knn)\n",
    "mae_knn = mean_absolute_error(y_test, y_pred_knn)\n",
    "r2_knn = r2_score(y_test, y_pred_knn)\n",
    "\n",
    "print(f\"K-Nearest Neighbors Regression - RMSE: {rmse_knn}, MAE: {mae_knn}, R2: {r2_knn}\")"
   ]
  },
  {
   "cell_type": "code",
   "execution_count": null,
   "id": "a9534cbe",
   "metadata": {},
   "outputs": [],
   "source": []
  },
  {
   "cell_type": "code",
   "execution_count": null,
   "id": "6c13748c",
   "metadata": {},
   "outputs": [],
   "source": []
  }
 ],
 "metadata": {
  "kernelspec": {
   "display_name": "Python 3 (ipykernel)",
   "language": "python",
   "name": "python3"
  },
  "language_info": {
   "codemirror_mode": {
    "name": "ipython",
    "version": 3
   },
   "file_extension": ".py",
   "mimetype": "text/x-python",
   "name": "python",
   "nbconvert_exporter": "python",
   "pygments_lexer": "ipython3",
   "version": "3.10.0"
  }
 },
 "nbformat": 4,
 "nbformat_minor": 5
}
