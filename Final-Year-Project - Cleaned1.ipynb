{
 "cells": [
  {
   "cell_type": "code",
   "execution_count": 15,
   "metadata": {
    "id": "ZMntybMjN4Ve"
   },
   "outputs": [],
   "source": [
    "import pandas as pd\n",
    "import matplotlib.pyplot as plt\n",
    "import seaborn as sns\n",
    "from scipy import stats\n",
    "from sklearn.model_selection import train_test_split, GridSearchCV, cross_val_score\n",
    "from sklearn.linear_model import LinearRegression\n",
    "from sklearn.ensemble import RandomForestRegressor, GradientBoostingRegressor\n",
    "from sklearn.metrics import mean_squared_error, mean_absolute_error, r2_score\n",
    "import numpy as np\n",
    "from scipy import stats\n",
    "import statsmodels.api as sm"
   ]
  },
  {
   "cell_type": "code",
   "execution_count": 16,
   "metadata": {
    "id": "1tCTwAhoOoST"
   },
   "outputs": [],
   "source": [
    "rate_df = pd.read_csv(\"new_rate.csv\")"
   ]
  },
  {
   "cell_type": "code",
   "execution_count": 17,
   "metadata": {
    "colab": {
     "base_uri": "https://localhost:8080/",
     "height": 342
    },
    "executionInfo": {
     "elapsed": 15,
     "status": "ok",
     "timestamp": 1723290314675,
     "user": {
      "displayName": "Abhishek Ghodekar",
      "userId": "06263796080899894595"
     },
     "user_tz": -330
    },
    "id": "Wf5wCcMMOwX2",
    "outputId": "8b337a75-dd7a-4a1a-bf5b-91890191f9a0"
   },
   "outputs": [
    {
     "data": {
      "text/html": [
       "<div>\n",
       "<style scoped>\n",
       "    .dataframe tbody tr th:only-of-type {\n",
       "        vertical-align: middle;\n",
       "    }\n",
       "\n",
       "    .dataframe tbody tr th {\n",
       "        vertical-align: top;\n",
       "    }\n",
       "\n",
       "    .dataframe thead th {\n",
       "        text-align: right;\n",
       "    }\n",
       "</style>\n",
       "<table border=\"1\" class=\"dataframe\">\n",
       "  <thead>\n",
       "    <tr style=\"text-align: right;\">\n",
       "      <th></th>\n",
       "      <th>BusinessYear</th>\n",
       "      <th>StateCode</th>\n",
       "      <th>IssuerId</th>\n",
       "      <th>SourceName</th>\n",
       "      <th>VersionNum</th>\n",
       "      <th>ImportDate</th>\n",
       "      <th>IssuerId2</th>\n",
       "      <th>FederalTIN</th>\n",
       "      <th>RateEffectiveDate</th>\n",
       "      <th>RateExpirationDate</th>\n",
       "      <th>...</th>\n",
       "      <th>IndividualRate</th>\n",
       "      <th>IndividualTobaccoRate</th>\n",
       "      <th>Couple</th>\n",
       "      <th>PrimarySubscriberAndOneDependent</th>\n",
       "      <th>PrimarySubscriberAndTwoDependents</th>\n",
       "      <th>PrimarySubscriberAndThreeOrMoreDependents</th>\n",
       "      <th>CoupleAndOneDependent</th>\n",
       "      <th>CoupleAndTwoDependents</th>\n",
       "      <th>CoupleAndThreeOrMoreDependents</th>\n",
       "      <th>RowNumber</th>\n",
       "    </tr>\n",
       "  </thead>\n",
       "  <tbody>\n",
       "    <tr>\n",
       "      <th>0</th>\n",
       "      <td>2014</td>\n",
       "      <td>FL</td>\n",
       "      <td>16842</td>\n",
       "      <td>HIOS</td>\n",
       "      <td>6</td>\n",
       "      <td>2014-01-17 09:36:20</td>\n",
       "      <td>16842</td>\n",
       "      <td>59-2015694</td>\n",
       "      <td>2014-07-01</td>\n",
       "      <td>2014-09-30</td>\n",
       "      <td>...</td>\n",
       "      <td>790.28</td>\n",
       "      <td>NaN</td>\n",
       "      <td>NaN</td>\n",
       "      <td>NaN</td>\n",
       "      <td>NaN</td>\n",
       "      <td>NaN</td>\n",
       "      <td>NaN</td>\n",
       "      <td>NaN</td>\n",
       "      <td>NaN</td>\n",
       "      <td>2676</td>\n",
       "    </tr>\n",
       "    <tr>\n",
       "      <th>1</th>\n",
       "      <td>2014</td>\n",
       "      <td>GA</td>\n",
       "      <td>49046</td>\n",
       "      <td>HIOS</td>\n",
       "      <td>8</td>\n",
       "      <td>2014-01-16 07:24:04</td>\n",
       "      <td>49046</td>\n",
       "      <td>58-1638390</td>\n",
       "      <td>2014-01-01</td>\n",
       "      <td>2014-12-31</td>\n",
       "      <td>...</td>\n",
       "      <td>563.74</td>\n",
       "      <td>761.06</td>\n",
       "      <td>NaN</td>\n",
       "      <td>NaN</td>\n",
       "      <td>NaN</td>\n",
       "      <td>NaN</td>\n",
       "      <td>NaN</td>\n",
       "      <td>NaN</td>\n",
       "      <td>NaN</td>\n",
       "      <td>838</td>\n",
       "    </tr>\n",
       "    <tr>\n",
       "      <th>2</th>\n",
       "      <td>2014</td>\n",
       "      <td>FL</td>\n",
       "      <td>43274</td>\n",
       "      <td>HIOS</td>\n",
       "      <td>3</td>\n",
       "      <td>2013-09-17 16:07:07</td>\n",
       "      <td>43274</td>\n",
       "      <td>14-1917982</td>\n",
       "      <td>2014-01-01</td>\n",
       "      <td>2014-12-31</td>\n",
       "      <td>...</td>\n",
       "      <td>22.57</td>\n",
       "      <td>NaN</td>\n",
       "      <td>NaN</td>\n",
       "      <td>NaN</td>\n",
       "      <td>NaN</td>\n",
       "      <td>NaN</td>\n",
       "      <td>NaN</td>\n",
       "      <td>NaN</td>\n",
       "      <td>NaN</td>\n",
       "      <td>4678</td>\n",
       "    </tr>\n",
       "    <tr>\n",
       "      <th>3</th>\n",
       "      <td>2014</td>\n",
       "      <td>FL</td>\n",
       "      <td>48129</td>\n",
       "      <td>HIOS</td>\n",
       "      <td>8</td>\n",
       "      <td>2013-11-26 13:14:08</td>\n",
       "      <td>48129</td>\n",
       "      <td>47-0397286</td>\n",
       "      <td>2014-01-01</td>\n",
       "      <td>2014-12-31</td>\n",
       "      <td>...</td>\n",
       "      <td>32.85</td>\n",
       "      <td>NaN</td>\n",
       "      <td>NaN</td>\n",
       "      <td>NaN</td>\n",
       "      <td>NaN</td>\n",
       "      <td>NaN</td>\n",
       "      <td>NaN</td>\n",
       "      <td>NaN</td>\n",
       "      <td>NaN</td>\n",
       "      <td>21255</td>\n",
       "    </tr>\n",
       "    <tr>\n",
       "      <th>4</th>\n",
       "      <td>2014</td>\n",
       "      <td>IN</td>\n",
       "      <td>17575</td>\n",
       "      <td>HIOS</td>\n",
       "      <td>12</td>\n",
       "      <td>2014-03-19 07:06:49</td>\n",
       "      <td>17575</td>\n",
       "      <td>35-0781558</td>\n",
       "      <td>2014-01-01</td>\n",
       "      <td>2014-12-31</td>\n",
       "      <td>...</td>\n",
       "      <td>608.62</td>\n",
       "      <td>791.20</td>\n",
       "      <td>NaN</td>\n",
       "      <td>NaN</td>\n",
       "      <td>NaN</td>\n",
       "      <td>NaN</td>\n",
       "      <td>NaN</td>\n",
       "      <td>NaN</td>\n",
       "      <td>NaN</td>\n",
       "      <td>10440</td>\n",
       "    </tr>\n",
       "  </tbody>\n",
       "</table>\n",
       "<p>5 rows × 24 columns</p>\n",
       "</div>"
      ],
      "text/plain": [
       "   BusinessYear StateCode  IssuerId SourceName  VersionNum  \\\n",
       "0          2014        FL     16842       HIOS           6   \n",
       "1          2014        GA     49046       HIOS           8   \n",
       "2          2014        FL     43274       HIOS           3   \n",
       "3          2014        FL     48129       HIOS           8   \n",
       "4          2014        IN     17575       HIOS          12   \n",
       "\n",
       "            ImportDate  IssuerId2  FederalTIN RateEffectiveDate  \\\n",
       "0  2014-01-17 09:36:20      16842  59-2015694        2014-07-01   \n",
       "1  2014-01-16 07:24:04      49046  58-1638390        2014-01-01   \n",
       "2  2013-09-17 16:07:07      43274  14-1917982        2014-01-01   \n",
       "3  2013-11-26 13:14:08      48129  47-0397286        2014-01-01   \n",
       "4  2014-03-19 07:06:49      17575  35-0781558        2014-01-01   \n",
       "\n",
       "  RateExpirationDate  ... IndividualRate IndividualTobaccoRate Couple  \\\n",
       "0         2014-09-30  ...         790.28                   NaN    NaN   \n",
       "1         2014-12-31  ...         563.74                761.06    NaN   \n",
       "2         2014-12-31  ...          22.57                   NaN    NaN   \n",
       "3         2014-12-31  ...          32.85                   NaN    NaN   \n",
       "4         2014-12-31  ...         608.62                791.20    NaN   \n",
       "\n",
       "  PrimarySubscriberAndOneDependent  PrimarySubscriberAndTwoDependents  \\\n",
       "0                              NaN                                NaN   \n",
       "1                              NaN                                NaN   \n",
       "2                              NaN                                NaN   \n",
       "3                              NaN                                NaN   \n",
       "4                              NaN                                NaN   \n",
       "\n",
       "   PrimarySubscriberAndThreeOrMoreDependents  CoupleAndOneDependent  \\\n",
       "0                                        NaN                    NaN   \n",
       "1                                        NaN                    NaN   \n",
       "2                                        NaN                    NaN   \n",
       "3                                        NaN                    NaN   \n",
       "4                                        NaN                    NaN   \n",
       "\n",
       "   CoupleAndTwoDependents  CoupleAndThreeOrMoreDependents  RowNumber  \n",
       "0                     NaN                             NaN       2676  \n",
       "1                     NaN                             NaN        838  \n",
       "2                     NaN                             NaN       4678  \n",
       "3                     NaN                             NaN      21255  \n",
       "4                     NaN                             NaN      10440  \n",
       "\n",
       "[5 rows x 24 columns]"
      ]
     },
     "execution_count": 17,
     "metadata": {},
     "output_type": "execute_result"
    }
   ],
   "source": [
    "rate_df.head()"
   ]
  },
  {
   "cell_type": "code",
   "execution_count": 18,
   "metadata": {
    "colab": {
     "base_uri": "https://localhost:8080/"
    },
    "executionInfo": {
     "elapsed": 463,
     "status": "ok",
     "timestamp": 1723290319730,
     "user": {
      "displayName": "Abhishek Ghodekar",
      "userId": "06263796080899894595"
     },
     "user_tz": -330
    },
    "id": "vbTmQMFQO2h-",
    "outputId": "9beebf71-f6a9-4bba-c33d-062d58a3f6fa"
   },
   "outputs": [
    {
     "name": "stdout",
     "output_type": "stream",
     "text": [
      "<class 'pandas.core.frame.DataFrame'>\n",
      "RangeIndex: 4000000 entries, 0 to 3999999\n",
      "Data columns (total 24 columns):\n",
      " #   Column                                     Dtype  \n",
      "---  ------                                     -----  \n",
      " 0   BusinessYear                               int64  \n",
      " 1   StateCode                                  object \n",
      " 2   IssuerId                                   int64  \n",
      " 3   SourceName                                 object \n",
      " 4   VersionNum                                 int64  \n",
      " 5   ImportDate                                 object \n",
      " 6   IssuerId2                                  int64  \n",
      " 7   FederalTIN                                 object \n",
      " 8   RateEffectiveDate                          object \n",
      " 9   RateExpirationDate                         object \n",
      " 10  PlanId                                     object \n",
      " 11  RatingAreaId                               object \n",
      " 12  Tobacco                                    object \n",
      " 13  Age                                        object \n",
      " 14  IndividualRate                             float64\n",
      " 15  IndividualTobaccoRate                      float64\n",
      " 16  Couple                                     float64\n",
      " 17  PrimarySubscriberAndOneDependent           float64\n",
      " 18  PrimarySubscriberAndTwoDependents          float64\n",
      " 19  PrimarySubscriberAndThreeOrMoreDependents  float64\n",
      " 20  CoupleAndOneDependent                      float64\n",
      " 21  CoupleAndTwoDependents                     float64\n",
      " 22  CoupleAndThreeOrMoreDependents             float64\n",
      " 23  RowNumber                                  int64  \n",
      "dtypes: float64(9), int64(5), object(10)\n",
      "memory usage: 732.4+ MB\n"
     ]
    }
   ],
   "source": [
    "# Display basic information\n",
    "rate_df.info()"
   ]
  },
  {
   "cell_type": "code",
   "execution_count": 19,
   "metadata": {
    "id": "6mRsK80ZmiRP"
   },
   "outputs": [],
   "source": [
    "rate_df = rate_df.sample(n=200000, random_state=42)"
   ]
  },
  {
   "cell_type": "code",
   "execution_count": 20,
   "metadata": {
    "colab": {
     "base_uri": "https://localhost:8080/"
    },
    "executionInfo": {
     "elapsed": 454,
     "status": "ok",
     "timestamp": 1723290329192,
     "user": {
      "displayName": "Abhishek Ghodekar",
      "userId": "06263796080899894595"
     },
     "user_tz": -330
    },
    "id": "xAduwUy7PDM3",
    "outputId": "e13ca1eb-34e0-4246-d711-c71b896ad4a3"
   },
   "outputs": [
    {
     "data": {
      "text/plain": [
       "(200000, 24)"
      ]
     },
     "execution_count": 20,
     "metadata": {},
     "output_type": "execute_result"
    }
   ],
   "source": [
    "rate_df.shape"
   ]
  },
  {
   "cell_type": "code",
   "execution_count": 21,
   "metadata": {
    "colab": {
     "base_uri": "https://localhost:8080/",
     "height": 320
    },
    "executionInfo": {
     "elapsed": 489,
     "status": "ok",
     "timestamp": 1723290331595,
     "user": {
      "displayName": "Abhishek Ghodekar",
      "userId": "06263796080899894595"
     },
     "user_tz": -330
    },
    "id": "wLD15NSGPOC2",
    "outputId": "c915d061-cd55-4299-eb77-ea3f4dd41a9d"
   },
   "outputs": [
    {
     "data": {
      "text/html": [
       "<div>\n",
       "<style scoped>\n",
       "    .dataframe tbody tr th:only-of-type {\n",
       "        vertical-align: middle;\n",
       "    }\n",
       "\n",
       "    .dataframe tbody tr th {\n",
       "        vertical-align: top;\n",
       "    }\n",
       "\n",
       "    .dataframe thead th {\n",
       "        text-align: right;\n",
       "    }\n",
       "</style>\n",
       "<table border=\"1\" class=\"dataframe\">\n",
       "  <thead>\n",
       "    <tr style=\"text-align: right;\">\n",
       "      <th></th>\n",
       "      <th>BusinessYear</th>\n",
       "      <th>IssuerId</th>\n",
       "      <th>VersionNum</th>\n",
       "      <th>IssuerId2</th>\n",
       "      <th>IndividualRate</th>\n",
       "      <th>IndividualTobaccoRate</th>\n",
       "      <th>Couple</th>\n",
       "      <th>PrimarySubscriberAndOneDependent</th>\n",
       "      <th>PrimarySubscriberAndTwoDependents</th>\n",
       "      <th>PrimarySubscriberAndThreeOrMoreDependents</th>\n",
       "      <th>CoupleAndOneDependent</th>\n",
       "      <th>CoupleAndTwoDependents</th>\n",
       "      <th>CoupleAndThreeOrMoreDependents</th>\n",
       "      <th>RowNumber</th>\n",
       "    </tr>\n",
       "  </thead>\n",
       "  <tbody>\n",
       "    <tr>\n",
       "      <th>count</th>\n",
       "      <td>200000.000000</td>\n",
       "      <td>200000.000000</td>\n",
       "      <td>200000.000000</td>\n",
       "      <td>200000.000000</td>\n",
       "      <td>200000.000000</td>\n",
       "      <td>83875.000000</td>\n",
       "      <td>511.000000</td>\n",
       "      <td>511.000000</td>\n",
       "      <td>511.000000</td>\n",
       "      <td>511.000000</td>\n",
       "      <td>511.000000</td>\n",
       "      <td>511.000000</td>\n",
       "      <td>511.000000</td>\n",
       "      <td>200000.000000</td>\n",
       "    </tr>\n",
       "    <tr>\n",
       "      <th>mean</th>\n",
       "      <td>2014.051255</td>\n",
       "      <td>51210.777330</td>\n",
       "      <td>6.895840</td>\n",
       "      <td>51210.777330</td>\n",
       "      <td>12653.008779</td>\n",
       "      <td>554.708984</td>\n",
       "      <td>47.508650</td>\n",
       "      <td>47.797084</td>\n",
       "      <td>67.063268</td>\n",
       "      <td>89.895949</td>\n",
       "      <td>69.928552</td>\n",
       "      <td>88.384207</td>\n",
       "      <td>111.203777</td>\n",
       "      <td>6363.909360</td>\n",
       "    </tr>\n",
       "    <tr>\n",
       "      <th>std</th>\n",
       "      <td>0.220518</td>\n",
       "      <td>25875.393757</td>\n",
       "      <td>2.629952</td>\n",
       "      <td>25875.393757</td>\n",
       "      <td>110273.702504</td>\n",
       "      <td>328.966906</td>\n",
       "      <td>19.932346</td>\n",
       "      <td>18.347254</td>\n",
       "      <td>29.717070</td>\n",
       "      <td>44.517452</td>\n",
       "      <td>31.401570</td>\n",
       "      <td>41.665836</td>\n",
       "      <td>56.447930</td>\n",
       "      <td>9319.543001</td>\n",
       "    </tr>\n",
       "    <tr>\n",
       "      <th>min</th>\n",
       "      <td>2014.000000</td>\n",
       "      <td>10191.000000</td>\n",
       "      <td>1.000000</td>\n",
       "      <td>10191.000000</td>\n",
       "      <td>0.000000</td>\n",
       "      <td>66.060000</td>\n",
       "      <td>0.000000</td>\n",
       "      <td>0.000000</td>\n",
       "      <td>0.000000</td>\n",
       "      <td>0.000000</td>\n",
       "      <td>0.000000</td>\n",
       "      <td>0.000000</td>\n",
       "      <td>0.000000</td>\n",
       "      <td>14.000000</td>\n",
       "    </tr>\n",
       "    <tr>\n",
       "      <th>25%</th>\n",
       "      <td>2014.000000</td>\n",
       "      <td>30115.000000</td>\n",
       "      <td>5.000000</td>\n",
       "      <td>30115.000000</td>\n",
       "      <td>32.190000</td>\n",
       "      <td>338.655000</td>\n",
       "      <td>31.395000</td>\n",
       "      <td>33.220000</td>\n",
       "      <td>44.000000</td>\n",
       "      <td>51.085000</td>\n",
       "      <td>47.380000</td>\n",
       "      <td>60.640000</td>\n",
       "      <td>72.490000</td>\n",
       "      <td>878.000000</td>\n",
       "    </tr>\n",
       "    <tr>\n",
       "      <th>50%</th>\n",
       "      <td>2014.000000</td>\n",
       "      <td>49193.000000</td>\n",
       "      <td>7.000000</td>\n",
       "      <td>49193.000000</td>\n",
       "      <td>296.340000</td>\n",
       "      <td>471.250000</td>\n",
       "      <td>46.040000</td>\n",
       "      <td>46.750000</td>\n",
       "      <td>68.750000</td>\n",
       "      <td>93.920000</td>\n",
       "      <td>69.740000</td>\n",
       "      <td>92.200000</td>\n",
       "      <td>115.610000</td>\n",
       "      <td>2758.000000</td>\n",
       "    </tr>\n",
       "    <tr>\n",
       "      <th>75%</th>\n",
       "      <td>2014.000000</td>\n",
       "      <td>72547.000000</td>\n",
       "      <td>9.000000</td>\n",
       "      <td>72547.000000</td>\n",
       "      <td>478.912500</td>\n",
       "      <td>689.355000</td>\n",
       "      <td>60.205000</td>\n",
       "      <td>60.285000</td>\n",
       "      <td>87.635000</td>\n",
       "      <td>121.475000</td>\n",
       "      <td>90.365000</td>\n",
       "      <td>116.280000</td>\n",
       "      <td>149.465000</td>\n",
       "      <td>7329.000000</td>\n",
       "    </tr>\n",
       "    <tr>\n",
       "      <th>max</th>\n",
       "      <td>2015.000000</td>\n",
       "      <td>99969.000000</td>\n",
       "      <td>16.000000</td>\n",
       "      <td>99969.000000</td>\n",
       "      <td>999999.000000</td>\n",
       "      <td>6186.330000</td>\n",
       "      <td>118.640000</td>\n",
       "      <td>118.310000</td>\n",
       "      <td>177.370000</td>\n",
       "      <td>265.950000</td>\n",
       "      <td>177.700000</td>\n",
       "      <td>236.750000</td>\n",
       "      <td>325.340000</td>\n",
       "      <td>63489.000000</td>\n",
       "    </tr>\n",
       "  </tbody>\n",
       "</table>\n",
       "</div>"
      ],
      "text/plain": [
       "        BusinessYear       IssuerId     VersionNum      IssuerId2  \\\n",
       "count  200000.000000  200000.000000  200000.000000  200000.000000   \n",
       "mean     2014.051255   51210.777330       6.895840   51210.777330   \n",
       "std         0.220518   25875.393757       2.629952   25875.393757   \n",
       "min      2014.000000   10191.000000       1.000000   10191.000000   \n",
       "25%      2014.000000   30115.000000       5.000000   30115.000000   \n",
       "50%      2014.000000   49193.000000       7.000000   49193.000000   \n",
       "75%      2014.000000   72547.000000       9.000000   72547.000000   \n",
       "max      2015.000000   99969.000000      16.000000   99969.000000   \n",
       "\n",
       "       IndividualRate  IndividualTobaccoRate      Couple  \\\n",
       "count   200000.000000           83875.000000  511.000000   \n",
       "mean     12653.008779             554.708984   47.508650   \n",
       "std     110273.702504             328.966906   19.932346   \n",
       "min          0.000000              66.060000    0.000000   \n",
       "25%         32.190000             338.655000   31.395000   \n",
       "50%        296.340000             471.250000   46.040000   \n",
       "75%        478.912500             689.355000   60.205000   \n",
       "max     999999.000000            6186.330000  118.640000   \n",
       "\n",
       "       PrimarySubscriberAndOneDependent  PrimarySubscriberAndTwoDependents  \\\n",
       "count                        511.000000                         511.000000   \n",
       "mean                          47.797084                          67.063268   \n",
       "std                           18.347254                          29.717070   \n",
       "min                            0.000000                           0.000000   \n",
       "25%                           33.220000                          44.000000   \n",
       "50%                           46.750000                          68.750000   \n",
       "75%                           60.285000                          87.635000   \n",
       "max                          118.310000                         177.370000   \n",
       "\n",
       "       PrimarySubscriberAndThreeOrMoreDependents  CoupleAndOneDependent  \\\n",
       "count                                 511.000000             511.000000   \n",
       "mean                                   89.895949              69.928552   \n",
       "std                                    44.517452              31.401570   \n",
       "min                                     0.000000               0.000000   \n",
       "25%                                    51.085000              47.380000   \n",
       "50%                                    93.920000              69.740000   \n",
       "75%                                   121.475000              90.365000   \n",
       "max                                   265.950000             177.700000   \n",
       "\n",
       "       CoupleAndTwoDependents  CoupleAndThreeOrMoreDependents      RowNumber  \n",
       "count              511.000000                      511.000000  200000.000000  \n",
       "mean                88.384207                      111.203777    6363.909360  \n",
       "std                 41.665836                       56.447930    9319.543001  \n",
       "min                  0.000000                        0.000000      14.000000  \n",
       "25%                 60.640000                       72.490000     878.000000  \n",
       "50%                 92.200000                      115.610000    2758.000000  \n",
       "75%                116.280000                      149.465000    7329.000000  \n",
       "max                236.750000                      325.340000   63489.000000  "
      ]
     },
     "execution_count": 21,
     "metadata": {},
     "output_type": "execute_result"
    }
   ],
   "source": [
    "# Display summary statistics\n",
    "rate_df.describe()"
   ]
  },
  {
   "cell_type": "code",
   "execution_count": 22,
   "metadata": {
    "colab": {
     "base_uri": "https://localhost:8080/"
    },
    "executionInfo": {
     "elapsed": 470,
     "status": "ok",
     "timestamp": 1723290334792,
     "user": {
      "displayName": "Abhishek Ghodekar",
      "userId": "06263796080899894595"
     },
     "user_tz": -330
    },
    "id": "AGFCUzGsQUGW",
    "outputId": "42a9dd87-7c73-4c05-d015-1996e834c823"
   },
   "outputs": [],
   "source": [
    "# Fill missing values in the 'IndividualTobaccoRate' column with 0\n",
    "rate_df['IndividualTobaccoRate'].fillna(0, inplace=True)"
   ]
  },
  {
   "cell_type": "code",
   "execution_count": 23,
   "metadata": {
    "colab": {
     "base_uri": "https://localhost:8080/",
     "height": 342
    },
    "executionInfo": {
     "elapsed": 466,
     "status": "ok",
     "timestamp": 1723290339588,
     "user": {
      "displayName": "Abhishek Ghodekar",
      "userId": "06263796080899894595"
     },
     "user_tz": -330
    },
    "id": "uFTFCu5HQkL4",
    "outputId": "4cb3729a-5bcd-4ff2-df5e-4e5b0b5e5d29"
   },
   "outputs": [
    {
     "data": {
      "text/html": [
       "<div>\n",
       "<style scoped>\n",
       "    .dataframe tbody tr th:only-of-type {\n",
       "        vertical-align: middle;\n",
       "    }\n",
       "\n",
       "    .dataframe tbody tr th {\n",
       "        vertical-align: top;\n",
       "    }\n",
       "\n",
       "    .dataframe thead th {\n",
       "        text-align: right;\n",
       "    }\n",
       "</style>\n",
       "<table border=\"1\" class=\"dataframe\">\n",
       "  <thead>\n",
       "    <tr style=\"text-align: right;\">\n",
       "      <th></th>\n",
       "      <th>BusinessYear</th>\n",
       "      <th>StateCode</th>\n",
       "      <th>IssuerId</th>\n",
       "      <th>SourceName</th>\n",
       "      <th>VersionNum</th>\n",
       "      <th>ImportDate</th>\n",
       "      <th>IssuerId2</th>\n",
       "      <th>FederalTIN</th>\n",
       "      <th>RateEffectiveDate</th>\n",
       "      <th>RateExpirationDate</th>\n",
       "      <th>...</th>\n",
       "      <th>IndividualRate</th>\n",
       "      <th>IndividualTobaccoRate</th>\n",
       "      <th>Couple</th>\n",
       "      <th>PrimarySubscriberAndOneDependent</th>\n",
       "      <th>PrimarySubscriberAndTwoDependents</th>\n",
       "      <th>PrimarySubscriberAndThreeOrMoreDependents</th>\n",
       "      <th>CoupleAndOneDependent</th>\n",
       "      <th>CoupleAndTwoDependents</th>\n",
       "      <th>CoupleAndThreeOrMoreDependents</th>\n",
       "      <th>RowNumber</th>\n",
       "    </tr>\n",
       "  </thead>\n",
       "  <tbody>\n",
       "    <tr>\n",
       "      <th>1049554</th>\n",
       "      <td>2014</td>\n",
       "      <td>IN</td>\n",
       "      <td>50816</td>\n",
       "      <td>HIOS</td>\n",
       "      <td>9</td>\n",
       "      <td>2013-11-26 13:14:08</td>\n",
       "      <td>50816</td>\n",
       "      <td>31-1069321</td>\n",
       "      <td>2014-07-01</td>\n",
       "      <td>2014-09-30</td>\n",
       "      <td>...</td>\n",
       "      <td>511.73</td>\n",
       "      <td>767.59</td>\n",
       "      <td>NaN</td>\n",
       "      <td>NaN</td>\n",
       "      <td>NaN</td>\n",
       "      <td>NaN</td>\n",
       "      <td>NaN</td>\n",
       "      <td>NaN</td>\n",
       "      <td>NaN</td>\n",
       "      <td>15636</td>\n",
       "    </tr>\n",
       "    <tr>\n",
       "      <th>214510</th>\n",
       "      <td>2014</td>\n",
       "      <td>FL</td>\n",
       "      <td>16842</td>\n",
       "      <td>HIOS</td>\n",
       "      <td>6</td>\n",
       "      <td>2014-01-17 09:36:20</td>\n",
       "      <td>16842</td>\n",
       "      <td>59-2015694</td>\n",
       "      <td>2014-01-01</td>\n",
       "      <td>2014-12-31</td>\n",
       "      <td>...</td>\n",
       "      <td>350.19</td>\n",
       "      <td>420.23</td>\n",
       "      <td>NaN</td>\n",
       "      <td>NaN</td>\n",
       "      <td>NaN</td>\n",
       "      <td>NaN</td>\n",
       "      <td>NaN</td>\n",
       "      <td>NaN</td>\n",
       "      <td>NaN</td>\n",
       "      <td>10376</td>\n",
       "    </tr>\n",
       "    <tr>\n",
       "      <th>2145764</th>\n",
       "      <td>2014</td>\n",
       "      <td>ID</td>\n",
       "      <td>60597</td>\n",
       "      <td>SERFF</td>\n",
       "      <td>9</td>\n",
       "      <td>2013-10-16 19:58:29</td>\n",
       "      <td>60597</td>\n",
       "      <td>93-0245545</td>\n",
       "      <td>2014-01-01</td>\n",
       "      <td>2014-12-31</td>\n",
       "      <td>...</td>\n",
       "      <td>490.00</td>\n",
       "      <td>735.00</td>\n",
       "      <td>NaN</td>\n",
       "      <td>NaN</td>\n",
       "      <td>NaN</td>\n",
       "      <td>NaN</td>\n",
       "      <td>NaN</td>\n",
       "      <td>NaN</td>\n",
       "      <td>NaN</td>\n",
       "      <td>2670</td>\n",
       "    </tr>\n",
       "    <tr>\n",
       "      <th>2198867</th>\n",
       "      <td>2014</td>\n",
       "      <td>WI</td>\n",
       "      <td>38166</td>\n",
       "      <td>HIOS</td>\n",
       "      <td>5</td>\n",
       "      <td>2013-09-17 16:07:07</td>\n",
       "      <td>38166</td>\n",
       "      <td>39-1572880</td>\n",
       "      <td>2014-04-01</td>\n",
       "      <td>2014-06-30</td>\n",
       "      <td>...</td>\n",
       "      <td>506.95</td>\n",
       "      <td>0.00</td>\n",
       "      <td>NaN</td>\n",
       "      <td>NaN</td>\n",
       "      <td>NaN</td>\n",
       "      <td>NaN</td>\n",
       "      <td>NaN</td>\n",
       "      <td>NaN</td>\n",
       "      <td>NaN</td>\n",
       "      <td>7033</td>\n",
       "    </tr>\n",
       "    <tr>\n",
       "      <th>1184366</th>\n",
       "      <td>2014</td>\n",
       "      <td>SC</td>\n",
       "      <td>26065</td>\n",
       "      <td>HIOS</td>\n",
       "      <td>4</td>\n",
       "      <td>2013-09-02 11:39:25</td>\n",
       "      <td>26065</td>\n",
       "      <td>57-0287419</td>\n",
       "      <td>2014-01-01</td>\n",
       "      <td>2014-12-31</td>\n",
       "      <td>...</td>\n",
       "      <td>340.56</td>\n",
       "      <td>408.67</td>\n",
       "      <td>NaN</td>\n",
       "      <td>NaN</td>\n",
       "      <td>NaN</td>\n",
       "      <td>NaN</td>\n",
       "      <td>NaN</td>\n",
       "      <td>NaN</td>\n",
       "      <td>NaN</td>\n",
       "      <td>3896</td>\n",
       "    </tr>\n",
       "  </tbody>\n",
       "</table>\n",
       "<p>5 rows × 24 columns</p>\n",
       "</div>"
      ],
      "text/plain": [
       "         BusinessYear StateCode  IssuerId SourceName  VersionNum  \\\n",
       "1049554          2014        IN     50816       HIOS           9   \n",
       "214510           2014        FL     16842       HIOS           6   \n",
       "2145764          2014        ID     60597      SERFF           9   \n",
       "2198867          2014        WI     38166       HIOS           5   \n",
       "1184366          2014        SC     26065       HIOS           4   \n",
       "\n",
       "                  ImportDate  IssuerId2  FederalTIN RateEffectiveDate  \\\n",
       "1049554  2013-11-26 13:14:08      50816  31-1069321        2014-07-01   \n",
       "214510   2014-01-17 09:36:20      16842  59-2015694        2014-01-01   \n",
       "2145764  2013-10-16 19:58:29      60597  93-0245545        2014-01-01   \n",
       "2198867  2013-09-17 16:07:07      38166  39-1572880        2014-04-01   \n",
       "1184366  2013-09-02 11:39:25      26065  57-0287419        2014-01-01   \n",
       "\n",
       "        RateExpirationDate  ... IndividualRate IndividualTobaccoRate Couple  \\\n",
       "1049554         2014-09-30  ...         511.73                767.59    NaN   \n",
       "214510          2014-12-31  ...         350.19                420.23    NaN   \n",
       "2145764         2014-12-31  ...         490.00                735.00    NaN   \n",
       "2198867         2014-06-30  ...         506.95                  0.00    NaN   \n",
       "1184366         2014-12-31  ...         340.56                408.67    NaN   \n",
       "\n",
       "        PrimarySubscriberAndOneDependent  PrimarySubscriberAndTwoDependents  \\\n",
       "1049554                              NaN                                NaN   \n",
       "214510                               NaN                                NaN   \n",
       "2145764                              NaN                                NaN   \n",
       "2198867                              NaN                                NaN   \n",
       "1184366                              NaN                                NaN   \n",
       "\n",
       "         PrimarySubscriberAndThreeOrMoreDependents  CoupleAndOneDependent  \\\n",
       "1049554                                        NaN                    NaN   \n",
       "214510                                         NaN                    NaN   \n",
       "2145764                                        NaN                    NaN   \n",
       "2198867                                        NaN                    NaN   \n",
       "1184366                                        NaN                    NaN   \n",
       "\n",
       "         CoupleAndTwoDependents  CoupleAndThreeOrMoreDependents  RowNumber  \n",
       "1049554                     NaN                             NaN      15636  \n",
       "214510                      NaN                             NaN      10376  \n",
       "2145764                     NaN                             NaN       2670  \n",
       "2198867                     NaN                             NaN       7033  \n",
       "1184366                     NaN                             NaN       3896  \n",
       "\n",
       "[5 rows x 24 columns]"
      ]
     },
     "execution_count": 23,
     "metadata": {},
     "output_type": "execute_result"
    }
   ],
   "source": [
    "rate_df.head()"
   ]
  },
  {
   "cell_type": "code",
   "execution_count": 24,
   "metadata": {
    "colab": {
     "base_uri": "https://localhost:8080/"
    },
    "executionInfo": {
     "elapsed": 506,
     "status": "ok",
     "timestamp": 1723290343130,
     "user": {
      "displayName": "Abhishek Ghodekar",
      "userId": "06263796080899894595"
     },
     "user_tz": -330
    },
    "id": "HcNnzG4MQrpz",
    "outputId": "1d09a6a9-2019-47c5-f7d0-e8017d267792"
   },
   "outputs": [
    {
     "name": "stdout",
     "output_type": "stream",
     "text": [
      "<class 'pandas.core.frame.DataFrame'>\n",
      "Int64Index: 200000 entries, 1049554 to 3265533\n",
      "Data columns (total 24 columns):\n",
      " #   Column                                     Non-Null Count   Dtype  \n",
      "---  ------                                     --------------   -----  \n",
      " 0   BusinessYear                               200000 non-null  int64  \n",
      " 1   StateCode                                  200000 non-null  object \n",
      " 2   IssuerId                                   200000 non-null  int64  \n",
      " 3   SourceName                                 200000 non-null  object \n",
      " 4   VersionNum                                 200000 non-null  int64  \n",
      " 5   ImportDate                                 200000 non-null  object \n",
      " 6   IssuerId2                                  200000 non-null  int64  \n",
      " 7   FederalTIN                                 200000 non-null  object \n",
      " 8   RateEffectiveDate                          200000 non-null  object \n",
      " 9   RateExpirationDate                         200000 non-null  object \n",
      " 10  PlanId                                     200000 non-null  object \n",
      " 11  RatingAreaId                               200000 non-null  object \n",
      " 12  Tobacco                                    200000 non-null  object \n",
      " 13  Age                                        200000 non-null  object \n",
      " 14  IndividualRate                             200000 non-null  float64\n",
      " 15  IndividualTobaccoRate                      200000 non-null  float64\n",
      " 16  Couple                                     511 non-null     float64\n",
      " 17  PrimarySubscriberAndOneDependent           511 non-null     float64\n",
      " 18  PrimarySubscriberAndTwoDependents          511 non-null     float64\n",
      " 19  PrimarySubscriberAndThreeOrMoreDependents  511 non-null     float64\n",
      " 20  CoupleAndOneDependent                      511 non-null     float64\n",
      " 21  CoupleAndTwoDependents                     511 non-null     float64\n",
      " 22  CoupleAndThreeOrMoreDependents             511 non-null     float64\n",
      " 23  RowNumber                                  200000 non-null  int64  \n",
      "dtypes: float64(9), int64(5), object(10)\n",
      "memory usage: 38.1+ MB\n"
     ]
    }
   ],
   "source": [
    "# Display basic information\n",
    "rate_df.info()"
   ]
  },
  {
   "cell_type": "code",
   "execution_count": 25,
   "metadata": {},
   "outputs": [
    {
     "data": {
      "text/plain": [
       "BusinessYear                                  0.0000\n",
       "StateCode                                     0.0000\n",
       "IssuerId                                      0.0000\n",
       "SourceName                                    0.0000\n",
       "VersionNum                                    0.0000\n",
       "ImportDate                                    0.0000\n",
       "IssuerId2                                     0.0000\n",
       "FederalTIN                                    0.0000\n",
       "RateEffectiveDate                             0.0000\n",
       "RateExpirationDate                            0.0000\n",
       "PlanId                                        0.0000\n",
       "RatingAreaId                                  0.0000\n",
       "Tobacco                                       0.0000\n",
       "Age                                           0.0000\n",
       "IndividualRate                                0.0000\n",
       "IndividualTobaccoRate                         0.0000\n",
       "Couple                                       99.7445\n",
       "PrimarySubscriberAndOneDependent             99.7445\n",
       "PrimarySubscriberAndTwoDependents            99.7445\n",
       "PrimarySubscriberAndThreeOrMoreDependents    99.7445\n",
       "CoupleAndOneDependent                        99.7445\n",
       "CoupleAndTwoDependents                       99.7445\n",
       "CoupleAndThreeOrMoreDependents               99.7445\n",
       "RowNumber                                     0.0000\n",
       "dtype: float64"
      ]
     },
     "execution_count": 25,
     "metadata": {},
     "output_type": "execute_result"
    }
   ],
   "source": [
    "# Calculate the percentage of missing values in each column\n",
    "missing_percentage = rate_df.isnull().mean() * 100\n",
    "missing_percentage"
   ]
  },
  {
   "cell_type": "code",
   "execution_count": 26,
   "metadata": {
    "colab": {
     "base_uri": "https://localhost:8080/"
    },
    "executionInfo": {
     "elapsed": 490,
     "status": "ok",
     "timestamp": 1723290346514,
     "user": {
      "displayName": "Abhishek Ghodekar",
      "userId": "06263796080899894595"
     },
     "user_tz": -330
    },
    "id": "cS1c9KEjQ4jC",
    "outputId": "b26c80e3-88e4-4c9e-b392-4fab2ac7f472"
   },
   "outputs": [
    {
     "name": "stdout",
     "output_type": "stream",
     "text": [
      "Index(['BusinessYear', 'StateCode', 'IssuerId', 'SourceName', 'VersionNum',\n",
      "       'IssuerId2', 'RateEffectiveDate', 'RateExpirationDate', 'PlanId',\n",
      "       'RatingAreaId', 'Tobacco', 'Age', 'IndividualRate',\n",
      "       'IndividualTobaccoRate', 'RowNumber'],\n",
      "      dtype='object')\n"
     ]
    }
   ],
   "source": [
    "# List of columns to drop\n",
    "columns_to_drop = [\n",
    "    'Couple',\n",
    "    'PrimarySubscriberAndOneDependent',\n",
    "    'PrimarySubscriberAndTwoDependents',\n",
    "    'PrimarySubscriberAndThreeOrMoreDependents',\n",
    "    'CoupleAndOneDependent',\n",
    "    'CoupleAndTwoDependents',\n",
    "    'CoupleAndThreeOrMoreDependents',\n",
    "    'ImportDate',\n",
    "    'FederalTIN'\n",
    "]\n",
    "\n",
    "# Drop the specified columns\n",
    "rate_df.drop(columns=columns_to_drop, inplace=True)\n",
    "\n",
    "# Verify that columns have been dropped\n",
    "print(rate_df.columns)"
   ]
  },
  {
   "cell_type": "code",
   "execution_count": 27,
   "metadata": {
    "colab": {
     "base_uri": "https://localhost:8080/",
     "height": 451
    },
    "executionInfo": {
     "elapsed": 503,
     "status": "ok",
     "timestamp": 1723290349868,
     "user": {
      "displayName": "Abhishek Ghodekar",
      "userId": "06263796080899894595"
     },
     "user_tz": -330
    },
    "id": "p7CEJrFGQ_hE",
    "outputId": "3ffcb18a-034e-480f-e2ae-73cd1832b87d"
   },
   "outputs": [
    {
     "data": {
      "text/html": [
       "<div>\n",
       "<style scoped>\n",
       "    .dataframe tbody tr th:only-of-type {\n",
       "        vertical-align: middle;\n",
       "    }\n",
       "\n",
       "    .dataframe tbody tr th {\n",
       "        vertical-align: top;\n",
       "    }\n",
       "\n",
       "    .dataframe thead th {\n",
       "        text-align: right;\n",
       "    }\n",
       "</style>\n",
       "<table border=\"1\" class=\"dataframe\">\n",
       "  <thead>\n",
       "    <tr style=\"text-align: right;\">\n",
       "      <th></th>\n",
       "      <th>BusinessYear</th>\n",
       "      <th>StateCode</th>\n",
       "      <th>IssuerId</th>\n",
       "      <th>SourceName</th>\n",
       "      <th>VersionNum</th>\n",
       "      <th>IssuerId2</th>\n",
       "      <th>RateEffectiveDate</th>\n",
       "      <th>RateExpirationDate</th>\n",
       "      <th>PlanId</th>\n",
       "      <th>RatingAreaId</th>\n",
       "      <th>Tobacco</th>\n",
       "      <th>Age</th>\n",
       "      <th>IndividualRate</th>\n",
       "      <th>IndividualTobaccoRate</th>\n",
       "      <th>RowNumber</th>\n",
       "    </tr>\n",
       "  </thead>\n",
       "  <tbody>\n",
       "    <tr>\n",
       "      <th>1049554</th>\n",
       "      <td>2014</td>\n",
       "      <td>IN</td>\n",
       "      <td>50816</td>\n",
       "      <td>HIOS</td>\n",
       "      <td>9</td>\n",
       "      <td>50816</td>\n",
       "      <td>2014-07-01</td>\n",
       "      <td>2014-09-30</td>\n",
       "      <td>50816IN0130034</td>\n",
       "      <td>Rating Area 11</td>\n",
       "      <td>Tobacco User/Non-Tobacco User</td>\n",
       "      <td>48</td>\n",
       "      <td>511.73</td>\n",
       "      <td>767.59</td>\n",
       "      <td>15636</td>\n",
       "    </tr>\n",
       "    <tr>\n",
       "      <th>214510</th>\n",
       "      <td>2014</td>\n",
       "      <td>FL</td>\n",
       "      <td>16842</td>\n",
       "      <td>HIOS</td>\n",
       "      <td>6</td>\n",
       "      <td>16842</td>\n",
       "      <td>2014-01-01</td>\n",
       "      <td>2014-12-31</td>\n",
       "      <td>16842FL0070110</td>\n",
       "      <td>Rating Area 56</td>\n",
       "      <td>Tobacco User/Non-Tobacco User</td>\n",
       "      <td>32</td>\n",
       "      <td>350.19</td>\n",
       "      <td>420.23</td>\n",
       "      <td>10376</td>\n",
       "    </tr>\n",
       "    <tr>\n",
       "      <th>2145764</th>\n",
       "      <td>2014</td>\n",
       "      <td>ID</td>\n",
       "      <td>60597</td>\n",
       "      <td>SERFF</td>\n",
       "      <td>9</td>\n",
       "      <td>60597</td>\n",
       "      <td>2014-01-01</td>\n",
       "      <td>2014-12-31</td>\n",
       "      <td>60597ID0170006</td>\n",
       "      <td>Rating Area 3</td>\n",
       "      <td>Tobacco User/Non-Tobacco User</td>\n",
       "      <td>54</td>\n",
       "      <td>490.00</td>\n",
       "      <td>735.00</td>\n",
       "      <td>2670</td>\n",
       "    </tr>\n",
       "    <tr>\n",
       "      <th>2198867</th>\n",
       "      <td>2014</td>\n",
       "      <td>WI</td>\n",
       "      <td>38166</td>\n",
       "      <td>HIOS</td>\n",
       "      <td>5</td>\n",
       "      <td>38166</td>\n",
       "      <td>2014-04-01</td>\n",
       "      <td>2014-06-30</td>\n",
       "      <td>38166WI0150007</td>\n",
       "      <td>Rating Area 16</td>\n",
       "      <td>No Preference</td>\n",
       "      <td>47</td>\n",
       "      <td>506.95</td>\n",
       "      <td>0.00</td>\n",
       "      <td>7033</td>\n",
       "    </tr>\n",
       "    <tr>\n",
       "      <th>1184366</th>\n",
       "      <td>2014</td>\n",
       "      <td>SC</td>\n",
       "      <td>26065</td>\n",
       "      <td>HIOS</td>\n",
       "      <td>4</td>\n",
       "      <td>26065</td>\n",
       "      <td>2014-01-01</td>\n",
       "      <td>2014-12-31</td>\n",
       "      <td>26065SC0380002</td>\n",
       "      <td>Rating Area 39</td>\n",
       "      <td>Tobacco User/Non-Tobacco User</td>\n",
       "      <td>38</td>\n",
       "      <td>340.56</td>\n",
       "      <td>408.67</td>\n",
       "      <td>3896</td>\n",
       "    </tr>\n",
       "  </tbody>\n",
       "</table>\n",
       "</div>"
      ],
      "text/plain": [
       "         BusinessYear StateCode  IssuerId SourceName  VersionNum  IssuerId2  \\\n",
       "1049554          2014        IN     50816       HIOS           9      50816   \n",
       "214510           2014        FL     16842       HIOS           6      16842   \n",
       "2145764          2014        ID     60597      SERFF           9      60597   \n",
       "2198867          2014        WI     38166       HIOS           5      38166   \n",
       "1184366          2014        SC     26065       HIOS           4      26065   \n",
       "\n",
       "        RateEffectiveDate RateExpirationDate          PlanId    RatingAreaId  \\\n",
       "1049554        2014-07-01         2014-09-30  50816IN0130034  Rating Area 11   \n",
       "214510         2014-01-01         2014-12-31  16842FL0070110  Rating Area 56   \n",
       "2145764        2014-01-01         2014-12-31  60597ID0170006   Rating Area 3   \n",
       "2198867        2014-04-01         2014-06-30  38166WI0150007  Rating Area 16   \n",
       "1184366        2014-01-01         2014-12-31  26065SC0380002  Rating Area 39   \n",
       "\n",
       "                               Tobacco Age  IndividualRate  \\\n",
       "1049554  Tobacco User/Non-Tobacco User  48          511.73   \n",
       "214510   Tobacco User/Non-Tobacco User  32          350.19   \n",
       "2145764  Tobacco User/Non-Tobacco User  54          490.00   \n",
       "2198867                  No Preference  47          506.95   \n",
       "1184366  Tobacco User/Non-Tobacco User  38          340.56   \n",
       "\n",
       "         IndividualTobaccoRate  RowNumber  \n",
       "1049554                 767.59      15636  \n",
       "214510                  420.23      10376  \n",
       "2145764                 735.00       2670  \n",
       "2198867                   0.00       7033  \n",
       "1184366                 408.67       3896  "
      ]
     },
     "execution_count": 27,
     "metadata": {},
     "output_type": "execute_result"
    }
   ],
   "source": [
    "rate_df.head()"
   ]
  },
  {
   "cell_type": "code",
   "execution_count": 28,
   "metadata": {
    "colab": {
     "base_uri": "https://localhost:8080/"
    },
    "executionInfo": {
     "elapsed": 1189,
     "status": "ok",
     "timestamp": 1723290353726,
     "user": {
      "displayName": "Abhishek Ghodekar",
      "userId": "06263796080899894595"
     },
     "user_tz": -330
    },
    "id": "ct8PN22DRXBq",
    "outputId": "87f43b83-f1e7-4182-8bf0-a9514db13bd8"
   },
   "outputs": [
    {
     "name": "stdout",
     "output_type": "stream",
     "text": [
      "BusinessYear                 2\n",
      "StateCode                   36\n",
      "IssuerId                   473\n",
      "SourceName                   3\n",
      "VersionNum                  16\n",
      "IssuerId2                  473\n",
      "RateEffectiveDate            9\n",
      "RateExpirationDate          19\n",
      "PlanId                    6595\n",
      "RatingAreaId                67\n",
      "Tobacco                      2\n",
      "Age                         47\n",
      "IndividualRate           61427\n",
      "IndividualTobaccoRate    51201\n",
      "RowNumber                31141\n",
      "dtype: int64\n"
     ]
    }
   ],
   "source": [
    "# Get the number of unique values for each column\n",
    "unique_values_count = rate_df.nunique()\n",
    "\n",
    "# Print the number of unique values for each column\n",
    "print(unique_values_count)"
   ]
  },
  {
   "cell_type": "code",
   "execution_count": 29,
   "metadata": {
    "colab": {
     "base_uri": "https://localhost:8080/"
    },
    "executionInfo": {
     "elapsed": 673,
     "status": "ok",
     "timestamp": 1723290356913,
     "user": {
      "displayName": "Abhishek Ghodekar",
      "userId": "06263796080899894595"
     },
     "user_tz": -330
    },
    "id": "c4VvLwINSMrT",
    "outputId": "80764257-4cc5-4b43-f75e-39a39790c177"
   },
   "outputs": [
    {
     "name": "stdout",
     "output_type": "stream",
     "text": [
      "['Tobacco User/Non-Tobacco User' 'No Preference']\n"
     ]
    }
   ],
   "source": [
    "# Get the unique values in the 'Tobacco' column\n",
    "unique_tobacco_values = rate_df['Tobacco'].unique()\n",
    "\n",
    "# Print the unique values\n",
    "print(unique_tobacco_values)"
   ]
  },
  {
   "cell_type": "code",
   "execution_count": 30,
   "metadata": {
    "colab": {
     "base_uri": "https://localhost:8080/",
     "height": 451
    },
    "executionInfo": {
     "elapsed": 451,
     "status": "ok",
     "timestamp": 1723290362504,
     "user": {
      "displayName": "Abhishek Ghodekar",
      "userId": "06263796080899894595"
     },
     "user_tz": -330
    },
    "id": "9n0QVMEdTC6Z",
    "outputId": "0c6c9f72-5419-4555-8629-ada198d32a1e"
   },
   "outputs": [
    {
     "data": {
      "text/html": [
       "<div>\n",
       "<style scoped>\n",
       "    .dataframe tbody tr th:only-of-type {\n",
       "        vertical-align: middle;\n",
       "    }\n",
       "\n",
       "    .dataframe tbody tr th {\n",
       "        vertical-align: top;\n",
       "    }\n",
       "\n",
       "    .dataframe thead th {\n",
       "        text-align: right;\n",
       "    }\n",
       "</style>\n",
       "<table border=\"1\" class=\"dataframe\">\n",
       "  <thead>\n",
       "    <tr style=\"text-align: right;\">\n",
       "      <th></th>\n",
       "      <th>BusinessYear</th>\n",
       "      <th>StateCode</th>\n",
       "      <th>IssuerId</th>\n",
       "      <th>SourceName</th>\n",
       "      <th>VersionNum</th>\n",
       "      <th>IssuerId2</th>\n",
       "      <th>RateEffectiveDate</th>\n",
       "      <th>RateExpirationDate</th>\n",
       "      <th>PlanId</th>\n",
       "      <th>RatingAreaId</th>\n",
       "      <th>Tobacco</th>\n",
       "      <th>Age</th>\n",
       "      <th>IndividualRate</th>\n",
       "      <th>IndividualTobaccoRate</th>\n",
       "      <th>RowNumber</th>\n",
       "    </tr>\n",
       "  </thead>\n",
       "  <tbody>\n",
       "    <tr>\n",
       "      <th>1049554</th>\n",
       "      <td>2014</td>\n",
       "      <td>IN</td>\n",
       "      <td>50816</td>\n",
       "      <td>HIOS</td>\n",
       "      <td>9</td>\n",
       "      <td>50816</td>\n",
       "      <td>2014-07-01</td>\n",
       "      <td>2014-09-30</td>\n",
       "      <td>50816IN0130034</td>\n",
       "      <td>Rating Area 11</td>\n",
       "      <td>Tobacco User/Non-Tobacco User</td>\n",
       "      <td>48</td>\n",
       "      <td>511.73</td>\n",
       "      <td>767.59</td>\n",
       "      <td>15636</td>\n",
       "    </tr>\n",
       "    <tr>\n",
       "      <th>214510</th>\n",
       "      <td>2014</td>\n",
       "      <td>FL</td>\n",
       "      <td>16842</td>\n",
       "      <td>HIOS</td>\n",
       "      <td>6</td>\n",
       "      <td>16842</td>\n",
       "      <td>2014-01-01</td>\n",
       "      <td>2014-12-31</td>\n",
       "      <td>16842FL0070110</td>\n",
       "      <td>Rating Area 56</td>\n",
       "      <td>Tobacco User/Non-Tobacco User</td>\n",
       "      <td>32</td>\n",
       "      <td>350.19</td>\n",
       "      <td>420.23</td>\n",
       "      <td>10376</td>\n",
       "    </tr>\n",
       "    <tr>\n",
       "      <th>2145764</th>\n",
       "      <td>2014</td>\n",
       "      <td>ID</td>\n",
       "      <td>60597</td>\n",
       "      <td>SERFF</td>\n",
       "      <td>9</td>\n",
       "      <td>60597</td>\n",
       "      <td>2014-01-01</td>\n",
       "      <td>2014-12-31</td>\n",
       "      <td>60597ID0170006</td>\n",
       "      <td>Rating Area 3</td>\n",
       "      <td>Tobacco User/Non-Tobacco User</td>\n",
       "      <td>54</td>\n",
       "      <td>490.00</td>\n",
       "      <td>735.00</td>\n",
       "      <td>2670</td>\n",
       "    </tr>\n",
       "    <tr>\n",
       "      <th>2198867</th>\n",
       "      <td>2014</td>\n",
       "      <td>WI</td>\n",
       "      <td>38166</td>\n",
       "      <td>HIOS</td>\n",
       "      <td>5</td>\n",
       "      <td>38166</td>\n",
       "      <td>2014-04-01</td>\n",
       "      <td>2014-06-30</td>\n",
       "      <td>38166WI0150007</td>\n",
       "      <td>Rating Area 16</td>\n",
       "      <td>No Preference</td>\n",
       "      <td>47</td>\n",
       "      <td>506.95</td>\n",
       "      <td>0.00</td>\n",
       "      <td>7033</td>\n",
       "    </tr>\n",
       "    <tr>\n",
       "      <th>1184366</th>\n",
       "      <td>2014</td>\n",
       "      <td>SC</td>\n",
       "      <td>26065</td>\n",
       "      <td>HIOS</td>\n",
       "      <td>4</td>\n",
       "      <td>26065</td>\n",
       "      <td>2014-01-01</td>\n",
       "      <td>2014-12-31</td>\n",
       "      <td>26065SC0380002</td>\n",
       "      <td>Rating Area 39</td>\n",
       "      <td>Tobacco User/Non-Tobacco User</td>\n",
       "      <td>38</td>\n",
       "      <td>340.56</td>\n",
       "      <td>408.67</td>\n",
       "      <td>3896</td>\n",
       "    </tr>\n",
       "  </tbody>\n",
       "</table>\n",
       "</div>"
      ],
      "text/plain": [
       "         BusinessYear StateCode  IssuerId SourceName  VersionNum  IssuerId2  \\\n",
       "1049554          2014        IN     50816       HIOS           9      50816   \n",
       "214510           2014        FL     16842       HIOS           6      16842   \n",
       "2145764          2014        ID     60597      SERFF           9      60597   \n",
       "2198867          2014        WI     38166       HIOS           5      38166   \n",
       "1184366          2014        SC     26065       HIOS           4      26065   \n",
       "\n",
       "        RateEffectiveDate RateExpirationDate          PlanId    RatingAreaId  \\\n",
       "1049554        2014-07-01         2014-09-30  50816IN0130034  Rating Area 11   \n",
       "214510         2014-01-01         2014-12-31  16842FL0070110  Rating Area 56   \n",
       "2145764        2014-01-01         2014-12-31  60597ID0170006   Rating Area 3   \n",
       "2198867        2014-04-01         2014-06-30  38166WI0150007  Rating Area 16   \n",
       "1184366        2014-01-01         2014-12-31  26065SC0380002  Rating Area 39   \n",
       "\n",
       "                               Tobacco Age  IndividualRate  \\\n",
       "1049554  Tobacco User/Non-Tobacco User  48          511.73   \n",
       "214510   Tobacco User/Non-Tobacco User  32          350.19   \n",
       "2145764  Tobacco User/Non-Tobacco User  54          490.00   \n",
       "2198867                  No Preference  47          506.95   \n",
       "1184366  Tobacco User/Non-Tobacco User  38          340.56   \n",
       "\n",
       "         IndividualTobaccoRate  RowNumber  \n",
       "1049554                 767.59      15636  \n",
       "214510                  420.23      10376  \n",
       "2145764                 735.00       2670  \n",
       "2198867                   0.00       7033  \n",
       "1184366                 408.67       3896  "
      ]
     },
     "execution_count": 30,
     "metadata": {},
     "output_type": "execute_result"
    }
   ],
   "source": [
    "rate_df.head()"
   ]
  },
  {
   "cell_type": "code",
   "execution_count": 31,
   "metadata": {
    "colab": {
     "base_uri": "https://localhost:8080/"
    },
    "executionInfo": {
     "elapsed": 450,
     "status": "ok",
     "timestamp": 1723290369124,
     "user": {
      "displayName": "Abhishek Ghodekar",
      "userId": "06263796080899894595"
     },
     "user_tz": -330
    },
    "id": "k4MW2r-wTkMF",
    "outputId": "709f30f8-0880-463e-fedc-3accce267978"
   },
   "outputs": [
    {
     "name": "stdout",
     "output_type": "stream",
     "text": [
      "1049554    Rating Area 11\n",
      "214510     Rating Area 56\n",
      "2145764     Rating Area 3\n",
      "2198867    Rating Area 16\n",
      "1184366    Rating Area 39\n",
      "Name: RatingAreaId, dtype: object\n"
     ]
    }
   ],
   "source": [
    "# Get the unique values in the 'RatingAreaID' column\n",
    "RatingAreaID_values = rate_df['RatingAreaId'].head()\n",
    "\n",
    "# Print the unique values\n",
    "print(RatingAreaID_values)"
   ]
  },
  {
   "cell_type": "code",
   "execution_count": 32,
   "metadata": {
    "colab": {
     "base_uri": "https://localhost:8080/"
    },
    "executionInfo": {
     "elapsed": 1165,
     "status": "ok",
     "timestamp": 1723290373085,
     "user": {
      "displayName": "Abhishek Ghodekar",
      "userId": "06263796080899894595"
     },
     "user_tz": -330
    },
    "id": "8ME8p9weT8eO",
    "outputId": "5592e5bd-b30b-4c85-f4b9-a2a506b203c5"
   },
   "outputs": [
    {
     "name": "stdout",
     "output_type": "stream",
     "text": [
      "1049554    11\n",
      "214510     56\n",
      "2145764     3\n",
      "2198867    16\n",
      "1184366    39\n",
      "Name: RatingAreaId, dtype: object\n"
     ]
    }
   ],
   "source": [
    "# Remove 'Rating Area ' and keep only the numeric value\n",
    "rate_df['RatingAreaId'] = rate_df['RatingAreaId'].str.replace('Rating Area ', '', regex=False)\n",
    "\n",
    "# Verify the changes\n",
    "print(rate_df['RatingAreaId'].head())"
   ]
  },
  {
   "cell_type": "code",
   "execution_count": 33,
   "metadata": {
    "colab": {
     "base_uri": "https://localhost:8080/"
    },
    "executionInfo": {
     "elapsed": 466,
     "status": "ok",
     "timestamp": 1723290430791,
     "user": {
      "displayName": "Abhishek Ghodekar",
      "userId": "06263796080899894595"
     },
     "user_tz": -330
    },
    "id": "TTWWFlHRUc2L",
    "outputId": "23c8da42-6d92-45f2-81c0-a9a1b6898fcc"
   },
   "outputs": [
    {
     "name": "stdout",
     "output_type": "stream",
     "text": [
      "BusinessYear                      int64\n",
      "StateCode                        object\n",
      "IssuerId                          int64\n",
      "SourceName                       object\n",
      "VersionNum                        int64\n",
      "IssuerId2                         int64\n",
      "RateEffectiveDate        datetime64[ns]\n",
      "RateExpirationDate       datetime64[ns]\n",
      "PlanId                           object\n",
      "RatingAreaId                     object\n",
      "Tobacco                          object\n",
      "Age                              object\n",
      "IndividualRate                  float64\n",
      "IndividualTobaccoRate           float64\n",
      "RowNumber                         int64\n",
      "dtype: object\n"
     ]
    }
   ],
   "source": [
    "# Convert 'RateEffectiveDate' and 'RateExpirationDate' to datetime\n",
    "rate_df['RateEffectiveDate'] = pd.to_datetime(rate_df['RateEffectiveDate'])\n",
    "rate_df['RateExpirationDate'] = pd.to_datetime(rate_df['RateExpirationDate'])\n",
    "\n",
    "# Verify the changes\n",
    "print(rate_df.dtypes)"
   ]
  },
  {
   "cell_type": "code",
   "execution_count": 34,
   "metadata": {
    "colab": {
     "base_uri": "https://localhost:8080/",
     "height": 568
    },
    "executionInfo": {
     "elapsed": 726,
     "status": "error",
     "timestamp": 1723290510163,
     "user": {
      "displayName": "Abhishek Ghodekar",
      "userId": "06263796080899894595"
     },
     "user_tz": -330
    },
    "id": "Twg-qsiqU6Qm",
    "outputId": "49fcec63-1aa3-4ba8-f83a-e6f61f50c190"
   },
   "outputs": [
    {
     "name": "stdout",
     "output_type": "stream",
     "text": [
      "Index(['BusinessYear', 'StateCode', 'IssuerId', 'SourceName', 'VersionNum',\n",
      "       'IssuerId2', 'PlanId', 'RatingAreaId', 'Tobacco', 'Age',\n",
      "       'IndividualRate', 'IndividualTobaccoRate', 'RowNumber', 'RateDuration'],\n",
      "      dtype='object')\n"
     ]
    }
   ],
   "source": [
    "# Calculate the difference between 'RateEffectiveDate' and 'RateExpirationDate'\n",
    "rate_df['RateDuration'] = rate_df['RateExpirationDate'] - rate_df['RateEffectiveDate']\n",
    "\n",
    "# Drop the original 'RateEffectiveDate' and 'RateExpirationDate' columns\n",
    "rate_df.drop(columns=['RateEffectiveDate', 'RateExpirationDate'], inplace=True)\n",
    "\n",
    "print(rate_df.columns)"
   ]
  },
  {
   "cell_type": "code",
   "execution_count": 35,
   "metadata": {
    "id": "bpnW55CFVjTo"
   },
   "outputs": [],
   "source": [
    "# Create a list of columns in the desired order\n",
    "columns = [col for col in rate_df.columns if col != 'IndividualRate'] + ['IndividualRate']\n",
    "\n",
    "# Reorder the DataFrame columns\n",
    "df = rate_df[columns]"
   ]
  },
  {
   "cell_type": "code",
   "execution_count": 36,
   "metadata": {
    "colab": {
     "base_uri": "https://localhost:8080/",
     "height": 451
    },
    "executionInfo": {
     "elapsed": 487,
     "status": "ok",
     "timestamp": 1723290524081,
     "user": {
      "displayName": "Abhishek Ghodekar",
      "userId": "06263796080899894595"
     },
     "user_tz": -330
    },
    "id": "JXlIeV_XVnIU",
    "outputId": "0ae8b794-a7e7-40a7-9dbb-399724c4c419"
   },
   "outputs": [
    {
     "data": {
      "text/html": [
       "<div>\n",
       "<style scoped>\n",
       "    .dataframe tbody tr th:only-of-type {\n",
       "        vertical-align: middle;\n",
       "    }\n",
       "\n",
       "    .dataframe tbody tr th {\n",
       "        vertical-align: top;\n",
       "    }\n",
       "\n",
       "    .dataframe thead th {\n",
       "        text-align: right;\n",
       "    }\n",
       "</style>\n",
       "<table border=\"1\" class=\"dataframe\">\n",
       "  <thead>\n",
       "    <tr style=\"text-align: right;\">\n",
       "      <th></th>\n",
       "      <th>BusinessYear</th>\n",
       "      <th>StateCode</th>\n",
       "      <th>IssuerId</th>\n",
       "      <th>SourceName</th>\n",
       "      <th>VersionNum</th>\n",
       "      <th>IssuerId2</th>\n",
       "      <th>PlanId</th>\n",
       "      <th>RatingAreaId</th>\n",
       "      <th>Tobacco</th>\n",
       "      <th>Age</th>\n",
       "      <th>IndividualTobaccoRate</th>\n",
       "      <th>RowNumber</th>\n",
       "      <th>RateDuration</th>\n",
       "      <th>IndividualRate</th>\n",
       "    </tr>\n",
       "  </thead>\n",
       "  <tbody>\n",
       "    <tr>\n",
       "      <th>1049554</th>\n",
       "      <td>2014</td>\n",
       "      <td>IN</td>\n",
       "      <td>50816</td>\n",
       "      <td>HIOS</td>\n",
       "      <td>9</td>\n",
       "      <td>50816</td>\n",
       "      <td>50816IN0130034</td>\n",
       "      <td>11</td>\n",
       "      <td>Tobacco User/Non-Tobacco User</td>\n",
       "      <td>48</td>\n",
       "      <td>767.59</td>\n",
       "      <td>15636</td>\n",
       "      <td>91 days</td>\n",
       "      <td>511.73</td>\n",
       "    </tr>\n",
       "    <tr>\n",
       "      <th>214510</th>\n",
       "      <td>2014</td>\n",
       "      <td>FL</td>\n",
       "      <td>16842</td>\n",
       "      <td>HIOS</td>\n",
       "      <td>6</td>\n",
       "      <td>16842</td>\n",
       "      <td>16842FL0070110</td>\n",
       "      <td>56</td>\n",
       "      <td>Tobacco User/Non-Tobacco User</td>\n",
       "      <td>32</td>\n",
       "      <td>420.23</td>\n",
       "      <td>10376</td>\n",
       "      <td>364 days</td>\n",
       "      <td>350.19</td>\n",
       "    </tr>\n",
       "    <tr>\n",
       "      <th>2145764</th>\n",
       "      <td>2014</td>\n",
       "      <td>ID</td>\n",
       "      <td>60597</td>\n",
       "      <td>SERFF</td>\n",
       "      <td>9</td>\n",
       "      <td>60597</td>\n",
       "      <td>60597ID0170006</td>\n",
       "      <td>3</td>\n",
       "      <td>Tobacco User/Non-Tobacco User</td>\n",
       "      <td>54</td>\n",
       "      <td>735.00</td>\n",
       "      <td>2670</td>\n",
       "      <td>364 days</td>\n",
       "      <td>490.00</td>\n",
       "    </tr>\n",
       "    <tr>\n",
       "      <th>2198867</th>\n",
       "      <td>2014</td>\n",
       "      <td>WI</td>\n",
       "      <td>38166</td>\n",
       "      <td>HIOS</td>\n",
       "      <td>5</td>\n",
       "      <td>38166</td>\n",
       "      <td>38166WI0150007</td>\n",
       "      <td>16</td>\n",
       "      <td>No Preference</td>\n",
       "      <td>47</td>\n",
       "      <td>0.00</td>\n",
       "      <td>7033</td>\n",
       "      <td>90 days</td>\n",
       "      <td>506.95</td>\n",
       "    </tr>\n",
       "    <tr>\n",
       "      <th>1184366</th>\n",
       "      <td>2014</td>\n",
       "      <td>SC</td>\n",
       "      <td>26065</td>\n",
       "      <td>HIOS</td>\n",
       "      <td>4</td>\n",
       "      <td>26065</td>\n",
       "      <td>26065SC0380002</td>\n",
       "      <td>39</td>\n",
       "      <td>Tobacco User/Non-Tobacco User</td>\n",
       "      <td>38</td>\n",
       "      <td>408.67</td>\n",
       "      <td>3896</td>\n",
       "      <td>364 days</td>\n",
       "      <td>340.56</td>\n",
       "    </tr>\n",
       "  </tbody>\n",
       "</table>\n",
       "</div>"
      ],
      "text/plain": [
       "         BusinessYear StateCode  IssuerId SourceName  VersionNum  IssuerId2  \\\n",
       "1049554          2014        IN     50816       HIOS           9      50816   \n",
       "214510           2014        FL     16842       HIOS           6      16842   \n",
       "2145764          2014        ID     60597      SERFF           9      60597   \n",
       "2198867          2014        WI     38166       HIOS           5      38166   \n",
       "1184366          2014        SC     26065       HIOS           4      26065   \n",
       "\n",
       "                 PlanId RatingAreaId                        Tobacco Age  \\\n",
       "1049554  50816IN0130034           11  Tobacco User/Non-Tobacco User  48   \n",
       "214510   16842FL0070110           56  Tobacco User/Non-Tobacco User  32   \n",
       "2145764  60597ID0170006            3  Tobacco User/Non-Tobacco User  54   \n",
       "2198867  38166WI0150007           16                  No Preference  47   \n",
       "1184366  26065SC0380002           39  Tobacco User/Non-Tobacco User  38   \n",
       "\n",
       "         IndividualTobaccoRate  RowNumber RateDuration  IndividualRate  \n",
       "1049554                 767.59      15636      91 days          511.73  \n",
       "214510                  420.23      10376     364 days          350.19  \n",
       "2145764                 735.00       2670     364 days          490.00  \n",
       "2198867                   0.00       7033      90 days          506.95  \n",
       "1184366                 408.67       3896     364 days          340.56  "
      ]
     },
     "execution_count": 36,
     "metadata": {},
     "output_type": "execute_result"
    }
   ],
   "source": [
    "df.head()"
   ]
  },
  {
   "cell_type": "code",
   "execution_count": 37,
   "metadata": {
    "id": "_kbd8lwQWLtW"
   },
   "outputs": [],
   "source": [
    "# Convert 'RateDuration' to the number of days as integer\n",
    "df['RateDuration'] = df['RateDuration'].dt.days"
   ]
  },
  {
   "cell_type": "code",
   "execution_count": 38,
   "metadata": {
    "colab": {
     "base_uri": "https://localhost:8080/",
     "height": 451
    },
    "executionInfo": {
     "elapsed": 453,
     "status": "ok",
     "timestamp": 1723290531407,
     "user": {
      "displayName": "Abhishek Ghodekar",
      "userId": "06263796080899894595"
     },
     "user_tz": -330
    },
    "id": "HQTF0fEHWM3A",
    "outputId": "46c52c51-4b31-46f8-8acf-23b67ae2704a"
   },
   "outputs": [
    {
     "data": {
      "text/html": [
       "<div>\n",
       "<style scoped>\n",
       "    .dataframe tbody tr th:only-of-type {\n",
       "        vertical-align: middle;\n",
       "    }\n",
       "\n",
       "    .dataframe tbody tr th {\n",
       "        vertical-align: top;\n",
       "    }\n",
       "\n",
       "    .dataframe thead th {\n",
       "        text-align: right;\n",
       "    }\n",
       "</style>\n",
       "<table border=\"1\" class=\"dataframe\">\n",
       "  <thead>\n",
       "    <tr style=\"text-align: right;\">\n",
       "      <th></th>\n",
       "      <th>BusinessYear</th>\n",
       "      <th>StateCode</th>\n",
       "      <th>IssuerId</th>\n",
       "      <th>SourceName</th>\n",
       "      <th>VersionNum</th>\n",
       "      <th>IssuerId2</th>\n",
       "      <th>PlanId</th>\n",
       "      <th>RatingAreaId</th>\n",
       "      <th>Tobacco</th>\n",
       "      <th>Age</th>\n",
       "      <th>IndividualTobaccoRate</th>\n",
       "      <th>RowNumber</th>\n",
       "      <th>RateDuration</th>\n",
       "      <th>IndividualRate</th>\n",
       "    </tr>\n",
       "  </thead>\n",
       "  <tbody>\n",
       "    <tr>\n",
       "      <th>1049554</th>\n",
       "      <td>2014</td>\n",
       "      <td>IN</td>\n",
       "      <td>50816</td>\n",
       "      <td>HIOS</td>\n",
       "      <td>9</td>\n",
       "      <td>50816</td>\n",
       "      <td>50816IN0130034</td>\n",
       "      <td>11</td>\n",
       "      <td>Tobacco User/Non-Tobacco User</td>\n",
       "      <td>48</td>\n",
       "      <td>767.59</td>\n",
       "      <td>15636</td>\n",
       "      <td>91</td>\n",
       "      <td>511.73</td>\n",
       "    </tr>\n",
       "    <tr>\n",
       "      <th>214510</th>\n",
       "      <td>2014</td>\n",
       "      <td>FL</td>\n",
       "      <td>16842</td>\n",
       "      <td>HIOS</td>\n",
       "      <td>6</td>\n",
       "      <td>16842</td>\n",
       "      <td>16842FL0070110</td>\n",
       "      <td>56</td>\n",
       "      <td>Tobacco User/Non-Tobacco User</td>\n",
       "      <td>32</td>\n",
       "      <td>420.23</td>\n",
       "      <td>10376</td>\n",
       "      <td>364</td>\n",
       "      <td>350.19</td>\n",
       "    </tr>\n",
       "    <tr>\n",
       "      <th>2145764</th>\n",
       "      <td>2014</td>\n",
       "      <td>ID</td>\n",
       "      <td>60597</td>\n",
       "      <td>SERFF</td>\n",
       "      <td>9</td>\n",
       "      <td>60597</td>\n",
       "      <td>60597ID0170006</td>\n",
       "      <td>3</td>\n",
       "      <td>Tobacco User/Non-Tobacco User</td>\n",
       "      <td>54</td>\n",
       "      <td>735.00</td>\n",
       "      <td>2670</td>\n",
       "      <td>364</td>\n",
       "      <td>490.00</td>\n",
       "    </tr>\n",
       "    <tr>\n",
       "      <th>2198867</th>\n",
       "      <td>2014</td>\n",
       "      <td>WI</td>\n",
       "      <td>38166</td>\n",
       "      <td>HIOS</td>\n",
       "      <td>5</td>\n",
       "      <td>38166</td>\n",
       "      <td>38166WI0150007</td>\n",
       "      <td>16</td>\n",
       "      <td>No Preference</td>\n",
       "      <td>47</td>\n",
       "      <td>0.00</td>\n",
       "      <td>7033</td>\n",
       "      <td>90</td>\n",
       "      <td>506.95</td>\n",
       "    </tr>\n",
       "    <tr>\n",
       "      <th>1184366</th>\n",
       "      <td>2014</td>\n",
       "      <td>SC</td>\n",
       "      <td>26065</td>\n",
       "      <td>HIOS</td>\n",
       "      <td>4</td>\n",
       "      <td>26065</td>\n",
       "      <td>26065SC0380002</td>\n",
       "      <td>39</td>\n",
       "      <td>Tobacco User/Non-Tobacco User</td>\n",
       "      <td>38</td>\n",
       "      <td>408.67</td>\n",
       "      <td>3896</td>\n",
       "      <td>364</td>\n",
       "      <td>340.56</td>\n",
       "    </tr>\n",
       "  </tbody>\n",
       "</table>\n",
       "</div>"
      ],
      "text/plain": [
       "         BusinessYear StateCode  IssuerId SourceName  VersionNum  IssuerId2  \\\n",
       "1049554          2014        IN     50816       HIOS           9      50816   \n",
       "214510           2014        FL     16842       HIOS           6      16842   \n",
       "2145764          2014        ID     60597      SERFF           9      60597   \n",
       "2198867          2014        WI     38166       HIOS           5      38166   \n",
       "1184366          2014        SC     26065       HIOS           4      26065   \n",
       "\n",
       "                 PlanId RatingAreaId                        Tobacco Age  \\\n",
       "1049554  50816IN0130034           11  Tobacco User/Non-Tobacco User  48   \n",
       "214510   16842FL0070110           56  Tobacco User/Non-Tobacco User  32   \n",
       "2145764  60597ID0170006            3  Tobacco User/Non-Tobacco User  54   \n",
       "2198867  38166WI0150007           16                  No Preference  47   \n",
       "1184366  26065SC0380002           39  Tobacco User/Non-Tobacco User  38   \n",
       "\n",
       "         IndividualTobaccoRate  RowNumber  RateDuration  IndividualRate  \n",
       "1049554                 767.59      15636            91          511.73  \n",
       "214510                  420.23      10376           364          350.19  \n",
       "2145764                 735.00       2670           364          490.00  \n",
       "2198867                   0.00       7033            90          506.95  \n",
       "1184366                 408.67       3896           364          340.56  "
      ]
     },
     "execution_count": 38,
     "metadata": {},
     "output_type": "execute_result"
    }
   ],
   "source": [
    "df.head()"
   ]
  },
  {
   "cell_type": "code",
   "execution_count": 39,
   "metadata": {
    "id": "Ev9tAsimWvmG"
   },
   "outputs": [],
   "source": [
    "# Add 'IndividualRate' and 'IndividualTobaccoRate' to create 'Premium'\n",
    "df['Premium'] = df['IndividualRate'] + df['IndividualTobaccoRate']\n",
    "\n",
    "# Drop the original 'IndividualRate' and 'IndividualTobaccoRate' columns\n",
    "df.drop(columns=['IndividualRate', 'IndividualTobaccoRate'], inplace=True)"
   ]
  },
  {
   "cell_type": "code",
   "execution_count": 40,
   "metadata": {
    "colab": {
     "base_uri": "https://localhost:8080/",
     "height": 451
    },
    "executionInfo": {
     "elapsed": 615,
     "status": "ok",
     "timestamp": 1723290554275,
     "user": {
      "displayName": "Abhishek Ghodekar",
      "userId": "06263796080899894595"
     },
     "user_tz": -330
    },
    "id": "OqwUYN1eWxzh",
    "outputId": "cbc9d2f3-a8d9-4cf3-fda3-d7d3b98bec5d"
   },
   "outputs": [
    {
     "data": {
      "text/html": [
       "<div>\n",
       "<style scoped>\n",
       "    .dataframe tbody tr th:only-of-type {\n",
       "        vertical-align: middle;\n",
       "    }\n",
       "\n",
       "    .dataframe tbody tr th {\n",
       "        vertical-align: top;\n",
       "    }\n",
       "\n",
       "    .dataframe thead th {\n",
       "        text-align: right;\n",
       "    }\n",
       "</style>\n",
       "<table border=\"1\" class=\"dataframe\">\n",
       "  <thead>\n",
       "    <tr style=\"text-align: right;\">\n",
       "      <th></th>\n",
       "      <th>BusinessYear</th>\n",
       "      <th>StateCode</th>\n",
       "      <th>IssuerId</th>\n",
       "      <th>SourceName</th>\n",
       "      <th>VersionNum</th>\n",
       "      <th>IssuerId2</th>\n",
       "      <th>PlanId</th>\n",
       "      <th>RatingAreaId</th>\n",
       "      <th>Tobacco</th>\n",
       "      <th>Age</th>\n",
       "      <th>RowNumber</th>\n",
       "      <th>RateDuration</th>\n",
       "      <th>Premium</th>\n",
       "    </tr>\n",
       "  </thead>\n",
       "  <tbody>\n",
       "    <tr>\n",
       "      <th>1049554</th>\n",
       "      <td>2014</td>\n",
       "      <td>IN</td>\n",
       "      <td>50816</td>\n",
       "      <td>HIOS</td>\n",
       "      <td>9</td>\n",
       "      <td>50816</td>\n",
       "      <td>50816IN0130034</td>\n",
       "      <td>11</td>\n",
       "      <td>Tobacco User/Non-Tobacco User</td>\n",
       "      <td>48</td>\n",
       "      <td>15636</td>\n",
       "      <td>91</td>\n",
       "      <td>1279.32</td>\n",
       "    </tr>\n",
       "    <tr>\n",
       "      <th>214510</th>\n",
       "      <td>2014</td>\n",
       "      <td>FL</td>\n",
       "      <td>16842</td>\n",
       "      <td>HIOS</td>\n",
       "      <td>6</td>\n",
       "      <td>16842</td>\n",
       "      <td>16842FL0070110</td>\n",
       "      <td>56</td>\n",
       "      <td>Tobacco User/Non-Tobacco User</td>\n",
       "      <td>32</td>\n",
       "      <td>10376</td>\n",
       "      <td>364</td>\n",
       "      <td>770.42</td>\n",
       "    </tr>\n",
       "    <tr>\n",
       "      <th>2145764</th>\n",
       "      <td>2014</td>\n",
       "      <td>ID</td>\n",
       "      <td>60597</td>\n",
       "      <td>SERFF</td>\n",
       "      <td>9</td>\n",
       "      <td>60597</td>\n",
       "      <td>60597ID0170006</td>\n",
       "      <td>3</td>\n",
       "      <td>Tobacco User/Non-Tobacco User</td>\n",
       "      <td>54</td>\n",
       "      <td>2670</td>\n",
       "      <td>364</td>\n",
       "      <td>1225.00</td>\n",
       "    </tr>\n",
       "    <tr>\n",
       "      <th>2198867</th>\n",
       "      <td>2014</td>\n",
       "      <td>WI</td>\n",
       "      <td>38166</td>\n",
       "      <td>HIOS</td>\n",
       "      <td>5</td>\n",
       "      <td>38166</td>\n",
       "      <td>38166WI0150007</td>\n",
       "      <td>16</td>\n",
       "      <td>No Preference</td>\n",
       "      <td>47</td>\n",
       "      <td>7033</td>\n",
       "      <td>90</td>\n",
       "      <td>506.95</td>\n",
       "    </tr>\n",
       "    <tr>\n",
       "      <th>1184366</th>\n",
       "      <td>2014</td>\n",
       "      <td>SC</td>\n",
       "      <td>26065</td>\n",
       "      <td>HIOS</td>\n",
       "      <td>4</td>\n",
       "      <td>26065</td>\n",
       "      <td>26065SC0380002</td>\n",
       "      <td>39</td>\n",
       "      <td>Tobacco User/Non-Tobacco User</td>\n",
       "      <td>38</td>\n",
       "      <td>3896</td>\n",
       "      <td>364</td>\n",
       "      <td>749.23</td>\n",
       "    </tr>\n",
       "  </tbody>\n",
       "</table>\n",
       "</div>"
      ],
      "text/plain": [
       "         BusinessYear StateCode  IssuerId SourceName  VersionNum  IssuerId2  \\\n",
       "1049554          2014        IN     50816       HIOS           9      50816   \n",
       "214510           2014        FL     16842       HIOS           6      16842   \n",
       "2145764          2014        ID     60597      SERFF           9      60597   \n",
       "2198867          2014        WI     38166       HIOS           5      38166   \n",
       "1184366          2014        SC     26065       HIOS           4      26065   \n",
       "\n",
       "                 PlanId RatingAreaId                        Tobacco Age  \\\n",
       "1049554  50816IN0130034           11  Tobacco User/Non-Tobacco User  48   \n",
       "214510   16842FL0070110           56  Tobacco User/Non-Tobacco User  32   \n",
       "2145764  60597ID0170006            3  Tobacco User/Non-Tobacco User  54   \n",
       "2198867  38166WI0150007           16                  No Preference  47   \n",
       "1184366  26065SC0380002           39  Tobacco User/Non-Tobacco User  38   \n",
       "\n",
       "         RowNumber  RateDuration  Premium  \n",
       "1049554      15636            91  1279.32  \n",
       "214510       10376           364   770.42  \n",
       "2145764       2670           364  1225.00  \n",
       "2198867       7033            90   506.95  \n",
       "1184366       3896           364   749.23  "
      ]
     },
     "execution_count": 40,
     "metadata": {},
     "output_type": "execute_result"
    }
   ],
   "source": [
    "df.head()"
   ]
  },
  {
   "cell_type": "code",
   "execution_count": 41,
   "metadata": {
    "colab": {
     "base_uri": "https://localhost:8080/"
    },
    "executionInfo": {
     "elapsed": 466,
     "status": "ok",
     "timestamp": 1723290565241,
     "user": {
      "displayName": "Abhishek Ghodekar",
      "userId": "06263796080899894595"
     },
     "user_tz": -330
    },
    "id": "1QXcI9s9nZZv",
    "outputId": "00b28c58-b0b8-4a9e-fdb2-e8277e8ca734"
   },
   "outputs": [
    {
     "name": "stdout",
     "output_type": "stream",
     "text": [
      "Unique values in the 'Age' column:\n",
      "['48' '32' '54' '47' '38' '34' '41' '65 and over' '25' '35' '62' '63' '26'\n",
      " '39' '61' '58' '22' '37' '30' '51' '60' '23' '46' '53' '0-20' '31' '57'\n",
      " '29' '36' '21' '64' '55' '27' '59' '42' '45' '40' '50' '52' '33' '24'\n",
      " '28' '43' '44' '56' '49' 'Family Option']\n"
     ]
    }
   ],
   "source": [
    "# Get unique values in the 'Age' column\n",
    "unique_ages = df['Age'].unique()\n",
    "\n",
    "print(\"Unique values in the 'Age' column:\")\n",
    "print(unique_ages)"
   ]
  },
  {
   "cell_type": "code",
   "execution_count": 42,
   "metadata": {
    "id": "EtiO148CoVRH"
   },
   "outputs": [],
   "source": [
    "# Drop rows where 'Age' is 'Family Option'\n",
    "df = df[df['Age'] != 'Family Option']"
   ]
  },
  {
   "cell_type": "code",
   "execution_count": 43,
   "metadata": {
    "id": "NPhIqPVOpXtI"
   },
   "outputs": [],
   "source": [
    "# Impute '0-20' with 18\n",
    "df['Age'] = df['Age'].replace('0-20', 18)"
   ]
  },
  {
   "cell_type": "code",
   "execution_count": 44,
   "metadata": {
    "id": "qVpBijDvoWW6"
   },
   "outputs": [],
   "source": [
    "# Impute '65 and over' with 65\n",
    "df['Age'] = df['Age'].replace('65 and over', 65)"
   ]
  },
  {
   "cell_type": "code",
   "execution_count": null,
   "metadata": {},
   "outputs": [],
   "source": [
    "# Convert 'Age' and 'RatingAreaId' to numeric\n",
    "df['Age'] = pd.to_numeric(df['Age'], errors='coerce')\n",
    "df['RatingAreaId'] = pd.to_numeric(df['RatingAreaId'], errors='coerce')"
   ]
  },
  {
   "cell_type": "code",
   "execution_count": null,
   "metadata": {
    "colab": {
     "base_uri": "https://localhost:8080/",
     "height": 345
    },
    "executionInfo": {
     "elapsed": 488,
     "status": "ok",
     "timestamp": 1723288845838,
     "user": {
      "displayName": "Abhishek Ghodekar",
      "userId": "06263796080899894595"
     },
     "user_tz": -330
    },
    "id": "tELtrr9Rol1R",
    "outputId": "e837112f-455b-4b6a-d6bc-44e1be1f10f5",
    "scrolled": true
   },
   "outputs": [],
   "source": [
    "df.head()"
   ]
  },
  {
   "cell_type": "code",
   "execution_count": null,
   "metadata": {
    "colab": {
     "base_uri": "https://localhost:8080/",
     "height": 206
    },
    "executionInfo": {
     "elapsed": 2744,
     "status": "ok",
     "timestamp": 1723290618800,
     "user": {
      "displayName": "Abhishek Ghodekar",
      "userId": "06263796080899894595"
     },
     "user_tz": -330
    },
    "id": "2IknMVNVYQp4",
    "outputId": "3037e08e-5d73-49f7-86ab-89a651009adc"
   },
   "outputs": [],
   "source": [
    "from sklearn.preprocessing import LabelEncoder\n",
    "\n",
    "# Initialize LabelEncoder\n",
    "label_encoder = LabelEncoder()\n",
    "\n",
    "# Apply Label Encoding to the selected columns\n",
    "df['StateCode'] = label_encoder.fit_transform(df['StateCode'])\n",
    "df['Tobacco'] = label_encoder.fit_transform(df['Tobacco'])\n",
    "df['PlanId'] = label_encoder.fit_transform(df['PlanId'])\n",
    "df['SourceName']=label_encoder.fit_transform(df['SourceName'])\n",
    "\n",
    "# Display the transformed DataFrame\n",
    "df.head()"
   ]
  },
  {
   "cell_type": "code",
   "execution_count": null,
   "metadata": {},
   "outputs": [],
   "source": []
  },
  {
   "cell_type": "code",
   "execution_count": null,
   "metadata": {},
   "outputs": [],
   "source": [
    "# 2. Countplot of Tobacco Usage\n",
    "plt.figure(figsize=(8, 6))\n",
    "sns.countplot(x='Tobacco', data=rate_df)\n",
    "plt.title('Countplot of Tobacco Usage')\n",
    "plt.xlabel('Tobacco Usage')\n",
    "plt.ylabel('Count')\n",
    "plt.show()"
   ]
  },
  {
   "cell_type": "code",
   "execution_count": null,
   "metadata": {},
   "outputs": [],
   "source": [
    "# Assuming df is your DataFrame\n",
    "plt.figure(figsize=(10, 8))\n",
    "corr = df.corr()  # Calculate the correlation matrix\n",
    "sns.heatmap(corr, annot=True, cmap='coolwarm', fmt='.2f', linewidths=0.5)\n",
    "plt.title('Correlation Heatmap')\n",
    "plt.show()"
   ]
  },
  {
   "cell_type": "code",
   "execution_count": null,
   "metadata": {},
   "outputs": [],
   "source": [
    "import pandas as pd\n",
    "from sklearn.model_selection import train_test_split\n",
    "\n",
    "# Assuming df is your DataFrame\n",
    "X = df.drop(columns=['Premium'])  # Drop non-numeric or target columns\n",
    "y = df['Premium']\n",
    "\n",
    "# Split the data\n",
    "X_train, X_test, y_train, y_test = train_test_split(X, y, test_size=0.4, random_state=42)"
   ]
  },
  {
   "cell_type": "code",
   "execution_count": null,
   "metadata": {},
   "outputs": [],
   "source": [
    "# Initialize and train the model\n",
    "lr_model = LinearRegression()\n",
    "lr_model.fit(X_train, y_train)\n",
    "\n",
    "# Predict and evaluate\n",
    "y_pred_lr = lr_model.predict(X_test)\n",
    "mse_lr = mean_squared_error(y_test, y_pred_lr)\n",
    "rmse_lr = np.sqrt(mse_lr)\n",
    "mae_lr = mean_absolute_error(y_test, y_pred_lr)\n",
    "r2_lr = r2_score(y_test, y_pred_lr)\n",
    "\n",
    "print(f\"Linear Regression - RMSE: {rmse_lr}, MAE: {mae_lr}, R2: {r2_lr}\")"
   ]
  },
  {
   "cell_type": "code",
   "execution_count": null,
   "metadata": {
    "colab": {
     "base_uri": "https://localhost:8080/"
    },
    "executionInfo": {
     "elapsed": 4217,
     "status": "ok",
     "timestamp": 1723291061613,
     "user": {
      "displayName": "Abhishek Ghodekar",
      "userId": "06263796080899894595"
     },
     "user_tz": -330
    },
    "id": "n5xvhOuce4yy",
    "outputId": "f9723061-73b9-4e69-fbd6-f1b129ba8252"
   },
   "outputs": [],
   "source": [
    "from sklearn.tree import DecisionTreeRegressor\n",
    "\n",
    "# Initialize the model\n",
    "dt = DecisionTreeRegressor()\n",
    "\n",
    "# Train the model\n",
    "dt.fit(X_train, y_train)\n",
    "\n",
    "# Predict on the test set\n",
    "y_pred_dt = dt.predict(X_test)\n",
    "\n",
    "# Evaluate the model\n",
    "print(\"Decision Tree Performance:\")\n",
    "print(f\"Mean Squared Error: {mean_squared_error(y_test, y_pred_dt)}\")\n",
    "print(f\"R^2 Score: {r2_score(y_test, y_pred_dt)}\")\n"
   ]
  },
  {
   "cell_type": "code",
   "execution_count": null,
   "metadata": {
    "colab": {
     "base_uri": "https://localhost:8080/"
    },
    "executionInfo": {
     "elapsed": 258608,
     "status": "ok",
     "timestamp": 1723291335117,
     "user": {
      "displayName": "Abhishek Ghodekar",
      "userId": "06263796080899894595"
     },
     "user_tz": -330
    },
    "id": "xSLfyLJRfPHk",
    "outputId": "cecfe441-af36-4db2-f1c2-7b9881bf0f0b"
   },
   "outputs": [],
   "source": [
    "from sklearn.ensemble import RandomForestRegressor\n",
    "\n",
    "# Initialize the model\n",
    "rf = RandomForestRegressor(n_estimators=100, random_state=42)\n",
    "\n",
    "# Train the model\n",
    "rf.fit(X_train, y_train)\n",
    "\n",
    "# Predict on the test set\n",
    "y_pred_rf = rf.predict(X_test)\n",
    "\n",
    "# Evaluate the model\n",
    "print(\"Random Forest Performance:\")\n",
    "print(f\"Mean Squared Error: {mean_squared_error(y_test, y_pred_rf)}\")\n",
    "print(f\"R^2 Score: {r2_score(y_test, y_pred_rf)}\")\n"
   ]
  },
  {
   "cell_type": "code",
   "execution_count": null,
   "metadata": {
    "colab": {
     "base_uri": "https://localhost:8080/"
    },
    "executionInfo": {
     "elapsed": 7701,
     "status": "ok",
     "timestamp": 1723290741559,
     "user": {
      "displayName": "Abhishek Ghodekar",
      "userId": "06263796080899894595"
     },
     "user_tz": -330
    },
    "id": "73iczSIGsRYD",
    "outputId": "aaadd62d-00c6-4f06-f2f2-009f4c7a537b"
   },
   "outputs": [],
   "source": [
    "from sklearn.neighbors import KNeighborsRegressor\n",
    "\n",
    "# Initialize the model\n",
    "knn = KNeighborsRegressor(n_neighbors=5)\n",
    "\n",
    "# Train the model\n",
    "knn.fit(X_train, y_train)\n",
    "\n",
    "# Predict on the test set\n",
    "y_pred_knn = knn.predict(X_test)\n",
    "\n",
    "# Evaluate the model\n",
    "print(\"K-Nearest Neighbors Performance:\")\n",
    "print(f\"Mean Squared Error: {mean_squared_error(y_test, y_pred_knn)}\")\n",
    "print(f\"R^2 Score: {r2_score(y_test, y_pred_knn)}\")\n"
   ]
  },
  {
   "cell_type": "code",
   "execution_count": 51,
   "metadata": {},
   "outputs": [
    {
     "ename": "SyntaxError",
     "evalue": "invalid non-printable character U+00A0 (2946883033.py, line 12)",
     "output_type": "error",
     "traceback": [
      "\u001b[1;36m  Input \u001b[1;32mIn [51]\u001b[1;36m\u001b[0m\n\u001b[1;33m    pickle.dump(label_encoder_tobacco, file)\u001b[0m\n\u001b[1;37m                                      ^\u001b[0m\n\u001b[1;31mSyntaxError\u001b[0m\u001b[1;31m:\u001b[0m invalid non-printable character U+00A0\n"
     ]
    }
   ],
   "source": [
    "# Save the model and label encoders\n",
    "with open('knn_regression_model.pkl', 'wb') as file:\n",
    "    pickle.dump(model, file)\n",
    "\n",
    "with open('label_encoder_state.pkl', 'wb') as file:\n",
    "    pickle.dump(label_encoder_state, file)\n",
    "\n",
    "with open('label_encoder_source.pkl', 'wb') as file:\n",
    "    pickle.dump(label_encoder_source, file)\n",
    "\n",
    "with open('label_encoder_tobacco.pkl', 'wb') as file:\n",
    "    pickle.dump(label_encoder_tobacco, file)"
   ]
  },
  {
   "cell_type": "code",
   "execution_count": null,
   "metadata": {},
   "outputs": [],
   "source": []
  }
 ],
 "metadata": {
  "colab": {
   "authorship_tag": "ABX9TyNQa7nLM9XmYZkkoyczwS94",
   "provenance": []
  },
  "kernelspec": {
   "display_name": "Python 3 (ipykernel)",
   "language": "python",
   "name": "python3"
  },
  "language_info": {
   "codemirror_mode": {
    "name": "ipython",
    "version": 3
   },
   "file_extension": ".py",
   "mimetype": "text/x-python",
   "name": "python",
   "nbconvert_exporter": "python",
   "pygments_lexer": "ipython3",
   "version": "3.10.0"
  }
 },
 "nbformat": 4,
 "nbformat_minor": 4
}
